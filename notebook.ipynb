{
  "cells": [
    {
      "cell_type": "markdown",
      "metadata": {
        "id": "H9wADwK78DCz"
      },
      "source": [
        "# Proyek Analisis Data: Bike Sharing dataset\n",
        "- **Nama:** Alieffiea Widya Prawita\n",
        "- **Email:** alifwidya25@gmail.com\n",
        "- **ID Dicoding:** asterracea"
      ]
    },
    {
      "cell_type": "markdown",
      "metadata": {
        "id": "eE0raob58DC0"
      },
      "source": [
        "## Menentukan Pertanyaan Bisnis"
      ]
    },
    {
      "cell_type": "markdown",
      "metadata": {
        "id": "GmQeQ5YF8DC0"
      },
      "source": [
        "1. Bagaimana tren jumlah penyewaan sepeda dalam beberapa tahun terakhir\n",
        "2. Apakah kondisi cuaca mempengaruhi jumlah pengguna sepeda?\n"
      ]
    },
    {
      "cell_type": "markdown",
      "metadata": {
        "id": "H-z4QGlO8DC1"
      },
      "source": [
        "## Import Semua Packages/Library yang Digunakan"
      ]
    },
    {
      "cell_type": "code",
      "execution_count": 30,
      "metadata": {
        "id": "FVYwaObI8DC1"
      },
      "outputs": [],
      "source": [
        "import numpy as np\n",
        "import pandas as pd\n",
        "import matplotlib.pyplot as plt\n",
        "import seaborn as sns\n",
        "import plotly.express as px"
      ]
    },
    {
      "cell_type": "markdown",
      "metadata": {
        "id": "h_Sh51Xy8DC1"
      },
      "source": [
        "## Data Wrangling"
      ]
    },
    {
      "cell_type": "markdown",
      "metadata": {
        "id": "sXU2GBYu8DC1"
      },
      "source": [
        "### Gathering Data"
      ]
    },
    {
      "cell_type": "code",
      "execution_count": 31,
      "metadata": {
        "colab": {
          "base_uri": "https://localhost:8080/",
          "height": 313
        },
        "id": "L91Nttb0e0Zs",
        "outputId": "5f18ba45-7bfc-43cf-e06b-43137049c09b"
      },
      "outputs": [
        {
          "data": {
            "text/html": [
              "<div>\n",
              "<style scoped>\n",
              "    .dataframe tbody tr th:only-of-type {\n",
              "        vertical-align: middle;\n",
              "    }\n",
              "\n",
              "    .dataframe tbody tr th {\n",
              "        vertical-align: top;\n",
              "    }\n",
              "\n",
              "    .dataframe thead th {\n",
              "        text-align: right;\n",
              "    }\n",
              "</style>\n",
              "<table border=\"1\" class=\"dataframe\">\n",
              "  <thead>\n",
              "    <tr style=\"text-align: right;\">\n",
              "      <th></th>\n",
              "      <th>instant</th>\n",
              "      <th>dteday</th>\n",
              "      <th>season</th>\n",
              "      <th>yr</th>\n",
              "      <th>mnth</th>\n",
              "      <th>holiday</th>\n",
              "      <th>weekday</th>\n",
              "      <th>workingday</th>\n",
              "      <th>weathersit</th>\n",
              "      <th>temp</th>\n",
              "      <th>atemp</th>\n",
              "      <th>hum</th>\n",
              "      <th>windspeed</th>\n",
              "      <th>casual</th>\n",
              "      <th>registered</th>\n",
              "      <th>cnt</th>\n",
              "    </tr>\n",
              "  </thead>\n",
              "  <tbody>\n",
              "    <tr>\n",
              "      <th>0</th>\n",
              "      <td>1</td>\n",
              "      <td>2011-01-01</td>\n",
              "      <td>1</td>\n",
              "      <td>0</td>\n",
              "      <td>1</td>\n",
              "      <td>0</td>\n",
              "      <td>6</td>\n",
              "      <td>0</td>\n",
              "      <td>2</td>\n",
              "      <td>0.344167</td>\n",
              "      <td>0.363625</td>\n",
              "      <td>0.805833</td>\n",
              "      <td>0.160446</td>\n",
              "      <td>331</td>\n",
              "      <td>654</td>\n",
              "      <td>985</td>\n",
              "    </tr>\n",
              "    <tr>\n",
              "      <th>1</th>\n",
              "      <td>2</td>\n",
              "      <td>2011-01-02</td>\n",
              "      <td>1</td>\n",
              "      <td>0</td>\n",
              "      <td>1</td>\n",
              "      <td>0</td>\n",
              "      <td>0</td>\n",
              "      <td>0</td>\n",
              "      <td>2</td>\n",
              "      <td>0.363478</td>\n",
              "      <td>0.353739</td>\n",
              "      <td>0.696087</td>\n",
              "      <td>0.248539</td>\n",
              "      <td>131</td>\n",
              "      <td>670</td>\n",
              "      <td>801</td>\n",
              "    </tr>\n",
              "    <tr>\n",
              "      <th>2</th>\n",
              "      <td>3</td>\n",
              "      <td>2011-01-03</td>\n",
              "      <td>1</td>\n",
              "      <td>0</td>\n",
              "      <td>1</td>\n",
              "      <td>0</td>\n",
              "      <td>1</td>\n",
              "      <td>1</td>\n",
              "      <td>1</td>\n",
              "      <td>0.196364</td>\n",
              "      <td>0.189405</td>\n",
              "      <td>0.437273</td>\n",
              "      <td>0.248309</td>\n",
              "      <td>120</td>\n",
              "      <td>1229</td>\n",
              "      <td>1349</td>\n",
              "    </tr>\n",
              "    <tr>\n",
              "      <th>3</th>\n",
              "      <td>4</td>\n",
              "      <td>2011-01-04</td>\n",
              "      <td>1</td>\n",
              "      <td>0</td>\n",
              "      <td>1</td>\n",
              "      <td>0</td>\n",
              "      <td>2</td>\n",
              "      <td>1</td>\n",
              "      <td>1</td>\n",
              "      <td>0.200000</td>\n",
              "      <td>0.212122</td>\n",
              "      <td>0.590435</td>\n",
              "      <td>0.160296</td>\n",
              "      <td>108</td>\n",
              "      <td>1454</td>\n",
              "      <td>1562</td>\n",
              "    </tr>\n",
              "    <tr>\n",
              "      <th>4</th>\n",
              "      <td>5</td>\n",
              "      <td>2011-01-05</td>\n",
              "      <td>1</td>\n",
              "      <td>0</td>\n",
              "      <td>1</td>\n",
              "      <td>0</td>\n",
              "      <td>3</td>\n",
              "      <td>1</td>\n",
              "      <td>1</td>\n",
              "      <td>0.226957</td>\n",
              "      <td>0.229270</td>\n",
              "      <td>0.436957</td>\n",
              "      <td>0.186900</td>\n",
              "      <td>82</td>\n",
              "      <td>1518</td>\n",
              "      <td>1600</td>\n",
              "    </tr>\n",
              "  </tbody>\n",
              "</table>\n",
              "</div>"
            ],
            "text/plain": [
              "   instant      dteday  season  yr  mnth  holiday  weekday  workingday  \\\n",
              "0        1  2011-01-01       1   0     1        0        6           0   \n",
              "1        2  2011-01-02       1   0     1        0        0           0   \n",
              "2        3  2011-01-03       1   0     1        0        1           1   \n",
              "3        4  2011-01-04       1   0     1        0        2           1   \n",
              "4        5  2011-01-05       1   0     1        0        3           1   \n",
              "\n",
              "   weathersit      temp     atemp       hum  windspeed  casual  registered  \\\n",
              "0           2  0.344167  0.363625  0.805833   0.160446     331         654   \n",
              "1           2  0.363478  0.353739  0.696087   0.248539     131         670   \n",
              "2           1  0.196364  0.189405  0.437273   0.248309     120        1229   \n",
              "3           1  0.200000  0.212122  0.590435   0.160296     108        1454   \n",
              "4           1  0.226957  0.229270  0.436957   0.186900      82        1518   \n",
              "\n",
              "    cnt  \n",
              "0   985  \n",
              "1   801  \n",
              "2  1349  \n",
              "3  1562  \n",
              "4  1600  "
            ]
          },
          "execution_count": 31,
          "metadata": {},
          "output_type": "execute_result"
        }
      ],
      "source": [
        "day_df = pd.read_csv(\"data/day.csv\")\n",
        "day_df.head()"
      ]
    },
    {
      "cell_type": "code",
      "execution_count": 32,
      "metadata": {
        "colab": {
          "base_uri": "https://localhost:8080/",
          "height": 313
        },
        "id": "Ozx_-thVhvC5",
        "outputId": "4256f657-6e6b-4e33-f251-0b9ed9a43a1a"
      },
      "outputs": [
        {
          "data": {
            "text/html": [
              "<div>\n",
              "<style scoped>\n",
              "    .dataframe tbody tr th:only-of-type {\n",
              "        vertical-align: middle;\n",
              "    }\n",
              "\n",
              "    .dataframe tbody tr th {\n",
              "        vertical-align: top;\n",
              "    }\n",
              "\n",
              "    .dataframe thead th {\n",
              "        text-align: right;\n",
              "    }\n",
              "</style>\n",
              "<table border=\"1\" class=\"dataframe\">\n",
              "  <thead>\n",
              "    <tr style=\"text-align: right;\">\n",
              "      <th></th>\n",
              "      <th>instant</th>\n",
              "      <th>dteday</th>\n",
              "      <th>season</th>\n",
              "      <th>yr</th>\n",
              "      <th>mnth</th>\n",
              "      <th>hr</th>\n",
              "      <th>holiday</th>\n",
              "      <th>weekday</th>\n",
              "      <th>workingday</th>\n",
              "      <th>weathersit</th>\n",
              "      <th>temp</th>\n",
              "      <th>atemp</th>\n",
              "      <th>hum</th>\n",
              "      <th>windspeed</th>\n",
              "      <th>casual</th>\n",
              "      <th>registered</th>\n",
              "      <th>cnt</th>\n",
              "    </tr>\n",
              "  </thead>\n",
              "  <tbody>\n",
              "    <tr>\n",
              "      <th>0</th>\n",
              "      <td>1</td>\n",
              "      <td>2011-01-01</td>\n",
              "      <td>1</td>\n",
              "      <td>0</td>\n",
              "      <td>1</td>\n",
              "      <td>0</td>\n",
              "      <td>0</td>\n",
              "      <td>6</td>\n",
              "      <td>0</td>\n",
              "      <td>1</td>\n",
              "      <td>0.24</td>\n",
              "      <td>0.2879</td>\n",
              "      <td>0.81</td>\n",
              "      <td>0.0</td>\n",
              "      <td>3</td>\n",
              "      <td>13</td>\n",
              "      <td>16</td>\n",
              "    </tr>\n",
              "    <tr>\n",
              "      <th>1</th>\n",
              "      <td>2</td>\n",
              "      <td>2011-01-01</td>\n",
              "      <td>1</td>\n",
              "      <td>0</td>\n",
              "      <td>1</td>\n",
              "      <td>1</td>\n",
              "      <td>0</td>\n",
              "      <td>6</td>\n",
              "      <td>0</td>\n",
              "      <td>1</td>\n",
              "      <td>0.22</td>\n",
              "      <td>0.2727</td>\n",
              "      <td>0.80</td>\n",
              "      <td>0.0</td>\n",
              "      <td>8</td>\n",
              "      <td>32</td>\n",
              "      <td>40</td>\n",
              "    </tr>\n",
              "    <tr>\n",
              "      <th>2</th>\n",
              "      <td>3</td>\n",
              "      <td>2011-01-01</td>\n",
              "      <td>1</td>\n",
              "      <td>0</td>\n",
              "      <td>1</td>\n",
              "      <td>2</td>\n",
              "      <td>0</td>\n",
              "      <td>6</td>\n",
              "      <td>0</td>\n",
              "      <td>1</td>\n",
              "      <td>0.22</td>\n",
              "      <td>0.2727</td>\n",
              "      <td>0.80</td>\n",
              "      <td>0.0</td>\n",
              "      <td>5</td>\n",
              "      <td>27</td>\n",
              "      <td>32</td>\n",
              "    </tr>\n",
              "    <tr>\n",
              "      <th>3</th>\n",
              "      <td>4</td>\n",
              "      <td>2011-01-01</td>\n",
              "      <td>1</td>\n",
              "      <td>0</td>\n",
              "      <td>1</td>\n",
              "      <td>3</td>\n",
              "      <td>0</td>\n",
              "      <td>6</td>\n",
              "      <td>0</td>\n",
              "      <td>1</td>\n",
              "      <td>0.24</td>\n",
              "      <td>0.2879</td>\n",
              "      <td>0.75</td>\n",
              "      <td>0.0</td>\n",
              "      <td>3</td>\n",
              "      <td>10</td>\n",
              "      <td>13</td>\n",
              "    </tr>\n",
              "    <tr>\n",
              "      <th>4</th>\n",
              "      <td>5</td>\n",
              "      <td>2011-01-01</td>\n",
              "      <td>1</td>\n",
              "      <td>0</td>\n",
              "      <td>1</td>\n",
              "      <td>4</td>\n",
              "      <td>0</td>\n",
              "      <td>6</td>\n",
              "      <td>0</td>\n",
              "      <td>1</td>\n",
              "      <td>0.24</td>\n",
              "      <td>0.2879</td>\n",
              "      <td>0.75</td>\n",
              "      <td>0.0</td>\n",
              "      <td>0</td>\n",
              "      <td>1</td>\n",
              "      <td>1</td>\n",
              "    </tr>\n",
              "  </tbody>\n",
              "</table>\n",
              "</div>"
            ],
            "text/plain": [
              "   instant      dteday  season  yr  mnth  hr  holiday  weekday  workingday  \\\n",
              "0        1  2011-01-01       1   0     1   0        0        6           0   \n",
              "1        2  2011-01-01       1   0     1   1        0        6           0   \n",
              "2        3  2011-01-01       1   0     1   2        0        6           0   \n",
              "3        4  2011-01-01       1   0     1   3        0        6           0   \n",
              "4        5  2011-01-01       1   0     1   4        0        6           0   \n",
              "\n",
              "   weathersit  temp   atemp   hum  windspeed  casual  registered  cnt  \n",
              "0           1  0.24  0.2879  0.81        0.0       3          13   16  \n",
              "1           1  0.22  0.2727  0.80        0.0       8          32   40  \n",
              "2           1  0.22  0.2727  0.80        0.0       5          27   32  \n",
              "3           1  0.24  0.2879  0.75        0.0       3          10   13  \n",
              "4           1  0.24  0.2879  0.75        0.0       0           1    1  "
            ]
          },
          "execution_count": 32,
          "metadata": {},
          "output_type": "execute_result"
        }
      ],
      "source": [
        "hour_df = pd.read_csv(\"data/hour.csv\")\n",
        "hour_df.head()"
      ]
    },
    {
      "cell_type": "markdown",
      "metadata": {
        "id": "FHSiqaZp8DC1"
      },
      "source": [
        "### Assessing Data"
      ]
    },
    {
      "cell_type": "markdown",
      "metadata": {
        "id": "p_6PsGLfly6x"
      },
      "source": [
        "menilai data day_df"
      ]
    },
    {
      "cell_type": "code",
      "execution_count": 33,
      "metadata": {
        "colab": {
          "base_uri": "https://localhost:8080/"
        },
        "id": "ax-3tEjc9Cj1",
        "outputId": "6d338f6f-13f1-48a6-b2eb-62c03e7d5590"
      },
      "outputs": [
        {
          "name": "stdout",
          "output_type": "stream",
          "text": [
            "<class 'pandas.core.frame.DataFrame'>\n",
            "RangeIndex: 731 entries, 0 to 730\n",
            "Data columns (total 16 columns):\n",
            " #   Column      Non-Null Count  Dtype  \n",
            "---  ------      --------------  -----  \n",
            " 0   instant     731 non-null    int64  \n",
            " 1   dteday      731 non-null    object \n",
            " 2   season      731 non-null    int64  \n",
            " 3   yr          731 non-null    int64  \n",
            " 4   mnth        731 non-null    int64  \n",
            " 5   holiday     731 non-null    int64  \n",
            " 6   weekday     731 non-null    int64  \n",
            " 7   workingday  731 non-null    int64  \n",
            " 8   weathersit  731 non-null    int64  \n",
            " 9   temp        731 non-null    float64\n",
            " 10  atemp       731 non-null    float64\n",
            " 11  hum         731 non-null    float64\n",
            " 12  windspeed   731 non-null    float64\n",
            " 13  casual      731 non-null    int64  \n",
            " 14  registered  731 non-null    int64  \n",
            " 15  cnt         731 non-null    int64  \n",
            "dtypes: float64(4), int64(11), object(1)\n",
            "memory usage: 91.5+ KB\n"
          ]
        }
      ],
      "source": [
        "day_df.info()"
      ]
    },
    {
      "cell_type": "code",
      "execution_count": 34,
      "metadata": {
        "colab": {
          "base_uri": "https://localhost:8080/"
        },
        "id": "v-pNqDg2mMkM",
        "outputId": "fca2e6bf-7065-4087-a37b-aa67fb79eddf"
      },
      "outputs": [
        {
          "name": "stdout",
          "output_type": "stream",
          "text": [
            "<class 'pandas.core.frame.DataFrame'>\n",
            "RangeIndex: 17379 entries, 0 to 17378\n",
            "Data columns (total 17 columns):\n",
            " #   Column      Non-Null Count  Dtype  \n",
            "---  ------      --------------  -----  \n",
            " 0   instant     17379 non-null  int64  \n",
            " 1   dteday      17379 non-null  object \n",
            " 2   season      17379 non-null  int64  \n",
            " 3   yr          17379 non-null  int64  \n",
            " 4   mnth        17379 non-null  int64  \n",
            " 5   hr          17379 non-null  int64  \n",
            " 6   holiday     17379 non-null  int64  \n",
            " 7   weekday     17379 non-null  int64  \n",
            " 8   workingday  17379 non-null  int64  \n",
            " 9   weathersit  17379 non-null  int64  \n",
            " 10  temp        17379 non-null  float64\n",
            " 11  atemp       17379 non-null  float64\n",
            " 12  hum         17379 non-null  float64\n",
            " 13  windspeed   17379 non-null  float64\n",
            " 14  casual      17379 non-null  int64  \n",
            " 15  registered  17379 non-null  int64  \n",
            " 16  cnt         17379 non-null  int64  \n",
            "dtypes: float64(4), int64(12), object(1)\n",
            "memory usage: 2.3+ MB\n"
          ]
        }
      ],
      "source": [
        "hour_df.info()"
      ]
    },
    {
      "cell_type": "markdown",
      "metadata": {
        "id": "LpeXX-v5mb2P"
      },
      "source": [
        "cek missing value"
      ]
    },
    {
      "cell_type": "code",
      "execution_count": 35,
      "metadata": {
        "colab": {
          "base_uri": "https://localhost:8080/",
          "height": 617
        },
        "id": "tslKIqJJmbDQ",
        "outputId": "28c81abe-a838-41b6-ed75-60df3bae3a73"
      },
      "outputs": [
        {
          "data": {
            "text/plain": [
              "instant       0\n",
              "dteday        0\n",
              "season        0\n",
              "yr            0\n",
              "mnth          0\n",
              "hr            0\n",
              "holiday       0\n",
              "weekday       0\n",
              "workingday    0\n",
              "weathersit    0\n",
              "temp          0\n",
              "atemp         0\n",
              "hum           0\n",
              "windspeed     0\n",
              "casual        0\n",
              "registered    0\n",
              "cnt           0\n",
              "dtype: int64"
            ]
          },
          "execution_count": 35,
          "metadata": {},
          "output_type": "execute_result"
        }
      ],
      "source": [
        "hour_df.isna().sum()"
      ]
    },
    {
      "cell_type": "code",
      "execution_count": 36,
      "metadata": {
        "colab": {
          "base_uri": "https://localhost:8080/",
          "height": 585
        },
        "id": "k_tKzaxJmjEz",
        "outputId": "9fc6d684-49bc-43a3-daca-a69f59d565fa"
      },
      "outputs": [
        {
          "data": {
            "text/plain": [
              "instant       0\n",
              "dteday        0\n",
              "season        0\n",
              "yr            0\n",
              "mnth          0\n",
              "holiday       0\n",
              "weekday       0\n",
              "workingday    0\n",
              "weathersit    0\n",
              "temp          0\n",
              "atemp         0\n",
              "hum           0\n",
              "windspeed     0\n",
              "casual        0\n",
              "registered    0\n",
              "cnt           0\n",
              "dtype: int64"
            ]
          },
          "execution_count": 36,
          "metadata": {},
          "output_type": "execute_result"
        }
      ],
      "source": [
        "day_df.isna().sum()"
      ]
    },
    {
      "cell_type": "markdown",
      "metadata": {
        "id": "C6cqyMOymrZl"
      },
      "source": [
        "tidak terdapat missing value pada kedua data"
      ]
    },
    {
      "cell_type": "markdown",
      "metadata": {
        "id": "gLbGsRWXm3AI"
      },
      "source": [
        "cek duplikasi"
      ]
    },
    {
      "cell_type": "code",
      "execution_count": 37,
      "metadata": {
        "colab": {
          "base_uri": "https://localhost:8080/"
        },
        "id": "xiCr2TlRm5--",
        "outputId": "f6db914e-2acd-4c44-e433-6657c1cf64c6"
      },
      "outputs": [
        {
          "name": "stdout",
          "output_type": "stream",
          "text": [
            "Jumlah duplikasi tabel day:  0\n"
          ]
        }
      ],
      "source": [
        "print(\"Jumlah duplikasi tabel day: \", day_df.duplicated().sum())"
      ]
    },
    {
      "cell_type": "code",
      "execution_count": 38,
      "metadata": {
        "colab": {
          "base_uri": "https://localhost:8080/"
        },
        "id": "SxNcV92Km93W",
        "outputId": "95c560b4-096b-40e2-8be2-c9ad4a7381af"
      },
      "outputs": [
        {
          "name": "stdout",
          "output_type": "stream",
          "text": [
            "Jumlah duplikasi tabel hour:  0\n"
          ]
        }
      ],
      "source": [
        "print(\"Jumlah duplikasi tabel hour: \", hour_df.duplicated().sum())"
      ]
    },
    {
      "cell_type": "markdown",
      "metadata": {
        "id": "gXqiv2tAnEGw"
      },
      "source": [
        "tidak terdapat duplikasi data"
      ]
    },
    {
      "cell_type": "markdown",
      "metadata": {
        "id": "nzplJ2TgnPPo"
      },
      "source": [
        "memeriksa parameter statistik"
      ]
    },
    {
      "cell_type": "code",
      "execution_count": 39,
      "metadata": {
        "colab": {
          "base_uri": "https://localhost:8080/",
          "height": 320
        },
        "id": "wQfTHPUcnG9_",
        "outputId": "3c9ed1ea-9330-49d5-c64b-b7c06124e6d5"
      },
      "outputs": [
        {
          "data": {
            "text/html": [
              "<div>\n",
              "<style scoped>\n",
              "    .dataframe tbody tr th:only-of-type {\n",
              "        vertical-align: middle;\n",
              "    }\n",
              "\n",
              "    .dataframe tbody tr th {\n",
              "        vertical-align: top;\n",
              "    }\n",
              "\n",
              "    .dataframe thead th {\n",
              "        text-align: right;\n",
              "    }\n",
              "</style>\n",
              "<table border=\"1\" class=\"dataframe\">\n",
              "  <thead>\n",
              "    <tr style=\"text-align: right;\">\n",
              "      <th></th>\n",
              "      <th>instant</th>\n",
              "      <th>dteday</th>\n",
              "      <th>season</th>\n",
              "      <th>yr</th>\n",
              "      <th>mnth</th>\n",
              "      <th>holiday</th>\n",
              "      <th>weekday</th>\n",
              "      <th>workingday</th>\n",
              "      <th>weathersit</th>\n",
              "      <th>temp</th>\n",
              "      <th>atemp</th>\n",
              "      <th>hum</th>\n",
              "      <th>windspeed</th>\n",
              "      <th>casual</th>\n",
              "      <th>registered</th>\n",
              "      <th>cnt</th>\n",
              "    </tr>\n",
              "  </thead>\n",
              "  <tbody>\n",
              "    <tr>\n",
              "      <th>count</th>\n",
              "      <td>731.000000</td>\n",
              "      <td>731</td>\n",
              "      <td>731.000000</td>\n",
              "      <td>731.000000</td>\n",
              "      <td>731.000000</td>\n",
              "      <td>731.000000</td>\n",
              "      <td>731.000000</td>\n",
              "      <td>731.000000</td>\n",
              "      <td>731.000000</td>\n",
              "      <td>731.000000</td>\n",
              "      <td>731.000000</td>\n",
              "      <td>731.000000</td>\n",
              "      <td>731.000000</td>\n",
              "      <td>731.000000</td>\n",
              "      <td>731.000000</td>\n",
              "      <td>731.000000</td>\n",
              "    </tr>\n",
              "    <tr>\n",
              "      <th>unique</th>\n",
              "      <td>NaN</td>\n",
              "      <td>731</td>\n",
              "      <td>NaN</td>\n",
              "      <td>NaN</td>\n",
              "      <td>NaN</td>\n",
              "      <td>NaN</td>\n",
              "      <td>NaN</td>\n",
              "      <td>NaN</td>\n",
              "      <td>NaN</td>\n",
              "      <td>NaN</td>\n",
              "      <td>NaN</td>\n",
              "      <td>NaN</td>\n",
              "      <td>NaN</td>\n",
              "      <td>NaN</td>\n",
              "      <td>NaN</td>\n",
              "      <td>NaN</td>\n",
              "    </tr>\n",
              "    <tr>\n",
              "      <th>top</th>\n",
              "      <td>NaN</td>\n",
              "      <td>2012-12-31</td>\n",
              "      <td>NaN</td>\n",
              "      <td>NaN</td>\n",
              "      <td>NaN</td>\n",
              "      <td>NaN</td>\n",
              "      <td>NaN</td>\n",
              "      <td>NaN</td>\n",
              "      <td>NaN</td>\n",
              "      <td>NaN</td>\n",
              "      <td>NaN</td>\n",
              "      <td>NaN</td>\n",
              "      <td>NaN</td>\n",
              "      <td>NaN</td>\n",
              "      <td>NaN</td>\n",
              "      <td>NaN</td>\n",
              "    </tr>\n",
              "    <tr>\n",
              "      <th>freq</th>\n",
              "      <td>NaN</td>\n",
              "      <td>1</td>\n",
              "      <td>NaN</td>\n",
              "      <td>NaN</td>\n",
              "      <td>NaN</td>\n",
              "      <td>NaN</td>\n",
              "      <td>NaN</td>\n",
              "      <td>NaN</td>\n",
              "      <td>NaN</td>\n",
              "      <td>NaN</td>\n",
              "      <td>NaN</td>\n",
              "      <td>NaN</td>\n",
              "      <td>NaN</td>\n",
              "      <td>NaN</td>\n",
              "      <td>NaN</td>\n",
              "      <td>NaN</td>\n",
              "    </tr>\n",
              "    <tr>\n",
              "      <th>mean</th>\n",
              "      <td>366.000000</td>\n",
              "      <td>NaN</td>\n",
              "      <td>2.496580</td>\n",
              "      <td>0.500684</td>\n",
              "      <td>6.519836</td>\n",
              "      <td>0.028728</td>\n",
              "      <td>2.997264</td>\n",
              "      <td>0.683995</td>\n",
              "      <td>1.395349</td>\n",
              "      <td>0.495385</td>\n",
              "      <td>0.474354</td>\n",
              "      <td>0.627894</td>\n",
              "      <td>0.190486</td>\n",
              "      <td>848.176471</td>\n",
              "      <td>3656.172367</td>\n",
              "      <td>4504.348837</td>\n",
              "    </tr>\n",
              "    <tr>\n",
              "      <th>std</th>\n",
              "      <td>211.165812</td>\n",
              "      <td>NaN</td>\n",
              "      <td>1.110807</td>\n",
              "      <td>0.500342</td>\n",
              "      <td>3.451913</td>\n",
              "      <td>0.167155</td>\n",
              "      <td>2.004787</td>\n",
              "      <td>0.465233</td>\n",
              "      <td>0.544894</td>\n",
              "      <td>0.183051</td>\n",
              "      <td>0.162961</td>\n",
              "      <td>0.142429</td>\n",
              "      <td>0.077498</td>\n",
              "      <td>686.622488</td>\n",
              "      <td>1560.256377</td>\n",
              "      <td>1937.211452</td>\n",
              "    </tr>\n",
              "    <tr>\n",
              "      <th>min</th>\n",
              "      <td>1.000000</td>\n",
              "      <td>NaN</td>\n",
              "      <td>1.000000</td>\n",
              "      <td>0.000000</td>\n",
              "      <td>1.000000</td>\n",
              "      <td>0.000000</td>\n",
              "      <td>0.000000</td>\n",
              "      <td>0.000000</td>\n",
              "      <td>1.000000</td>\n",
              "      <td>0.059130</td>\n",
              "      <td>0.079070</td>\n",
              "      <td>0.000000</td>\n",
              "      <td>0.022392</td>\n",
              "      <td>2.000000</td>\n",
              "      <td>20.000000</td>\n",
              "      <td>22.000000</td>\n",
              "    </tr>\n",
              "    <tr>\n",
              "      <th>25%</th>\n",
              "      <td>183.500000</td>\n",
              "      <td>NaN</td>\n",
              "      <td>2.000000</td>\n",
              "      <td>0.000000</td>\n",
              "      <td>4.000000</td>\n",
              "      <td>0.000000</td>\n",
              "      <td>1.000000</td>\n",
              "      <td>0.000000</td>\n",
              "      <td>1.000000</td>\n",
              "      <td>0.337083</td>\n",
              "      <td>0.337842</td>\n",
              "      <td>0.520000</td>\n",
              "      <td>0.134950</td>\n",
              "      <td>315.500000</td>\n",
              "      <td>2497.000000</td>\n",
              "      <td>3152.000000</td>\n",
              "    </tr>\n",
              "    <tr>\n",
              "      <th>50%</th>\n",
              "      <td>366.000000</td>\n",
              "      <td>NaN</td>\n",
              "      <td>3.000000</td>\n",
              "      <td>1.000000</td>\n",
              "      <td>7.000000</td>\n",
              "      <td>0.000000</td>\n",
              "      <td>3.000000</td>\n",
              "      <td>1.000000</td>\n",
              "      <td>1.000000</td>\n",
              "      <td>0.498333</td>\n",
              "      <td>0.486733</td>\n",
              "      <td>0.626667</td>\n",
              "      <td>0.180975</td>\n",
              "      <td>713.000000</td>\n",
              "      <td>3662.000000</td>\n",
              "      <td>4548.000000</td>\n",
              "    </tr>\n",
              "    <tr>\n",
              "      <th>75%</th>\n",
              "      <td>548.500000</td>\n",
              "      <td>NaN</td>\n",
              "      <td>3.000000</td>\n",
              "      <td>1.000000</td>\n",
              "      <td>10.000000</td>\n",
              "      <td>0.000000</td>\n",
              "      <td>5.000000</td>\n",
              "      <td>1.000000</td>\n",
              "      <td>2.000000</td>\n",
              "      <td>0.655417</td>\n",
              "      <td>0.608602</td>\n",
              "      <td>0.730209</td>\n",
              "      <td>0.233214</td>\n",
              "      <td>1096.000000</td>\n",
              "      <td>4776.500000</td>\n",
              "      <td>5956.000000</td>\n",
              "    </tr>\n",
              "    <tr>\n",
              "      <th>max</th>\n",
              "      <td>731.000000</td>\n",
              "      <td>NaN</td>\n",
              "      <td>4.000000</td>\n",
              "      <td>1.000000</td>\n",
              "      <td>12.000000</td>\n",
              "      <td>1.000000</td>\n",
              "      <td>6.000000</td>\n",
              "      <td>1.000000</td>\n",
              "      <td>3.000000</td>\n",
              "      <td>0.861667</td>\n",
              "      <td>0.840896</td>\n",
              "      <td>0.972500</td>\n",
              "      <td>0.507463</td>\n",
              "      <td>3410.000000</td>\n",
              "      <td>6946.000000</td>\n",
              "      <td>8714.000000</td>\n",
              "    </tr>\n",
              "  </tbody>\n",
              "</table>\n",
              "</div>"
            ],
            "text/plain": [
              "           instant      dteday      season          yr        mnth  \\\n",
              "count   731.000000         731  731.000000  731.000000  731.000000   \n",
              "unique         NaN         731         NaN         NaN         NaN   \n",
              "top            NaN  2012-12-31         NaN         NaN         NaN   \n",
              "freq           NaN           1         NaN         NaN         NaN   \n",
              "mean    366.000000         NaN    2.496580    0.500684    6.519836   \n",
              "std     211.165812         NaN    1.110807    0.500342    3.451913   \n",
              "min       1.000000         NaN    1.000000    0.000000    1.000000   \n",
              "25%     183.500000         NaN    2.000000    0.000000    4.000000   \n",
              "50%     366.000000         NaN    3.000000    1.000000    7.000000   \n",
              "75%     548.500000         NaN    3.000000    1.000000   10.000000   \n",
              "max     731.000000         NaN    4.000000    1.000000   12.000000   \n",
              "\n",
              "           holiday     weekday  workingday  weathersit        temp  \\\n",
              "count   731.000000  731.000000  731.000000  731.000000  731.000000   \n",
              "unique         NaN         NaN         NaN         NaN         NaN   \n",
              "top            NaN         NaN         NaN         NaN         NaN   \n",
              "freq           NaN         NaN         NaN         NaN         NaN   \n",
              "mean      0.028728    2.997264    0.683995    1.395349    0.495385   \n",
              "std       0.167155    2.004787    0.465233    0.544894    0.183051   \n",
              "min       0.000000    0.000000    0.000000    1.000000    0.059130   \n",
              "25%       0.000000    1.000000    0.000000    1.000000    0.337083   \n",
              "50%       0.000000    3.000000    1.000000    1.000000    0.498333   \n",
              "75%       0.000000    5.000000    1.000000    2.000000    0.655417   \n",
              "max       1.000000    6.000000    1.000000    3.000000    0.861667   \n",
              "\n",
              "             atemp         hum   windspeed       casual   registered  \\\n",
              "count   731.000000  731.000000  731.000000   731.000000   731.000000   \n",
              "unique         NaN         NaN         NaN          NaN          NaN   \n",
              "top            NaN         NaN         NaN          NaN          NaN   \n",
              "freq           NaN         NaN         NaN          NaN          NaN   \n",
              "mean      0.474354    0.627894    0.190486   848.176471  3656.172367   \n",
              "std       0.162961    0.142429    0.077498   686.622488  1560.256377   \n",
              "min       0.079070    0.000000    0.022392     2.000000    20.000000   \n",
              "25%       0.337842    0.520000    0.134950   315.500000  2497.000000   \n",
              "50%       0.486733    0.626667    0.180975   713.000000  3662.000000   \n",
              "75%       0.608602    0.730209    0.233214  1096.000000  4776.500000   \n",
              "max       0.840896    0.972500    0.507463  3410.000000  6946.000000   \n",
              "\n",
              "                cnt  \n",
              "count    731.000000  \n",
              "unique          NaN  \n",
              "top             NaN  \n",
              "freq            NaN  \n",
              "mean    4504.348837  \n",
              "std     1937.211452  \n",
              "min       22.000000  \n",
              "25%     3152.000000  \n",
              "50%     4548.000000  \n",
              "75%     5956.000000  \n",
              "max     8714.000000  "
            ]
          },
          "execution_count": 39,
          "metadata": {},
          "output_type": "execute_result"
        }
      ],
      "source": [
        "day_df.describe(include=\"all\")"
      ]
    },
    {
      "cell_type": "code",
      "execution_count": 40,
      "metadata": {
        "colab": {
          "base_uri": "https://localhost:8080/",
          "height": 320
        },
        "id": "0h4uZUehnknl",
        "outputId": "a7b5441a-ee8e-4b14-fc52-d139885178cc"
      },
      "outputs": [
        {
          "data": {
            "text/html": [
              "<div>\n",
              "<style scoped>\n",
              "    .dataframe tbody tr th:only-of-type {\n",
              "        vertical-align: middle;\n",
              "    }\n",
              "\n",
              "    .dataframe tbody tr th {\n",
              "        vertical-align: top;\n",
              "    }\n",
              "\n",
              "    .dataframe thead th {\n",
              "        text-align: right;\n",
              "    }\n",
              "</style>\n",
              "<table border=\"1\" class=\"dataframe\">\n",
              "  <thead>\n",
              "    <tr style=\"text-align: right;\">\n",
              "      <th></th>\n",
              "      <th>instant</th>\n",
              "      <th>dteday</th>\n",
              "      <th>season</th>\n",
              "      <th>yr</th>\n",
              "      <th>mnth</th>\n",
              "      <th>hr</th>\n",
              "      <th>holiday</th>\n",
              "      <th>weekday</th>\n",
              "      <th>workingday</th>\n",
              "      <th>weathersit</th>\n",
              "      <th>temp</th>\n",
              "      <th>atemp</th>\n",
              "      <th>hum</th>\n",
              "      <th>windspeed</th>\n",
              "      <th>casual</th>\n",
              "      <th>registered</th>\n",
              "      <th>cnt</th>\n",
              "    </tr>\n",
              "  </thead>\n",
              "  <tbody>\n",
              "    <tr>\n",
              "      <th>count</th>\n",
              "      <td>17379.0000</td>\n",
              "      <td>17379</td>\n",
              "      <td>17379.000000</td>\n",
              "      <td>17379.000000</td>\n",
              "      <td>17379.000000</td>\n",
              "      <td>17379.000000</td>\n",
              "      <td>17379.000000</td>\n",
              "      <td>17379.000000</td>\n",
              "      <td>17379.000000</td>\n",
              "      <td>17379.000000</td>\n",
              "      <td>17379.000000</td>\n",
              "      <td>17379.000000</td>\n",
              "      <td>17379.000000</td>\n",
              "      <td>17379.000000</td>\n",
              "      <td>17379.000000</td>\n",
              "      <td>17379.000000</td>\n",
              "      <td>17379.000000</td>\n",
              "    </tr>\n",
              "    <tr>\n",
              "      <th>unique</th>\n",
              "      <td>NaN</td>\n",
              "      <td>731</td>\n",
              "      <td>NaN</td>\n",
              "      <td>NaN</td>\n",
              "      <td>NaN</td>\n",
              "      <td>NaN</td>\n",
              "      <td>NaN</td>\n",
              "      <td>NaN</td>\n",
              "      <td>NaN</td>\n",
              "      <td>NaN</td>\n",
              "      <td>NaN</td>\n",
              "      <td>NaN</td>\n",
              "      <td>NaN</td>\n",
              "      <td>NaN</td>\n",
              "      <td>NaN</td>\n",
              "      <td>NaN</td>\n",
              "      <td>NaN</td>\n",
              "    </tr>\n",
              "    <tr>\n",
              "      <th>top</th>\n",
              "      <td>NaN</td>\n",
              "      <td>2012-12-31</td>\n",
              "      <td>NaN</td>\n",
              "      <td>NaN</td>\n",
              "      <td>NaN</td>\n",
              "      <td>NaN</td>\n",
              "      <td>NaN</td>\n",
              "      <td>NaN</td>\n",
              "      <td>NaN</td>\n",
              "      <td>NaN</td>\n",
              "      <td>NaN</td>\n",
              "      <td>NaN</td>\n",
              "      <td>NaN</td>\n",
              "      <td>NaN</td>\n",
              "      <td>NaN</td>\n",
              "      <td>NaN</td>\n",
              "      <td>NaN</td>\n",
              "    </tr>\n",
              "    <tr>\n",
              "      <th>freq</th>\n",
              "      <td>NaN</td>\n",
              "      <td>24</td>\n",
              "      <td>NaN</td>\n",
              "      <td>NaN</td>\n",
              "      <td>NaN</td>\n",
              "      <td>NaN</td>\n",
              "      <td>NaN</td>\n",
              "      <td>NaN</td>\n",
              "      <td>NaN</td>\n",
              "      <td>NaN</td>\n",
              "      <td>NaN</td>\n",
              "      <td>NaN</td>\n",
              "      <td>NaN</td>\n",
              "      <td>NaN</td>\n",
              "      <td>NaN</td>\n",
              "      <td>NaN</td>\n",
              "      <td>NaN</td>\n",
              "    </tr>\n",
              "    <tr>\n",
              "      <th>mean</th>\n",
              "      <td>8690.0000</td>\n",
              "      <td>NaN</td>\n",
              "      <td>2.501640</td>\n",
              "      <td>0.502561</td>\n",
              "      <td>6.537775</td>\n",
              "      <td>11.546752</td>\n",
              "      <td>0.028770</td>\n",
              "      <td>3.003683</td>\n",
              "      <td>0.682721</td>\n",
              "      <td>1.425283</td>\n",
              "      <td>0.496987</td>\n",
              "      <td>0.475775</td>\n",
              "      <td>0.627229</td>\n",
              "      <td>0.190098</td>\n",
              "      <td>35.676218</td>\n",
              "      <td>153.786869</td>\n",
              "      <td>189.463088</td>\n",
              "    </tr>\n",
              "    <tr>\n",
              "      <th>std</th>\n",
              "      <td>5017.0295</td>\n",
              "      <td>NaN</td>\n",
              "      <td>1.106918</td>\n",
              "      <td>0.500008</td>\n",
              "      <td>3.438776</td>\n",
              "      <td>6.914405</td>\n",
              "      <td>0.167165</td>\n",
              "      <td>2.005771</td>\n",
              "      <td>0.465431</td>\n",
              "      <td>0.639357</td>\n",
              "      <td>0.192556</td>\n",
              "      <td>0.171850</td>\n",
              "      <td>0.192930</td>\n",
              "      <td>0.122340</td>\n",
              "      <td>49.305030</td>\n",
              "      <td>151.357286</td>\n",
              "      <td>181.387599</td>\n",
              "    </tr>\n",
              "    <tr>\n",
              "      <th>min</th>\n",
              "      <td>1.0000</td>\n",
              "      <td>NaN</td>\n",
              "      <td>1.000000</td>\n",
              "      <td>0.000000</td>\n",
              "      <td>1.000000</td>\n",
              "      <td>0.000000</td>\n",
              "      <td>0.000000</td>\n",
              "      <td>0.000000</td>\n",
              "      <td>0.000000</td>\n",
              "      <td>1.000000</td>\n",
              "      <td>0.020000</td>\n",
              "      <td>0.000000</td>\n",
              "      <td>0.000000</td>\n",
              "      <td>0.000000</td>\n",
              "      <td>0.000000</td>\n",
              "      <td>0.000000</td>\n",
              "      <td>1.000000</td>\n",
              "    </tr>\n",
              "    <tr>\n",
              "      <th>25%</th>\n",
              "      <td>4345.5000</td>\n",
              "      <td>NaN</td>\n",
              "      <td>2.000000</td>\n",
              "      <td>0.000000</td>\n",
              "      <td>4.000000</td>\n",
              "      <td>6.000000</td>\n",
              "      <td>0.000000</td>\n",
              "      <td>1.000000</td>\n",
              "      <td>0.000000</td>\n",
              "      <td>1.000000</td>\n",
              "      <td>0.340000</td>\n",
              "      <td>0.333300</td>\n",
              "      <td>0.480000</td>\n",
              "      <td>0.104500</td>\n",
              "      <td>4.000000</td>\n",
              "      <td>34.000000</td>\n",
              "      <td>40.000000</td>\n",
              "    </tr>\n",
              "    <tr>\n",
              "      <th>50%</th>\n",
              "      <td>8690.0000</td>\n",
              "      <td>NaN</td>\n",
              "      <td>3.000000</td>\n",
              "      <td>1.000000</td>\n",
              "      <td>7.000000</td>\n",
              "      <td>12.000000</td>\n",
              "      <td>0.000000</td>\n",
              "      <td>3.000000</td>\n",
              "      <td>1.000000</td>\n",
              "      <td>1.000000</td>\n",
              "      <td>0.500000</td>\n",
              "      <td>0.484800</td>\n",
              "      <td>0.630000</td>\n",
              "      <td>0.194000</td>\n",
              "      <td>17.000000</td>\n",
              "      <td>115.000000</td>\n",
              "      <td>142.000000</td>\n",
              "    </tr>\n",
              "    <tr>\n",
              "      <th>75%</th>\n",
              "      <td>13034.5000</td>\n",
              "      <td>NaN</td>\n",
              "      <td>3.000000</td>\n",
              "      <td>1.000000</td>\n",
              "      <td>10.000000</td>\n",
              "      <td>18.000000</td>\n",
              "      <td>0.000000</td>\n",
              "      <td>5.000000</td>\n",
              "      <td>1.000000</td>\n",
              "      <td>2.000000</td>\n",
              "      <td>0.660000</td>\n",
              "      <td>0.621200</td>\n",
              "      <td>0.780000</td>\n",
              "      <td>0.253700</td>\n",
              "      <td>48.000000</td>\n",
              "      <td>220.000000</td>\n",
              "      <td>281.000000</td>\n",
              "    </tr>\n",
              "    <tr>\n",
              "      <th>max</th>\n",
              "      <td>17379.0000</td>\n",
              "      <td>NaN</td>\n",
              "      <td>4.000000</td>\n",
              "      <td>1.000000</td>\n",
              "      <td>12.000000</td>\n",
              "      <td>23.000000</td>\n",
              "      <td>1.000000</td>\n",
              "      <td>6.000000</td>\n",
              "      <td>1.000000</td>\n",
              "      <td>4.000000</td>\n",
              "      <td>1.000000</td>\n",
              "      <td>1.000000</td>\n",
              "      <td>1.000000</td>\n",
              "      <td>0.850700</td>\n",
              "      <td>367.000000</td>\n",
              "      <td>886.000000</td>\n",
              "      <td>977.000000</td>\n",
              "    </tr>\n",
              "  </tbody>\n",
              "</table>\n",
              "</div>"
            ],
            "text/plain": [
              "           instant      dteday        season            yr          mnth  \\\n",
              "count   17379.0000       17379  17379.000000  17379.000000  17379.000000   \n",
              "unique         NaN         731           NaN           NaN           NaN   \n",
              "top            NaN  2012-12-31           NaN           NaN           NaN   \n",
              "freq           NaN          24           NaN           NaN           NaN   \n",
              "mean     8690.0000         NaN      2.501640      0.502561      6.537775   \n",
              "std      5017.0295         NaN      1.106918      0.500008      3.438776   \n",
              "min         1.0000         NaN      1.000000      0.000000      1.000000   \n",
              "25%      4345.5000         NaN      2.000000      0.000000      4.000000   \n",
              "50%      8690.0000         NaN      3.000000      1.000000      7.000000   \n",
              "75%     13034.5000         NaN      3.000000      1.000000     10.000000   \n",
              "max     17379.0000         NaN      4.000000      1.000000     12.000000   \n",
              "\n",
              "                  hr       holiday       weekday    workingday    weathersit  \\\n",
              "count   17379.000000  17379.000000  17379.000000  17379.000000  17379.000000   \n",
              "unique           NaN           NaN           NaN           NaN           NaN   \n",
              "top              NaN           NaN           NaN           NaN           NaN   \n",
              "freq             NaN           NaN           NaN           NaN           NaN   \n",
              "mean       11.546752      0.028770      3.003683      0.682721      1.425283   \n",
              "std         6.914405      0.167165      2.005771      0.465431      0.639357   \n",
              "min         0.000000      0.000000      0.000000      0.000000      1.000000   \n",
              "25%         6.000000      0.000000      1.000000      0.000000      1.000000   \n",
              "50%        12.000000      0.000000      3.000000      1.000000      1.000000   \n",
              "75%        18.000000      0.000000      5.000000      1.000000      2.000000   \n",
              "max        23.000000      1.000000      6.000000      1.000000      4.000000   \n",
              "\n",
              "                temp         atemp           hum     windspeed        casual  \\\n",
              "count   17379.000000  17379.000000  17379.000000  17379.000000  17379.000000   \n",
              "unique           NaN           NaN           NaN           NaN           NaN   \n",
              "top              NaN           NaN           NaN           NaN           NaN   \n",
              "freq             NaN           NaN           NaN           NaN           NaN   \n",
              "mean        0.496987      0.475775      0.627229      0.190098     35.676218   \n",
              "std         0.192556      0.171850      0.192930      0.122340     49.305030   \n",
              "min         0.020000      0.000000      0.000000      0.000000      0.000000   \n",
              "25%         0.340000      0.333300      0.480000      0.104500      4.000000   \n",
              "50%         0.500000      0.484800      0.630000      0.194000     17.000000   \n",
              "75%         0.660000      0.621200      0.780000      0.253700     48.000000   \n",
              "max         1.000000      1.000000      1.000000      0.850700    367.000000   \n",
              "\n",
              "          registered           cnt  \n",
              "count   17379.000000  17379.000000  \n",
              "unique           NaN           NaN  \n",
              "top              NaN           NaN  \n",
              "freq             NaN           NaN  \n",
              "mean      153.786869    189.463088  \n",
              "std       151.357286    181.387599  \n",
              "min         0.000000      1.000000  \n",
              "25%        34.000000     40.000000  \n",
              "50%       115.000000    142.000000  \n",
              "75%       220.000000    281.000000  \n",
              "max       886.000000    977.000000  "
            ]
          },
          "execution_count": 40,
          "metadata": {},
          "output_type": "execute_result"
        }
      ],
      "source": [
        "hour_df.describe(include=\"all\")"
      ]
    },
    {
      "cell_type": "markdown",
      "metadata": {
        "id": "EhN5R4hr8DC1"
      },
      "source": [
        "### Cleaning Data"
      ]
    },
    {
      "cell_type": "markdown",
      "metadata": {},
      "source": [
        "Mengganti nama pada kolom dteday, yr, mnth, cnt"
      ]
    },
    {
      "cell_type": "code",
      "execution_count": 41,
      "metadata": {
        "colab": {
          "base_uri": "https://localhost:8080/",
          "height": 313
        },
        "id": "jVnYpprE9Evz",
        "outputId": "c25b9760-7445-4c99-9ec6-03f1b986f7fb"
      },
      "outputs": [
        {
          "data": {
            "text/html": [
              "<div>\n",
              "<style scoped>\n",
              "    .dataframe tbody tr th:only-of-type {\n",
              "        vertical-align: middle;\n",
              "    }\n",
              "\n",
              "    .dataframe tbody tr th {\n",
              "        vertical-align: top;\n",
              "    }\n",
              "\n",
              "    .dataframe thead th {\n",
              "        text-align: right;\n",
              "    }\n",
              "</style>\n",
              "<table border=\"1\" class=\"dataframe\">\n",
              "  <thead>\n",
              "    <tr style=\"text-align: right;\">\n",
              "      <th></th>\n",
              "      <th>instant</th>\n",
              "      <th>dateday</th>\n",
              "      <th>season</th>\n",
              "      <th>year</th>\n",
              "      <th>month</th>\n",
              "      <th>holiday</th>\n",
              "      <th>weekday</th>\n",
              "      <th>workingday</th>\n",
              "      <th>weathersit</th>\n",
              "      <th>temp</th>\n",
              "      <th>atemp</th>\n",
              "      <th>hum</th>\n",
              "      <th>windspeed</th>\n",
              "      <th>casual</th>\n",
              "      <th>registered</th>\n",
              "      <th>count</th>\n",
              "    </tr>\n",
              "  </thead>\n",
              "  <tbody>\n",
              "    <tr>\n",
              "      <th>0</th>\n",
              "      <td>1</td>\n",
              "      <td>2011-01-01</td>\n",
              "      <td>1</td>\n",
              "      <td>0</td>\n",
              "      <td>1</td>\n",
              "      <td>0</td>\n",
              "      <td>6</td>\n",
              "      <td>0</td>\n",
              "      <td>2</td>\n",
              "      <td>0.344167</td>\n",
              "      <td>0.363625</td>\n",
              "      <td>0.805833</td>\n",
              "      <td>0.160446</td>\n",
              "      <td>331</td>\n",
              "      <td>654</td>\n",
              "      <td>985</td>\n",
              "    </tr>\n",
              "    <tr>\n",
              "      <th>1</th>\n",
              "      <td>2</td>\n",
              "      <td>2011-01-02</td>\n",
              "      <td>1</td>\n",
              "      <td>0</td>\n",
              "      <td>1</td>\n",
              "      <td>0</td>\n",
              "      <td>0</td>\n",
              "      <td>0</td>\n",
              "      <td>2</td>\n",
              "      <td>0.363478</td>\n",
              "      <td>0.353739</td>\n",
              "      <td>0.696087</td>\n",
              "      <td>0.248539</td>\n",
              "      <td>131</td>\n",
              "      <td>670</td>\n",
              "      <td>801</td>\n",
              "    </tr>\n",
              "    <tr>\n",
              "      <th>2</th>\n",
              "      <td>3</td>\n",
              "      <td>2011-01-03</td>\n",
              "      <td>1</td>\n",
              "      <td>0</td>\n",
              "      <td>1</td>\n",
              "      <td>0</td>\n",
              "      <td>1</td>\n",
              "      <td>1</td>\n",
              "      <td>1</td>\n",
              "      <td>0.196364</td>\n",
              "      <td>0.189405</td>\n",
              "      <td>0.437273</td>\n",
              "      <td>0.248309</td>\n",
              "      <td>120</td>\n",
              "      <td>1229</td>\n",
              "      <td>1349</td>\n",
              "    </tr>\n",
              "    <tr>\n",
              "      <th>3</th>\n",
              "      <td>4</td>\n",
              "      <td>2011-01-04</td>\n",
              "      <td>1</td>\n",
              "      <td>0</td>\n",
              "      <td>1</td>\n",
              "      <td>0</td>\n",
              "      <td>2</td>\n",
              "      <td>1</td>\n",
              "      <td>1</td>\n",
              "      <td>0.200000</td>\n",
              "      <td>0.212122</td>\n",
              "      <td>0.590435</td>\n",
              "      <td>0.160296</td>\n",
              "      <td>108</td>\n",
              "      <td>1454</td>\n",
              "      <td>1562</td>\n",
              "    </tr>\n",
              "    <tr>\n",
              "      <th>4</th>\n",
              "      <td>5</td>\n",
              "      <td>2011-01-05</td>\n",
              "      <td>1</td>\n",
              "      <td>0</td>\n",
              "      <td>1</td>\n",
              "      <td>0</td>\n",
              "      <td>3</td>\n",
              "      <td>1</td>\n",
              "      <td>1</td>\n",
              "      <td>0.226957</td>\n",
              "      <td>0.229270</td>\n",
              "      <td>0.436957</td>\n",
              "      <td>0.186900</td>\n",
              "      <td>82</td>\n",
              "      <td>1518</td>\n",
              "      <td>1600</td>\n",
              "    </tr>\n",
              "  </tbody>\n",
              "</table>\n",
              "</div>"
            ],
            "text/plain": [
              "   instant     dateday  season  year  month  holiday  weekday  workingday  \\\n",
              "0        1  2011-01-01       1     0      1        0        6           0   \n",
              "1        2  2011-01-02       1     0      1        0        0           0   \n",
              "2        3  2011-01-03       1     0      1        0        1           1   \n",
              "3        4  2011-01-04       1     0      1        0        2           1   \n",
              "4        5  2011-01-05       1     0      1        0        3           1   \n",
              "\n",
              "   weathersit      temp     atemp       hum  windspeed  casual  registered  \\\n",
              "0           2  0.344167  0.363625  0.805833   0.160446     331         654   \n",
              "1           2  0.363478  0.353739  0.696087   0.248539     131         670   \n",
              "2           1  0.196364  0.189405  0.437273   0.248309     120        1229   \n",
              "3           1  0.200000  0.212122  0.590435   0.160296     108        1454   \n",
              "4           1  0.226957  0.229270  0.436957   0.186900      82        1518   \n",
              "\n",
              "   count  \n",
              "0    985  \n",
              "1    801  \n",
              "2   1349  \n",
              "3   1562  \n",
              "4   1600  "
            ]
          },
          "execution_count": 41,
          "metadata": {},
          "output_type": "execute_result"
        }
      ],
      "source": [
        "day_df.rename(columns={\n",
        "    'dteday': 'dateday',\n",
        "    'yr': 'year',\n",
        "    'mnth': 'month',\n",
        "    'cnt': 'count'\n",
        "}, inplace=True)\n",
        "\n",
        "day_df.head()"
      ]
    },
    {
      "cell_type": "markdown",
      "metadata": {},
      "source": [
        "Mengganti tipe data di kolom dteday menjadi datetime pada dataframe day_df"
      ]
    },
    {
      "cell_type": "code",
      "execution_count": 42,
      "metadata": {
        "colab": {
          "base_uri": "https://localhost:8080/"
        },
        "id": "jeIgo39Pr38_",
        "outputId": "f13fc9c7-0cb6-4502-92c0-7cd48d92b887"
      },
      "outputs": [
        {
          "name": "stdout",
          "output_type": "stream",
          "text": [
            "<class 'pandas.core.frame.DataFrame'>\n",
            "RangeIndex: 731 entries, 0 to 730\n",
            "Data columns (total 16 columns):\n",
            " #   Column      Non-Null Count  Dtype         \n",
            "---  ------      --------------  -----         \n",
            " 0   instant     731 non-null    int64         \n",
            " 1   dateday     731 non-null    datetime64[ns]\n",
            " 2   season      731 non-null    int64         \n",
            " 3   year        731 non-null    int64         \n",
            " 4   month       731 non-null    int64         \n",
            " 5   holiday     731 non-null    int64         \n",
            " 6   weekday     731 non-null    int64         \n",
            " 7   workingday  731 non-null    int64         \n",
            " 8   weathersit  731 non-null    int64         \n",
            " 9   temp        731 non-null    float64       \n",
            " 10  atemp       731 non-null    float64       \n",
            " 11  hum         731 non-null    float64       \n",
            " 12  windspeed   731 non-null    float64       \n",
            " 13  casual      731 non-null    int64         \n",
            " 14  registered  731 non-null    int64         \n",
            " 15  count       731 non-null    int64         \n",
            "dtypes: datetime64[ns](1), float64(4), int64(11)\n",
            "memory usage: 91.5 KB\n"
          ]
        }
      ],
      "source": [
        "day_df['dateday'] = pd.to_datetime(day_df['dateday'])\n",
        "day_df.info()"
      ]
    },
    {
      "cell_type": "code",
      "execution_count": 43,
      "metadata": {
        "colab": {
          "base_uri": "https://localhost:8080/",
          "height": 313
        },
        "id": "XiDdTg2tsS1w",
        "outputId": "725cea74-cdbf-42b4-9d92-af367740aac7"
      },
      "outputs": [
        {
          "data": {
            "text/html": [
              "<div>\n",
              "<style scoped>\n",
              "    .dataframe tbody tr th:only-of-type {\n",
              "        vertical-align: middle;\n",
              "    }\n",
              "\n",
              "    .dataframe tbody tr th {\n",
              "        vertical-align: top;\n",
              "    }\n",
              "\n",
              "    .dataframe thead th {\n",
              "        text-align: right;\n",
              "    }\n",
              "</style>\n",
              "<table border=\"1\" class=\"dataframe\">\n",
              "  <thead>\n",
              "    <tr style=\"text-align: right;\">\n",
              "      <th></th>\n",
              "      <th>instant</th>\n",
              "      <th>dateday</th>\n",
              "      <th>season</th>\n",
              "      <th>year</th>\n",
              "      <th>month</th>\n",
              "      <th>holiday</th>\n",
              "      <th>weekday</th>\n",
              "      <th>workingday</th>\n",
              "      <th>weathersit</th>\n",
              "      <th>temp</th>\n",
              "      <th>atemp</th>\n",
              "      <th>hum</th>\n",
              "      <th>windspeed</th>\n",
              "      <th>casual</th>\n",
              "      <th>registered</th>\n",
              "      <th>count</th>\n",
              "    </tr>\n",
              "  </thead>\n",
              "  <tbody>\n",
              "    <tr>\n",
              "      <th>0</th>\n",
              "      <td>1</td>\n",
              "      <td>2011-01-01</td>\n",
              "      <td>1</td>\n",
              "      <td>0</td>\n",
              "      <td>1</td>\n",
              "      <td>0</td>\n",
              "      <td>6</td>\n",
              "      <td>0</td>\n",
              "      <td>2</td>\n",
              "      <td>0.344167</td>\n",
              "      <td>0.363625</td>\n",
              "      <td>0.805833</td>\n",
              "      <td>0.160446</td>\n",
              "      <td>331</td>\n",
              "      <td>654</td>\n",
              "      <td>985</td>\n",
              "    </tr>\n",
              "    <tr>\n",
              "      <th>1</th>\n",
              "      <td>2</td>\n",
              "      <td>2011-01-02</td>\n",
              "      <td>1</td>\n",
              "      <td>0</td>\n",
              "      <td>1</td>\n",
              "      <td>0</td>\n",
              "      <td>0</td>\n",
              "      <td>0</td>\n",
              "      <td>2</td>\n",
              "      <td>0.363478</td>\n",
              "      <td>0.353739</td>\n",
              "      <td>0.696087</td>\n",
              "      <td>0.248539</td>\n",
              "      <td>131</td>\n",
              "      <td>670</td>\n",
              "      <td>801</td>\n",
              "    </tr>\n",
              "    <tr>\n",
              "      <th>2</th>\n",
              "      <td>3</td>\n",
              "      <td>2011-01-03</td>\n",
              "      <td>1</td>\n",
              "      <td>0</td>\n",
              "      <td>1</td>\n",
              "      <td>0</td>\n",
              "      <td>1</td>\n",
              "      <td>1</td>\n",
              "      <td>1</td>\n",
              "      <td>0.196364</td>\n",
              "      <td>0.189405</td>\n",
              "      <td>0.437273</td>\n",
              "      <td>0.248309</td>\n",
              "      <td>120</td>\n",
              "      <td>1229</td>\n",
              "      <td>1349</td>\n",
              "    </tr>\n",
              "    <tr>\n",
              "      <th>3</th>\n",
              "      <td>4</td>\n",
              "      <td>2011-01-04</td>\n",
              "      <td>1</td>\n",
              "      <td>0</td>\n",
              "      <td>1</td>\n",
              "      <td>0</td>\n",
              "      <td>2</td>\n",
              "      <td>1</td>\n",
              "      <td>1</td>\n",
              "      <td>0.200000</td>\n",
              "      <td>0.212122</td>\n",
              "      <td>0.590435</td>\n",
              "      <td>0.160296</td>\n",
              "      <td>108</td>\n",
              "      <td>1454</td>\n",
              "      <td>1562</td>\n",
              "    </tr>\n",
              "    <tr>\n",
              "      <th>4</th>\n",
              "      <td>5</td>\n",
              "      <td>2011-01-05</td>\n",
              "      <td>1</td>\n",
              "      <td>0</td>\n",
              "      <td>1</td>\n",
              "      <td>0</td>\n",
              "      <td>3</td>\n",
              "      <td>1</td>\n",
              "      <td>1</td>\n",
              "      <td>0.226957</td>\n",
              "      <td>0.229270</td>\n",
              "      <td>0.436957</td>\n",
              "      <td>0.186900</td>\n",
              "      <td>82</td>\n",
              "      <td>1518</td>\n",
              "      <td>1600</td>\n",
              "    </tr>\n",
              "  </tbody>\n",
              "</table>\n",
              "</div>"
            ],
            "text/plain": [
              "   instant    dateday  season  year  month  holiday  weekday  workingday  \\\n",
              "0        1 2011-01-01       1     0      1        0        6           0   \n",
              "1        2 2011-01-02       1     0      1        0        0           0   \n",
              "2        3 2011-01-03       1     0      1        0        1           1   \n",
              "3        4 2011-01-04       1     0      1        0        2           1   \n",
              "4        5 2011-01-05       1     0      1        0        3           1   \n",
              "\n",
              "   weathersit      temp     atemp       hum  windspeed  casual  registered  \\\n",
              "0           2  0.344167  0.363625  0.805833   0.160446     331         654   \n",
              "1           2  0.363478  0.353739  0.696087   0.248539     131         670   \n",
              "2           1  0.196364  0.189405  0.437273   0.248309     120        1229   \n",
              "3           1  0.200000  0.212122  0.590435   0.160296     108        1454   \n",
              "4           1  0.226957  0.229270  0.436957   0.186900      82        1518   \n",
              "\n",
              "   count  \n",
              "0    985  \n",
              "1    801  \n",
              "2   1349  \n",
              "3   1562  \n",
              "4   1600  "
            ]
          },
          "execution_count": 43,
          "metadata": {},
          "output_type": "execute_result"
        }
      ],
      "source": [
        "day_df.head()"
      ]
    },
    {
      "cell_type": "code",
      "execution_count": 44,
      "metadata": {
        "colab": {
          "base_uri": "https://localhost:8080/",
          "height": 313
        },
        "id": "jYCE043SsiA7",
        "outputId": "fe60ed44-8ce2-4a00-cd24-a751b64e5a72"
      },
      "outputs": [
        {
          "data": {
            "text/html": [
              "<div>\n",
              "<style scoped>\n",
              "    .dataframe tbody tr th:only-of-type {\n",
              "        vertical-align: middle;\n",
              "    }\n",
              "\n",
              "    .dataframe tbody tr th {\n",
              "        vertical-align: top;\n",
              "    }\n",
              "\n",
              "    .dataframe thead th {\n",
              "        text-align: right;\n",
              "    }\n",
              "</style>\n",
              "<table border=\"1\" class=\"dataframe\">\n",
              "  <thead>\n",
              "    <tr style=\"text-align: right;\">\n",
              "      <th></th>\n",
              "      <th>instant</th>\n",
              "      <th>dateday</th>\n",
              "      <th>season</th>\n",
              "      <th>year</th>\n",
              "      <th>month</th>\n",
              "      <th>holiday</th>\n",
              "      <th>weekday</th>\n",
              "      <th>workingday</th>\n",
              "      <th>weathersit</th>\n",
              "      <th>temp</th>\n",
              "      <th>atemp</th>\n",
              "      <th>hum</th>\n",
              "      <th>windspeed</th>\n",
              "      <th>casual</th>\n",
              "      <th>registered</th>\n",
              "      <th>count</th>\n",
              "    </tr>\n",
              "  </thead>\n",
              "  <tbody>\n",
              "    <tr>\n",
              "      <th>0</th>\n",
              "      <td>1</td>\n",
              "      <td>2011-01-01</td>\n",
              "      <td>Spring</td>\n",
              "      <td>2011</td>\n",
              "      <td>January</td>\n",
              "      <td>0</td>\n",
              "      <td>Saturday</td>\n",
              "      <td>0</td>\n",
              "      <td>Misty/Cloudy</td>\n",
              "      <td>0.344167</td>\n",
              "      <td>0.363625</td>\n",
              "      <td>0.805833</td>\n",
              "      <td>0.160446</td>\n",
              "      <td>331</td>\n",
              "      <td>654</td>\n",
              "      <td>985</td>\n",
              "    </tr>\n",
              "    <tr>\n",
              "      <th>1</th>\n",
              "      <td>2</td>\n",
              "      <td>2011-01-02</td>\n",
              "      <td>Spring</td>\n",
              "      <td>2011</td>\n",
              "      <td>January</td>\n",
              "      <td>0</td>\n",
              "      <td>Sunday</td>\n",
              "      <td>0</td>\n",
              "      <td>Misty/Cloudy</td>\n",
              "      <td>0.363478</td>\n",
              "      <td>0.353739</td>\n",
              "      <td>0.696087</td>\n",
              "      <td>0.248539</td>\n",
              "      <td>131</td>\n",
              "      <td>670</td>\n",
              "      <td>801</td>\n",
              "    </tr>\n",
              "    <tr>\n",
              "      <th>2</th>\n",
              "      <td>3</td>\n",
              "      <td>2011-01-03</td>\n",
              "      <td>Spring</td>\n",
              "      <td>2011</td>\n",
              "      <td>January</td>\n",
              "      <td>0</td>\n",
              "      <td>Monday</td>\n",
              "      <td>1</td>\n",
              "      <td>Clear/Partly Cloudy</td>\n",
              "      <td>0.196364</td>\n",
              "      <td>0.189405</td>\n",
              "      <td>0.437273</td>\n",
              "      <td>0.248309</td>\n",
              "      <td>120</td>\n",
              "      <td>1229</td>\n",
              "      <td>1349</td>\n",
              "    </tr>\n",
              "    <tr>\n",
              "      <th>3</th>\n",
              "      <td>4</td>\n",
              "      <td>2011-01-04</td>\n",
              "      <td>Spring</td>\n",
              "      <td>2011</td>\n",
              "      <td>January</td>\n",
              "      <td>0</td>\n",
              "      <td>Tuesday</td>\n",
              "      <td>1</td>\n",
              "      <td>Clear/Partly Cloudy</td>\n",
              "      <td>0.200000</td>\n",
              "      <td>0.212122</td>\n",
              "      <td>0.590435</td>\n",
              "      <td>0.160296</td>\n",
              "      <td>108</td>\n",
              "      <td>1454</td>\n",
              "      <td>1562</td>\n",
              "    </tr>\n",
              "    <tr>\n",
              "      <th>4</th>\n",
              "      <td>5</td>\n",
              "      <td>2011-01-05</td>\n",
              "      <td>Spring</td>\n",
              "      <td>2011</td>\n",
              "      <td>January</td>\n",
              "      <td>0</td>\n",
              "      <td>Wednesday</td>\n",
              "      <td>1</td>\n",
              "      <td>Clear/Partly Cloudy</td>\n",
              "      <td>0.226957</td>\n",
              "      <td>0.229270</td>\n",
              "      <td>0.436957</td>\n",
              "      <td>0.186900</td>\n",
              "      <td>82</td>\n",
              "      <td>1518</td>\n",
              "      <td>1600</td>\n",
              "    </tr>\n",
              "  </tbody>\n",
              "</table>\n",
              "</div>"
            ],
            "text/plain": [
              "   instant    dateday  season  year    month  holiday    weekday  workingday  \\\n",
              "0        1 2011-01-01  Spring  2011  January        0   Saturday           0   \n",
              "1        2 2011-01-02  Spring  2011  January        0     Sunday           0   \n",
              "2        3 2011-01-03  Spring  2011  January        0     Monday           1   \n",
              "3        4 2011-01-04  Spring  2011  January        0    Tuesday           1   \n",
              "4        5 2011-01-05  Spring  2011  January        0  Wednesday           1   \n",
              "\n",
              "            weathersit      temp     atemp       hum  windspeed  casual  \\\n",
              "0         Misty/Cloudy  0.344167  0.363625  0.805833   0.160446     331   \n",
              "1         Misty/Cloudy  0.363478  0.353739  0.696087   0.248539     131   \n",
              "2  Clear/Partly Cloudy  0.196364  0.189405  0.437273   0.248309     120   \n",
              "3  Clear/Partly Cloudy  0.200000  0.212122  0.590435   0.160296     108   \n",
              "4  Clear/Partly Cloudy  0.226957  0.229270  0.436957   0.186900      82   \n",
              "\n",
              "   registered  count  \n",
              "0         654    985  \n",
              "1         670    801  \n",
              "2        1229   1349  \n",
              "3        1454   1562  \n",
              "4        1518   1600  "
            ]
          },
          "execution_count": 44,
          "metadata": {},
          "output_type": "execute_result"
        }
      ],
      "source": [
        "# mengubah nilai pada kolom weekday, month, year \n",
        "day_df['weekday'] = day_df['dateday'].dt.day_name()\n",
        "day_df['year'] = day_df['dateday'].dt.year\n",
        "day_df[\"month\"] = day_df['dateday'].dt.month_name()\n",
        "\n",
        "# mengubah nilai pada kolom season\n",
        "day_df['season'] = day_df['season'].map({1: 'Spring', 2: 'Summer', 3: 'Fall', 4: 'Winter'})\n",
        "# Weathersit column\n",
        "day_df['weathersit'] = day_df['weathersit'].map({\n",
        "    1: 'Clear/Partly Cloudy',\n",
        "    2: 'Misty/Cloudy',\n",
        "    3: 'Light Snow/Rain',\n",
        "    4: 'Severe Weather'\n",
        "})\n",
        "\n",
        "day_df.head()"
      ]
    },
    {
      "cell_type": "markdown",
      "metadata": {},
      "source": [
        "Mengubah nama kolom pada datafram hour_df"
      ]
    },
    {
      "cell_type": "code",
      "execution_count": 45,
      "metadata": {},
      "outputs": [
        {
          "data": {
            "text/html": [
              "<div>\n",
              "<style scoped>\n",
              "    .dataframe tbody tr th:only-of-type {\n",
              "        vertical-align: middle;\n",
              "    }\n",
              "\n",
              "    .dataframe tbody tr th {\n",
              "        vertical-align: top;\n",
              "    }\n",
              "\n",
              "    .dataframe thead th {\n",
              "        text-align: right;\n",
              "    }\n",
              "</style>\n",
              "<table border=\"1\" class=\"dataframe\">\n",
              "  <thead>\n",
              "    <tr style=\"text-align: right;\">\n",
              "      <th></th>\n",
              "      <th>instant</th>\n",
              "      <th>dateday</th>\n",
              "      <th>season</th>\n",
              "      <th>year</th>\n",
              "      <th>month</th>\n",
              "      <th>hr</th>\n",
              "      <th>holiday</th>\n",
              "      <th>weekday</th>\n",
              "      <th>workingday</th>\n",
              "      <th>weathersit</th>\n",
              "      <th>temp</th>\n",
              "      <th>atemp</th>\n",
              "      <th>hum</th>\n",
              "      <th>windspeed</th>\n",
              "      <th>casual</th>\n",
              "      <th>registered</th>\n",
              "      <th>count</th>\n",
              "    </tr>\n",
              "  </thead>\n",
              "  <tbody>\n",
              "    <tr>\n",
              "      <th>0</th>\n",
              "      <td>1</td>\n",
              "      <td>2011-01-01</td>\n",
              "      <td>1</td>\n",
              "      <td>0</td>\n",
              "      <td>1</td>\n",
              "      <td>0</td>\n",
              "      <td>0</td>\n",
              "      <td>6</td>\n",
              "      <td>0</td>\n",
              "      <td>1</td>\n",
              "      <td>0.24</td>\n",
              "      <td>0.2879</td>\n",
              "      <td>0.81</td>\n",
              "      <td>0.0</td>\n",
              "      <td>3</td>\n",
              "      <td>13</td>\n",
              "      <td>16</td>\n",
              "    </tr>\n",
              "    <tr>\n",
              "      <th>1</th>\n",
              "      <td>2</td>\n",
              "      <td>2011-01-01</td>\n",
              "      <td>1</td>\n",
              "      <td>0</td>\n",
              "      <td>1</td>\n",
              "      <td>1</td>\n",
              "      <td>0</td>\n",
              "      <td>6</td>\n",
              "      <td>0</td>\n",
              "      <td>1</td>\n",
              "      <td>0.22</td>\n",
              "      <td>0.2727</td>\n",
              "      <td>0.80</td>\n",
              "      <td>0.0</td>\n",
              "      <td>8</td>\n",
              "      <td>32</td>\n",
              "      <td>40</td>\n",
              "    </tr>\n",
              "    <tr>\n",
              "      <th>2</th>\n",
              "      <td>3</td>\n",
              "      <td>2011-01-01</td>\n",
              "      <td>1</td>\n",
              "      <td>0</td>\n",
              "      <td>1</td>\n",
              "      <td>2</td>\n",
              "      <td>0</td>\n",
              "      <td>6</td>\n",
              "      <td>0</td>\n",
              "      <td>1</td>\n",
              "      <td>0.22</td>\n",
              "      <td>0.2727</td>\n",
              "      <td>0.80</td>\n",
              "      <td>0.0</td>\n",
              "      <td>5</td>\n",
              "      <td>27</td>\n",
              "      <td>32</td>\n",
              "    </tr>\n",
              "    <tr>\n",
              "      <th>3</th>\n",
              "      <td>4</td>\n",
              "      <td>2011-01-01</td>\n",
              "      <td>1</td>\n",
              "      <td>0</td>\n",
              "      <td>1</td>\n",
              "      <td>3</td>\n",
              "      <td>0</td>\n",
              "      <td>6</td>\n",
              "      <td>0</td>\n",
              "      <td>1</td>\n",
              "      <td>0.24</td>\n",
              "      <td>0.2879</td>\n",
              "      <td>0.75</td>\n",
              "      <td>0.0</td>\n",
              "      <td>3</td>\n",
              "      <td>10</td>\n",
              "      <td>13</td>\n",
              "    </tr>\n",
              "    <tr>\n",
              "      <th>4</th>\n",
              "      <td>5</td>\n",
              "      <td>2011-01-01</td>\n",
              "      <td>1</td>\n",
              "      <td>0</td>\n",
              "      <td>1</td>\n",
              "      <td>4</td>\n",
              "      <td>0</td>\n",
              "      <td>6</td>\n",
              "      <td>0</td>\n",
              "      <td>1</td>\n",
              "      <td>0.24</td>\n",
              "      <td>0.2879</td>\n",
              "      <td>0.75</td>\n",
              "      <td>0.0</td>\n",
              "      <td>0</td>\n",
              "      <td>1</td>\n",
              "      <td>1</td>\n",
              "    </tr>\n",
              "  </tbody>\n",
              "</table>\n",
              "</div>"
            ],
            "text/plain": [
              "   instant     dateday  season  year  month  hr  holiday  weekday  workingday  \\\n",
              "0        1  2011-01-01       1     0      1   0        0        6           0   \n",
              "1        2  2011-01-01       1     0      1   1        0        6           0   \n",
              "2        3  2011-01-01       1     0      1   2        0        6           0   \n",
              "3        4  2011-01-01       1     0      1   3        0        6           0   \n",
              "4        5  2011-01-01       1     0      1   4        0        6           0   \n",
              "\n",
              "   weathersit  temp   atemp   hum  windspeed  casual  registered  count  \n",
              "0           1  0.24  0.2879  0.81        0.0       3          13     16  \n",
              "1           1  0.22  0.2727  0.80        0.0       8          32     40  \n",
              "2           1  0.22  0.2727  0.80        0.0       5          27     32  \n",
              "3           1  0.24  0.2879  0.75        0.0       3          10     13  \n",
              "4           1  0.24  0.2879  0.75        0.0       0           1      1  "
            ]
          },
          "execution_count": 45,
          "metadata": {},
          "output_type": "execute_result"
        }
      ],
      "source": [
        "hour_df.rename(columns={\n",
        "    'dteday': 'dateday',\n",
        "    'yr': 'year',\n",
        "    'mnth': 'month',\n",
        "    'cnt': 'count'\n",
        "}, inplace=True)\n",
        "hour_df.head()"
      ]
    },
    {
      "cell_type": "code",
      "execution_count": 46,
      "metadata": {},
      "outputs": [
        {
          "name": "stdout",
          "output_type": "stream",
          "text": [
            "<class 'pandas.core.frame.DataFrame'>\n",
            "RangeIndex: 17379 entries, 0 to 17378\n",
            "Data columns (total 17 columns):\n",
            " #   Column      Non-Null Count  Dtype         \n",
            "---  ------      --------------  -----         \n",
            " 0   instant     17379 non-null  int64         \n",
            " 1   dateday     17379 non-null  datetime64[ns]\n",
            " 2   season      17379 non-null  int64         \n",
            " 3   year        17379 non-null  int64         \n",
            " 4   month       17379 non-null  int64         \n",
            " 5   hr          17379 non-null  int64         \n",
            " 6   holiday     17379 non-null  int64         \n",
            " 7   weekday     17379 non-null  int64         \n",
            " 8   workingday  17379 non-null  int64         \n",
            " 9   weathersit  17379 non-null  int64         \n",
            " 10  temp        17379 non-null  float64       \n",
            " 11  atemp       17379 non-null  float64       \n",
            " 12  hum         17379 non-null  float64       \n",
            " 13  windspeed   17379 non-null  float64       \n",
            " 14  casual      17379 non-null  int64         \n",
            " 15  registered  17379 non-null  int64         \n",
            " 16  count       17379 non-null  int64         \n",
            "dtypes: datetime64[ns](1), float64(4), int64(12)\n",
            "memory usage: 2.3 MB\n"
          ]
        }
      ],
      "source": [
        "# mengubah dteday menjadi datetime\n",
        "hour_df[\"dateday\"] = pd.to_datetime(hour_df[\"dateday\"])\n",
        "hour_df.info()"
      ]
    },
    {
      "cell_type": "markdown",
      "metadata": {},
      "source": [
        "mengubah nilai pada kolom year, month, weekday, dan season pada dataframe "
      ]
    },
    {
      "cell_type": "code",
      "execution_count": 47,
      "metadata": {},
      "outputs": [
        {
          "data": {
            "text/html": [
              "<div>\n",
              "<style scoped>\n",
              "    .dataframe tbody tr th:only-of-type {\n",
              "        vertical-align: middle;\n",
              "    }\n",
              "\n",
              "    .dataframe tbody tr th {\n",
              "        vertical-align: top;\n",
              "    }\n",
              "\n",
              "    .dataframe thead th {\n",
              "        text-align: right;\n",
              "    }\n",
              "</style>\n",
              "<table border=\"1\" class=\"dataframe\">\n",
              "  <thead>\n",
              "    <tr style=\"text-align: right;\">\n",
              "      <th></th>\n",
              "      <th>instant</th>\n",
              "      <th>dateday</th>\n",
              "      <th>season</th>\n",
              "      <th>year</th>\n",
              "      <th>month</th>\n",
              "      <th>hr</th>\n",
              "      <th>holiday</th>\n",
              "      <th>weekday</th>\n",
              "      <th>workingday</th>\n",
              "      <th>weathersit</th>\n",
              "      <th>temp</th>\n",
              "      <th>atemp</th>\n",
              "      <th>hum</th>\n",
              "      <th>windspeed</th>\n",
              "      <th>casual</th>\n",
              "      <th>registered</th>\n",
              "      <th>count</th>\n",
              "    </tr>\n",
              "  </thead>\n",
              "  <tbody>\n",
              "    <tr>\n",
              "      <th>0</th>\n",
              "      <td>1</td>\n",
              "      <td>2011-01-01</td>\n",
              "      <td>Spring</td>\n",
              "      <td>2011</td>\n",
              "      <td>January</td>\n",
              "      <td>0</td>\n",
              "      <td>0</td>\n",
              "      <td>Saturday</td>\n",
              "      <td>0</td>\n",
              "      <td>Clear/Partly Cloudy</td>\n",
              "      <td>0.24</td>\n",
              "      <td>0.2879</td>\n",
              "      <td>0.81</td>\n",
              "      <td>0.0</td>\n",
              "      <td>3</td>\n",
              "      <td>13</td>\n",
              "      <td>16</td>\n",
              "    </tr>\n",
              "    <tr>\n",
              "      <th>1</th>\n",
              "      <td>2</td>\n",
              "      <td>2011-01-01</td>\n",
              "      <td>Spring</td>\n",
              "      <td>2011</td>\n",
              "      <td>January</td>\n",
              "      <td>1</td>\n",
              "      <td>0</td>\n",
              "      <td>Saturday</td>\n",
              "      <td>0</td>\n",
              "      <td>Clear/Partly Cloudy</td>\n",
              "      <td>0.22</td>\n",
              "      <td>0.2727</td>\n",
              "      <td>0.80</td>\n",
              "      <td>0.0</td>\n",
              "      <td>8</td>\n",
              "      <td>32</td>\n",
              "      <td>40</td>\n",
              "    </tr>\n",
              "    <tr>\n",
              "      <th>2</th>\n",
              "      <td>3</td>\n",
              "      <td>2011-01-01</td>\n",
              "      <td>Spring</td>\n",
              "      <td>2011</td>\n",
              "      <td>January</td>\n",
              "      <td>2</td>\n",
              "      <td>0</td>\n",
              "      <td>Saturday</td>\n",
              "      <td>0</td>\n",
              "      <td>Clear/Partly Cloudy</td>\n",
              "      <td>0.22</td>\n",
              "      <td>0.2727</td>\n",
              "      <td>0.80</td>\n",
              "      <td>0.0</td>\n",
              "      <td>5</td>\n",
              "      <td>27</td>\n",
              "      <td>32</td>\n",
              "    </tr>\n",
              "    <tr>\n",
              "      <th>3</th>\n",
              "      <td>4</td>\n",
              "      <td>2011-01-01</td>\n",
              "      <td>Spring</td>\n",
              "      <td>2011</td>\n",
              "      <td>January</td>\n",
              "      <td>3</td>\n",
              "      <td>0</td>\n",
              "      <td>Saturday</td>\n",
              "      <td>0</td>\n",
              "      <td>Clear/Partly Cloudy</td>\n",
              "      <td>0.24</td>\n",
              "      <td>0.2879</td>\n",
              "      <td>0.75</td>\n",
              "      <td>0.0</td>\n",
              "      <td>3</td>\n",
              "      <td>10</td>\n",
              "      <td>13</td>\n",
              "    </tr>\n",
              "    <tr>\n",
              "      <th>4</th>\n",
              "      <td>5</td>\n",
              "      <td>2011-01-01</td>\n",
              "      <td>Spring</td>\n",
              "      <td>2011</td>\n",
              "      <td>January</td>\n",
              "      <td>4</td>\n",
              "      <td>0</td>\n",
              "      <td>Saturday</td>\n",
              "      <td>0</td>\n",
              "      <td>Clear/Partly Cloudy</td>\n",
              "      <td>0.24</td>\n",
              "      <td>0.2879</td>\n",
              "      <td>0.75</td>\n",
              "      <td>0.0</td>\n",
              "      <td>0</td>\n",
              "      <td>1</td>\n",
              "      <td>1</td>\n",
              "    </tr>\n",
              "  </tbody>\n",
              "</table>\n",
              "</div>"
            ],
            "text/plain": [
              "   instant    dateday  season  year    month  hr  holiday   weekday  \\\n",
              "0        1 2011-01-01  Spring  2011  January   0        0  Saturday   \n",
              "1        2 2011-01-01  Spring  2011  January   1        0  Saturday   \n",
              "2        3 2011-01-01  Spring  2011  January   2        0  Saturday   \n",
              "3        4 2011-01-01  Spring  2011  January   3        0  Saturday   \n",
              "4        5 2011-01-01  Spring  2011  January   4        0  Saturday   \n",
              "\n",
              "   workingday           weathersit  temp   atemp   hum  windspeed  casual  \\\n",
              "0           0  Clear/Partly Cloudy  0.24  0.2879  0.81        0.0       3   \n",
              "1           0  Clear/Partly Cloudy  0.22  0.2727  0.80        0.0       8   \n",
              "2           0  Clear/Partly Cloudy  0.22  0.2727  0.80        0.0       5   \n",
              "3           0  Clear/Partly Cloudy  0.24  0.2879  0.75        0.0       3   \n",
              "4           0  Clear/Partly Cloudy  0.24  0.2879  0.75        0.0       0   \n",
              "\n",
              "   registered  count  \n",
              "0          13     16  \n",
              "1          32     40  \n",
              "2          27     32  \n",
              "3          10     13  \n",
              "4           1      1  "
            ]
          },
          "execution_count": 47,
          "metadata": {},
          "output_type": "execute_result"
        }
      ],
      "source": [
        "hour_df[\"year\"] = hour_df['dateday'].dt.year\n",
        "hour_df[\"month\"] = hour_df['dateday'].dt.month_name()\n",
        "hour_df[\"weekday\"] = hour_df['dateday'].dt.day_name()\n",
        "\n",
        "hour_df['season'] = hour_df['season'].map({1: 'Spring', 2: 'Summer', 3: 'Fall', 4: 'Winter'})\n",
        "hour_df['weathersit'] = hour_df['weathersit'].map({\n",
        "    1: 'Clear/Partly Cloudy',\n",
        "    2: 'Misty/Cloudy',\n",
        "    3: 'Light Snow/Rain',\n",
        "    4: 'Severe Weather'\n",
        "})\n",
        "hour_df.head(5)"
      ]
    },
    {
      "cell_type": "code",
      "execution_count": 48,
      "metadata": {
        "id": "aaFMlJRUyeYU"
      },
      "outputs": [],
      "source": [
        "day_df.to_csv(\"dashboard/cleaned_day.csv\", index=False)\n",
        "hour_df.to_csv(\"dashboard/cleaned_hour.csv\", index=False)"
      ]
    },
    {
      "cell_type": "markdown",
      "metadata": {
        "id": "gp-Y6wU38DC1"
      },
      "source": [
        "## Exploratory Data Analysis (EDA)"
      ]
    },
    {
      "cell_type": "markdown",
      "metadata": {
        "id": "MW7WF2kr8DC1"
      },
      "source": [
        "### Explore day_df"
      ]
    },
    {
      "cell_type": "markdown",
      "metadata": {
        "id": "3gxdQIfgtMdF"
      },
      "source": [
        "Analisis Statistik Penyewaan Sepeda Berdasarkan Bulan (Month)"
      ]
    },
    {
      "cell_type": "code",
      "execution_count": 49,
      "metadata": {},
      "outputs": [
        {
          "data": {
            "text/html": [
              "<div>\n",
              "<style scoped>\n",
              "    .dataframe tbody tr th:only-of-type {\n",
              "        vertical-align: middle;\n",
              "    }\n",
              "\n",
              "    .dataframe tbody tr th {\n",
              "        vertical-align: top;\n",
              "    }\n",
              "\n",
              "    .dataframe thead th {\n",
              "        text-align: right;\n",
              "    }\n",
              "</style>\n",
              "<table border=\"1\" class=\"dataframe\">\n",
              "  <thead>\n",
              "    <tr style=\"text-align: right;\">\n",
              "      <th></th>\n",
              "      <th>instant</th>\n",
              "      <th>dateday</th>\n",
              "      <th>year</th>\n",
              "      <th>holiday</th>\n",
              "      <th>workingday</th>\n",
              "      <th>temp</th>\n",
              "      <th>atemp</th>\n",
              "      <th>hum</th>\n",
              "      <th>windspeed</th>\n",
              "      <th>casual</th>\n",
              "      <th>registered</th>\n",
              "      <th>count</th>\n",
              "    </tr>\n",
              "  </thead>\n",
              "  <tbody>\n",
              "    <tr>\n",
              "      <th>count</th>\n",
              "      <td>731.000000</td>\n",
              "      <td>731</td>\n",
              "      <td>731.000000</td>\n",
              "      <td>731.000000</td>\n",
              "      <td>731.000000</td>\n",
              "      <td>731.000000</td>\n",
              "      <td>731.000000</td>\n",
              "      <td>731.000000</td>\n",
              "      <td>731.000000</td>\n",
              "      <td>731.000000</td>\n",
              "      <td>731.000000</td>\n",
              "      <td>731.000000</td>\n",
              "    </tr>\n",
              "    <tr>\n",
              "      <th>mean</th>\n",
              "      <td>366.000000</td>\n",
              "      <td>2012-01-01 00:00:00</td>\n",
              "      <td>2011.500684</td>\n",
              "      <td>0.028728</td>\n",
              "      <td>0.683995</td>\n",
              "      <td>0.495385</td>\n",
              "      <td>0.474354</td>\n",
              "      <td>0.627894</td>\n",
              "      <td>0.190486</td>\n",
              "      <td>848.176471</td>\n",
              "      <td>3656.172367</td>\n",
              "      <td>4504.348837</td>\n",
              "    </tr>\n",
              "    <tr>\n",
              "      <th>min</th>\n",
              "      <td>1.000000</td>\n",
              "      <td>2011-01-01 00:00:00</td>\n",
              "      <td>2011.000000</td>\n",
              "      <td>0.000000</td>\n",
              "      <td>0.000000</td>\n",
              "      <td>0.059130</td>\n",
              "      <td>0.079070</td>\n",
              "      <td>0.000000</td>\n",
              "      <td>0.022392</td>\n",
              "      <td>2.000000</td>\n",
              "      <td>20.000000</td>\n",
              "      <td>22.000000</td>\n",
              "    </tr>\n",
              "    <tr>\n",
              "      <th>25%</th>\n",
              "      <td>183.500000</td>\n",
              "      <td>2011-07-02 12:00:00</td>\n",
              "      <td>2011.000000</td>\n",
              "      <td>0.000000</td>\n",
              "      <td>0.000000</td>\n",
              "      <td>0.337083</td>\n",
              "      <td>0.337842</td>\n",
              "      <td>0.520000</td>\n",
              "      <td>0.134950</td>\n",
              "      <td>315.500000</td>\n",
              "      <td>2497.000000</td>\n",
              "      <td>3152.000000</td>\n",
              "    </tr>\n",
              "    <tr>\n",
              "      <th>50%</th>\n",
              "      <td>366.000000</td>\n",
              "      <td>2012-01-01 00:00:00</td>\n",
              "      <td>2012.000000</td>\n",
              "      <td>0.000000</td>\n",
              "      <td>1.000000</td>\n",
              "      <td>0.498333</td>\n",
              "      <td>0.486733</td>\n",
              "      <td>0.626667</td>\n",
              "      <td>0.180975</td>\n",
              "      <td>713.000000</td>\n",
              "      <td>3662.000000</td>\n",
              "      <td>4548.000000</td>\n",
              "    </tr>\n",
              "    <tr>\n",
              "      <th>75%</th>\n",
              "      <td>548.500000</td>\n",
              "      <td>2012-07-01 12:00:00</td>\n",
              "      <td>2012.000000</td>\n",
              "      <td>0.000000</td>\n",
              "      <td>1.000000</td>\n",
              "      <td>0.655417</td>\n",
              "      <td>0.608602</td>\n",
              "      <td>0.730209</td>\n",
              "      <td>0.233214</td>\n",
              "      <td>1096.000000</td>\n",
              "      <td>4776.500000</td>\n",
              "      <td>5956.000000</td>\n",
              "    </tr>\n",
              "    <tr>\n",
              "      <th>max</th>\n",
              "      <td>731.000000</td>\n",
              "      <td>2012-12-31 00:00:00</td>\n",
              "      <td>2012.000000</td>\n",
              "      <td>1.000000</td>\n",
              "      <td>1.000000</td>\n",
              "      <td>0.861667</td>\n",
              "      <td>0.840896</td>\n",
              "      <td>0.972500</td>\n",
              "      <td>0.507463</td>\n",
              "      <td>3410.000000</td>\n",
              "      <td>6946.000000</td>\n",
              "      <td>8714.000000</td>\n",
              "    </tr>\n",
              "    <tr>\n",
              "      <th>std</th>\n",
              "      <td>211.165812</td>\n",
              "      <td>NaN</td>\n",
              "      <td>0.500342</td>\n",
              "      <td>0.167155</td>\n",
              "      <td>0.465233</td>\n",
              "      <td>0.183051</td>\n",
              "      <td>0.162961</td>\n",
              "      <td>0.142429</td>\n",
              "      <td>0.077498</td>\n",
              "      <td>686.622488</td>\n",
              "      <td>1560.256377</td>\n",
              "      <td>1937.211452</td>\n",
              "    </tr>\n",
              "  </tbody>\n",
              "</table>\n",
              "</div>"
            ],
            "text/plain": [
              "          instant              dateday         year     holiday  workingday  \\\n",
              "count  731.000000                  731   731.000000  731.000000  731.000000   \n",
              "mean   366.000000  2012-01-01 00:00:00  2011.500684    0.028728    0.683995   \n",
              "min      1.000000  2011-01-01 00:00:00  2011.000000    0.000000    0.000000   \n",
              "25%    183.500000  2011-07-02 12:00:00  2011.000000    0.000000    0.000000   \n",
              "50%    366.000000  2012-01-01 00:00:00  2012.000000    0.000000    1.000000   \n",
              "75%    548.500000  2012-07-01 12:00:00  2012.000000    0.000000    1.000000   \n",
              "max    731.000000  2012-12-31 00:00:00  2012.000000    1.000000    1.000000   \n",
              "std    211.165812                  NaN     0.500342    0.167155    0.465233   \n",
              "\n",
              "             temp       atemp         hum   windspeed       casual  \\\n",
              "count  731.000000  731.000000  731.000000  731.000000   731.000000   \n",
              "mean     0.495385    0.474354    0.627894    0.190486   848.176471   \n",
              "min      0.059130    0.079070    0.000000    0.022392     2.000000   \n",
              "25%      0.337083    0.337842    0.520000    0.134950   315.500000   \n",
              "50%      0.498333    0.486733    0.626667    0.180975   713.000000   \n",
              "75%      0.655417    0.608602    0.730209    0.233214  1096.000000   \n",
              "max      0.861667    0.840896    0.972500    0.507463  3410.000000   \n",
              "std      0.183051    0.162961    0.142429    0.077498   686.622488   \n",
              "\n",
              "        registered        count  \n",
              "count   731.000000   731.000000  \n",
              "mean   3656.172367  4504.348837  \n",
              "min      20.000000    22.000000  \n",
              "25%    2497.000000  3152.000000  \n",
              "50%    3662.000000  4548.000000  \n",
              "75%    4776.500000  5956.000000  \n",
              "max    6946.000000  8714.000000  \n",
              "std    1560.256377  1937.211452  "
            ]
          },
          "execution_count": 49,
          "metadata": {},
          "output_type": "execute_result"
        }
      ],
      "source": [
        "day_df.describe()"
      ]
    },
    {
      "cell_type": "markdown",
      "metadata": {},
      "source": [
        "rangkuman parameter statistik di atas menunjukan informasi mengenai jumlah pelanggan dalam 731 hari yang datanya diambil dari tahun 2011 hingga 2012"
      ]
    },
    {
      "cell_type": "code",
      "execution_count": 50,
      "metadata": {},
      "outputs": [
        {
          "data": {
            "text/html": [
              "<div>\n",
              "<style scoped>\n",
              "    .dataframe tbody tr th:only-of-type {\n",
              "        vertical-align: middle;\n",
              "    }\n",
              "\n",
              "    .dataframe tbody tr th {\n",
              "        vertical-align: top;\n",
              "    }\n",
              "\n",
              "    .dataframe thead th {\n",
              "        text-align: right;\n",
              "    }\n",
              "</style>\n",
              "<table border=\"1\" class=\"dataframe\">\n",
              "  <thead>\n",
              "    <tr style=\"text-align: right;\">\n",
              "      <th></th>\n",
              "      <th>month</th>\n",
              "      <th>year</th>\n",
              "      <th>count</th>\n",
              "    </tr>\n",
              "  </thead>\n",
              "  <tbody>\n",
              "    <tr>\n",
              "      <th>0</th>\n",
              "      <td>April</td>\n",
              "      <td>2011</td>\n",
              "      <td>94870</td>\n",
              "    </tr>\n",
              "    <tr>\n",
              "      <th>1</th>\n",
              "      <td>April</td>\n",
              "      <td>2012</td>\n",
              "      <td>174224</td>\n",
              "    </tr>\n",
              "    <tr>\n",
              "      <th>2</th>\n",
              "      <td>August</td>\n",
              "      <td>2011</td>\n",
              "      <td>136691</td>\n",
              "    </tr>\n",
              "    <tr>\n",
              "      <th>3</th>\n",
              "      <td>August</td>\n",
              "      <td>2012</td>\n",
              "      <td>214503</td>\n",
              "    </tr>\n",
              "    <tr>\n",
              "      <th>4</th>\n",
              "      <td>December</td>\n",
              "      <td>2011</td>\n",
              "      <td>87323</td>\n",
              "    </tr>\n",
              "    <tr>\n",
              "      <th>5</th>\n",
              "      <td>December</td>\n",
              "      <td>2012</td>\n",
              "      <td>123713</td>\n",
              "    </tr>\n",
              "    <tr>\n",
              "      <th>6</th>\n",
              "      <td>February</td>\n",
              "      <td>2011</td>\n",
              "      <td>48215</td>\n",
              "    </tr>\n",
              "    <tr>\n",
              "      <th>7</th>\n",
              "      <td>February</td>\n",
              "      <td>2012</td>\n",
              "      <td>103137</td>\n",
              "    </tr>\n",
              "    <tr>\n",
              "      <th>8</th>\n",
              "      <td>January</td>\n",
              "      <td>2011</td>\n",
              "      <td>38189</td>\n",
              "    </tr>\n",
              "    <tr>\n",
              "      <th>9</th>\n",
              "      <td>January</td>\n",
              "      <td>2012</td>\n",
              "      <td>96744</td>\n",
              "    </tr>\n",
              "    <tr>\n",
              "      <th>10</th>\n",
              "      <td>July</td>\n",
              "      <td>2011</td>\n",
              "      <td>141341</td>\n",
              "    </tr>\n",
              "    <tr>\n",
              "      <th>11</th>\n",
              "      <td>July</td>\n",
              "      <td>2012</td>\n",
              "      <td>203607</td>\n",
              "    </tr>\n",
              "    <tr>\n",
              "      <th>12</th>\n",
              "      <td>June</td>\n",
              "      <td>2011</td>\n",
              "      <td>143512</td>\n",
              "    </tr>\n",
              "    <tr>\n",
              "      <th>13</th>\n",
              "      <td>June</td>\n",
              "      <td>2012</td>\n",
              "      <td>202830</td>\n",
              "    </tr>\n",
              "    <tr>\n",
              "      <th>14</th>\n",
              "      <td>March</td>\n",
              "      <td>2011</td>\n",
              "      <td>64045</td>\n",
              "    </tr>\n",
              "    <tr>\n",
              "      <th>15</th>\n",
              "      <td>March</td>\n",
              "      <td>2012</td>\n",
              "      <td>164875</td>\n",
              "    </tr>\n",
              "    <tr>\n",
              "      <th>16</th>\n",
              "      <td>May</td>\n",
              "      <td>2011</td>\n",
              "      <td>135821</td>\n",
              "    </tr>\n",
              "    <tr>\n",
              "      <th>17</th>\n",
              "      <td>May</td>\n",
              "      <td>2012</td>\n",
              "      <td>195865</td>\n",
              "    </tr>\n",
              "    <tr>\n",
              "      <th>18</th>\n",
              "      <td>November</td>\n",
              "      <td>2011</td>\n",
              "      <td>102167</td>\n",
              "    </tr>\n",
              "    <tr>\n",
              "      <th>19</th>\n",
              "      <td>November</td>\n",
              "      <td>2012</td>\n",
              "      <td>152664</td>\n",
              "    </tr>\n",
              "    <tr>\n",
              "      <th>20</th>\n",
              "      <td>October</td>\n",
              "      <td>2011</td>\n",
              "      <td>123511</td>\n",
              "    </tr>\n",
              "    <tr>\n",
              "      <th>21</th>\n",
              "      <td>October</td>\n",
              "      <td>2012</td>\n",
              "      <td>198841</td>\n",
              "    </tr>\n",
              "    <tr>\n",
              "      <th>22</th>\n",
              "      <td>September</td>\n",
              "      <td>2011</td>\n",
              "      <td>127418</td>\n",
              "    </tr>\n",
              "    <tr>\n",
              "      <th>23</th>\n",
              "      <td>September</td>\n",
              "      <td>2012</td>\n",
              "      <td>218573</td>\n",
              "    </tr>\n",
              "  </tbody>\n",
              "</table>\n",
              "</div>"
            ],
            "text/plain": [
              "        month  year   count\n",
              "0       April  2011   94870\n",
              "1       April  2012  174224\n",
              "2      August  2011  136691\n",
              "3      August  2012  214503\n",
              "4    December  2011   87323\n",
              "5    December  2012  123713\n",
              "6    February  2011   48215\n",
              "7    February  2012  103137\n",
              "8     January  2011   38189\n",
              "9     January  2012   96744\n",
              "10       July  2011  141341\n",
              "11       July  2012  203607\n",
              "12       June  2011  143512\n",
              "13       June  2012  202830\n",
              "14      March  2011   64045\n",
              "15      March  2012  164875\n",
              "16        May  2011  135821\n",
              "17        May  2012  195865\n",
              "18   November  2011  102167\n",
              "19   November  2012  152664\n",
              "20    October  2011  123511\n",
              "21    October  2012  198841\n",
              "22  September  2011  127418\n",
              "23  September  2012  218573"
            ]
          },
          "execution_count": 50,
          "metadata": {},
          "output_type": "execute_result"
        }
      ],
      "source": [
        "# Mencari jumlah tersewanya sepeda dalam kurun waktu dua tahun terakhir\n",
        "day_df.groupby(by=[\"month\",\"year\"]).agg({\n",
        "    \"count\": \"sum\"\n",
        "}).reset_index()"
      ]
    },
    {
      "cell_type": "markdown",
      "metadata": {},
      "source": [
        "Perbandingan masing-masing bulan di tahun 2011 dan 2012 menunjukkan bahwa jumlah pelanggan di semua bulan tahun 2011 lebih rendah daripada tahun 2012."
      ]
    },
    {
      "cell_type": "code",
      "execution_count": 51,
      "metadata": {},
      "outputs": [
        {
          "name": "stdout",
          "output_type": "stream",
          "text": [
            "            max   min         mean     sum\n",
            "month                                     \n",
            "June       8120  3767  5772.366667  346342\n",
            "September  8714  1842  5766.516667  345991\n",
            "August     7865  1115  5664.419355  351194\n",
            "July       8173  3285  5563.677419  344948\n",
            "May        8294  2633  5349.774194  331686\n",
            "October    8156    22  5199.225806  322352\n",
            "April      7460   795  4484.900000  269094\n",
            "November   6852  1495  4247.183333  254831\n",
            "March      8362   605  3692.258065  228920\n",
            "December   6606   441  3403.806452  211036\n",
            "February   5062  1005  2655.298246  151352\n",
            "January    4521   431  2176.338710  134933\n"
          ]
        }
      ],
      "source": [
        "# Mengelompokkan data penyewa sepeda berdasarkan bulan\n",
        "grouped_by_month = day_df.groupby('month')\n",
        "\n",
        "# Menghitung statistik agregat untuk setiap bulan\n",
        "aggregated_stats_by_month = grouped_by_month['count'].agg(['max', 'min', 'mean', 'sum'])\n",
        "\n",
        "# Mengurutkan hasil berdasarkan nilai maksimum ('max') secara menurun\n",
        "sorted_aggregated_stats = aggregated_stats_by_month.sort_values(by='mean', ascending=False)\n",
        "\n",
        "# Menampilkan hasil yang sudah diurutkan\n",
        "print(sorted_aggregated_stats)"
      ]
    },
    {
      "cell_type": "code",
      "execution_count": 52,
      "metadata": {
        "colab": {
          "base_uri": "https://localhost:8080/"
        },
        "id": "Ex8mVEDzxbuF",
        "outputId": "6335db24-a7d1-4437-ab25-a55a9eef83d6"
      },
      "outputs": [
        {
          "data": {
            "text/html": [
              "<div>\n",
              "<style scoped>\n",
              "    .dataframe tbody tr th:only-of-type {\n",
              "        vertical-align: middle;\n",
              "    }\n",
              "\n",
              "    .dataframe tbody tr th {\n",
              "        vertical-align: top;\n",
              "    }\n",
              "\n",
              "    .dataframe thead th {\n",
              "        text-align: right;\n",
              "    }\n",
              "</style>\n",
              "<table border=\"1\" class=\"dataframe\">\n",
              "  <thead>\n",
              "    <tr style=\"text-align: right;\">\n",
              "      <th></th>\n",
              "      <th>season</th>\n",
              "      <th>count</th>\n",
              "    </tr>\n",
              "  </thead>\n",
              "  <tbody>\n",
              "    <tr>\n",
              "      <th>0</th>\n",
              "      <td>Fall</td>\n",
              "      <td>1061129</td>\n",
              "    </tr>\n",
              "    <tr>\n",
              "      <th>1</th>\n",
              "      <td>Spring</td>\n",
              "      <td>471348</td>\n",
              "    </tr>\n",
              "    <tr>\n",
              "      <th>2</th>\n",
              "      <td>Summer</td>\n",
              "      <td>918589</td>\n",
              "    </tr>\n",
              "    <tr>\n",
              "      <th>3</th>\n",
              "      <td>Winter</td>\n",
              "      <td>841613</td>\n",
              "    </tr>\n",
              "  </tbody>\n",
              "</table>\n",
              "</div>"
            ],
            "text/plain": [
              "   season    count\n",
              "0    Fall  1061129\n",
              "1  Spring   471348\n",
              "2  Summer   918589\n",
              "3  Winter   841613"
            ]
          },
          "execution_count": 52,
          "metadata": {},
          "output_type": "execute_result"
        }
      ],
      "source": [
        "# Mencari musim jumlah tersewanya sepeda tertinggi dan terendah\n",
        "day_df.groupby(by=[\"season\"]).agg({\n",
        "    \"count\": \"sum\"\n",
        "}).reset_index()"
      ]
    },
    {
      "cell_type": "markdown",
      "metadata": {},
      "source": [
        "data menunjukan musim dengan jumlah pelanggan paling banyak  terdapat pada musim gugur (fall),"
      ]
    },
    {
      "cell_type": "markdown",
      "metadata": {
        "id": "xcsP7SEG0o2J"
      },
      "source": [
        "Analisis Statistik Penyewaan Sepeda Berdasarkan Hari Libur Holiday"
      ]
    },
    {
      "cell_type": "code",
      "execution_count": 53,
      "metadata": {
        "colab": {
          "base_uri": "https://localhost:8080/",
          "height": 143
        },
        "id": "e7TQWS_w0Ji8",
        "outputId": "18ab50ab-0737-45a9-a8a1-44e92e28f85c"
      },
      "outputs": [
        {
          "data": {
            "text/html": [
              "<div>\n",
              "<style scoped>\n",
              "    .dataframe tbody tr th:only-of-type {\n",
              "        vertical-align: middle;\n",
              "    }\n",
              "\n",
              "    .dataframe tbody tr th {\n",
              "        vertical-align: top;\n",
              "    }\n",
              "\n",
              "    .dataframe thead th {\n",
              "        text-align: right;\n",
              "    }\n",
              "</style>\n",
              "<table border=\"1\" class=\"dataframe\">\n",
              "  <thead>\n",
              "    <tr style=\"text-align: right;\">\n",
              "      <th></th>\n",
              "      <th>weathersit</th>\n",
              "      <th>count</th>\n",
              "    </tr>\n",
              "  </thead>\n",
              "  <tbody>\n",
              "    <tr>\n",
              "      <th>0</th>\n",
              "      <td>Clear/Partly Cloudy</td>\n",
              "      <td>2257952</td>\n",
              "    </tr>\n",
              "    <tr>\n",
              "      <th>1</th>\n",
              "      <td>Light Snow/Rain</td>\n",
              "      <td>37869</td>\n",
              "    </tr>\n",
              "    <tr>\n",
              "      <th>2</th>\n",
              "      <td>Misty/Cloudy</td>\n",
              "      <td>996858</td>\n",
              "    </tr>\n",
              "  </tbody>\n",
              "</table>\n",
              "</div>"
            ],
            "text/plain": [
              "            weathersit    count\n",
              "0  Clear/Partly Cloudy  2257952\n",
              "1      Light Snow/Rain    37869\n",
              "2         Misty/Cloudy   996858"
            ]
          },
          "execution_count": 53,
          "metadata": {},
          "output_type": "execute_result"
        }
      ],
      "source": [
        "# Mencari pengaruh kondisi cuaca terhadap jumlah tersewanya sepeda\n",
        "day_df.groupby(by=[\"weathersit\"]).agg({\n",
        "    \"count\": \"sum\"\n",
        "}).reset_index()"
      ]
    },
    {
      "cell_type": "markdown",
      "metadata": {},
      "source": [
        "pada kondisi cuaca bersalju/hujan menunjukan pelanggan dengan jumlah terendah."
      ]
    },
    {
      "cell_type": "code",
      "execution_count": 54,
      "metadata": {},
      "outputs": [
        {
          "name": "stdout",
          "output_type": "stream",
          "text": [
            "Jumlah penyewa casual:  620017\n",
            "Jumlah penyewa registered:  2672662\n",
            "Jumlah penyewa total:  3292679\n"
          ]
        }
      ],
      "source": [
        "# Mencari perbandingan jumlah penyewa sepeda antara penyewa casual dan registered\n",
        "print(\"Jumlah penyewa casual: \", day_df['casual'].sum())\n",
        "print(\"Jumlah penyewa registered: \", day_df['registered'].sum())\n",
        "print(\"Jumlah penyewa total: \", day_df['count'].sum())"
      ]
    },
    {
      "cell_type": "markdown",
      "metadata": {
        "id": "pEGDSIYj0YjH"
      },
      "source": [
        " jumlah penyewa sepeda cenderung lebih tinggi pada non holiday dibandingkan saat holiday."
      ]
    },
    {
      "cell_type": "code",
      "execution_count": 55,
      "metadata": {
        "colab": {
          "base_uri": "https://localhost:8080/",
          "height": 300
        },
        "id": "e9CQCZjk8DC2",
        "outputId": "cfa1f1c8-053a-415b-ddfa-5a32abf4db7d"
      },
      "outputs": [
        {
          "data": {
            "text/html": [
              "<div>\n",
              "<style scoped>\n",
              "    .dataframe tbody tr th:only-of-type {\n",
              "        vertical-align: middle;\n",
              "    }\n",
              "\n",
              "    .dataframe tbody tr th {\n",
              "        vertical-align: top;\n",
              "    }\n",
              "\n",
              "    .dataframe thead th {\n",
              "        text-align: right;\n",
              "    }\n",
              "</style>\n",
              "<table border=\"1\" class=\"dataframe\">\n",
              "  <thead>\n",
              "    <tr style=\"text-align: right;\">\n",
              "      <th></th>\n",
              "      <th>max</th>\n",
              "      <th>min</th>\n",
              "      <th>mean</th>\n",
              "    </tr>\n",
              "    <tr>\n",
              "      <th>weekday</th>\n",
              "      <th></th>\n",
              "      <th></th>\n",
              "      <th></th>\n",
              "    </tr>\n",
              "  </thead>\n",
              "  <tbody>\n",
              "    <tr>\n",
              "      <th>Friday</th>\n",
              "      <td>8362</td>\n",
              "      <td>1167</td>\n",
              "      <td>4690.288462</td>\n",
              "    </tr>\n",
              "    <tr>\n",
              "      <th>Monday</th>\n",
              "      <td>7525</td>\n",
              "      <td>22</td>\n",
              "      <td>4338.123810</td>\n",
              "    </tr>\n",
              "    <tr>\n",
              "      <th>Saturday</th>\n",
              "      <td>8714</td>\n",
              "      <td>627</td>\n",
              "      <td>4550.542857</td>\n",
              "    </tr>\n",
              "    <tr>\n",
              "      <th>Sunday</th>\n",
              "      <td>8227</td>\n",
              "      <td>605</td>\n",
              "      <td>4228.828571</td>\n",
              "    </tr>\n",
              "    <tr>\n",
              "      <th>Thursday</th>\n",
              "      <td>7804</td>\n",
              "      <td>431</td>\n",
              "      <td>4667.259615</td>\n",
              "    </tr>\n",
              "    <tr>\n",
              "      <th>Tuesday</th>\n",
              "      <td>7767</td>\n",
              "      <td>683</td>\n",
              "      <td>4510.663462</td>\n",
              "    </tr>\n",
              "    <tr>\n",
              "      <th>Wednesday</th>\n",
              "      <td>8173</td>\n",
              "      <td>441</td>\n",
              "      <td>4548.538462</td>\n",
              "    </tr>\n",
              "  </tbody>\n",
              "</table>\n",
              "</div>"
            ],
            "text/plain": [
              "            max   min         mean\n",
              "weekday                           \n",
              "Friday     8362  1167  4690.288462\n",
              "Monday     7525    22  4338.123810\n",
              "Saturday   8714   627  4550.542857\n",
              "Sunday     8227   605  4228.828571\n",
              "Thursday   7804   431  4667.259615\n",
              "Tuesday    7767   683  4510.663462\n",
              "Wednesday  8173   441  4548.538462"
            ]
          },
          "execution_count": 55,
          "metadata": {},
          "output_type": "execute_result"
        }
      ],
      "source": [
        "# perbandingan saat weekday\n",
        "grouped_by_weekday = day_df.groupby('weekday')['count'].agg(['max', 'min', 'mean'])\n",
        "grouped_by_weekday"
      ]
    },
    {
      "cell_type": "markdown",
      "metadata": {
        "id": "th_Lzl2Fkj9O"
      },
      "source": [
        "Analisis Penyewaan Sepeda Berdasarkan Musim (Season)"
      ]
    },
    {
      "cell_type": "code",
      "execution_count": 56,
      "metadata": {
        "colab": {
          "base_uri": "https://localhost:8080/",
          "height": 237
        },
        "id": "t69zmSRrvelI",
        "outputId": "695a88da-821b-4227-c9d1-3a036683565f"
      },
      "outputs": [
        {
          "data": {
            "text/html": [
              "<div>\n",
              "<style scoped>\n",
              "    .dataframe tbody tr th:only-of-type {\n",
              "        vertical-align: middle;\n",
              "    }\n",
              "\n",
              "    .dataframe tbody tr th {\n",
              "        vertical-align: top;\n",
              "    }\n",
              "\n",
              "    .dataframe thead tr th {\n",
              "        text-align: left;\n",
              "    }\n",
              "\n",
              "    .dataframe thead tr:last-of-type th {\n",
              "        text-align: right;\n",
              "    }\n",
              "</style>\n",
              "<table border=\"1\" class=\"dataframe\">\n",
              "  <thead>\n",
              "    <tr>\n",
              "      <th></th>\n",
              "      <th>casual</th>\n",
              "      <th>registered</th>\n",
              "      <th colspan=\"3\" halign=\"left\">count</th>\n",
              "    </tr>\n",
              "    <tr>\n",
              "      <th></th>\n",
              "      <th>mean</th>\n",
              "      <th>mean</th>\n",
              "      <th>max</th>\n",
              "      <th>min</th>\n",
              "      <th>mean</th>\n",
              "    </tr>\n",
              "    <tr>\n",
              "      <th>season</th>\n",
              "      <th></th>\n",
              "      <th></th>\n",
              "      <th></th>\n",
              "      <th></th>\n",
              "      <th></th>\n",
              "    </tr>\n",
              "  </thead>\n",
              "  <tbody>\n",
              "    <tr>\n",
              "      <th>Fall</th>\n",
              "      <td>1202.611702</td>\n",
              "      <td>4441.691489</td>\n",
              "      <td>8714</td>\n",
              "      <td>1115</td>\n",
              "      <td>5644.303191</td>\n",
              "    </tr>\n",
              "    <tr>\n",
              "      <th>Spring</th>\n",
              "      <td>334.928177</td>\n",
              "      <td>2269.204420</td>\n",
              "      <td>7836</td>\n",
              "      <td>431</td>\n",
              "      <td>2604.132597</td>\n",
              "    </tr>\n",
              "    <tr>\n",
              "      <th>Summer</th>\n",
              "      <td>1106.097826</td>\n",
              "      <td>3886.233696</td>\n",
              "      <td>8362</td>\n",
              "      <td>795</td>\n",
              "      <td>4992.331522</td>\n",
              "    </tr>\n",
              "    <tr>\n",
              "      <th>Winter</th>\n",
              "      <td>729.112360</td>\n",
              "      <td>3999.050562</td>\n",
              "      <td>8555</td>\n",
              "      <td>22</td>\n",
              "      <td>4728.162921</td>\n",
              "    </tr>\n",
              "  </tbody>\n",
              "</table>\n",
              "</div>"
            ],
            "text/plain": [
              "             casual   registered count                   \n",
              "               mean         mean   max   min         mean\n",
              "season                                                   \n",
              "Fall    1202.611702  4441.691489  8714  1115  5644.303191\n",
              "Spring   334.928177  2269.204420  7836   431  2604.132597\n",
              "Summer  1106.097826  3886.233696  8362   795  4992.331522\n",
              "Winter   729.112360  3999.050562  8555    22  4728.162921"
            ]
          },
          "execution_count": 56,
          "metadata": {},
          "output_type": "execute_result"
        }
      ],
      "source": [
        "# Grouping bike rental data by season\n",
        "grouped_by_season = day_df.groupby('season')\n",
        "\n",
        "# Calculating the average number of casual and registered bike rentals, as well as aggregate statistics for total bike rentals\n",
        "aggregated_stats_by_season = grouped_by_season.agg({\n",
        "    'casual': 'mean',\n",
        "    'registered': 'mean',\n",
        "    'count': ['max', 'min', 'mean']\n",
        "})\n",
        "aggregated_stats_by_season\n"
      ]
    },
    {
      "cell_type": "code",
      "execution_count": 61,
      "metadata": {},
      "outputs": [
        {
          "data": {
            "text/html": [
              "<div>\n",
              "<style scoped>\n",
              "    .dataframe tbody tr th:only-of-type {\n",
              "        vertical-align: middle;\n",
              "    }\n",
              "\n",
              "    .dataframe tbody tr th {\n",
              "        vertical-align: top;\n",
              "    }\n",
              "\n",
              "    .dataframe thead tr th {\n",
              "        text-align: left;\n",
              "    }\n",
              "</style>\n",
              "<table border=\"1\" class=\"dataframe\">\n",
              "  <thead>\n",
              "    <tr>\n",
              "      <th></th>\n",
              "      <th>hr</th>\n",
              "      <th>count</th>\n",
              "    </tr>\n",
              "    <tr>\n",
              "      <th></th>\n",
              "      <th></th>\n",
              "      <th>sum</th>\n",
              "    </tr>\n",
              "  </thead>\n",
              "  <tbody>\n",
              "    <tr>\n",
              "      <th>0</th>\n",
              "      <td>0</td>\n",
              "      <td>39130</td>\n",
              "    </tr>\n",
              "    <tr>\n",
              "      <th>1</th>\n",
              "      <td>1</td>\n",
              "      <td>24164</td>\n",
              "    </tr>\n",
              "    <tr>\n",
              "      <th>2</th>\n",
              "      <td>2</td>\n",
              "      <td>16352</td>\n",
              "    </tr>\n",
              "    <tr>\n",
              "      <th>3</th>\n",
              "      <td>3</td>\n",
              "      <td>8174</td>\n",
              "    </tr>\n",
              "    <tr>\n",
              "      <th>4</th>\n",
              "      <td>4</td>\n",
              "      <td>4428</td>\n",
              "    </tr>\n",
              "    <tr>\n",
              "      <th>5</th>\n",
              "      <td>5</td>\n",
              "      <td>14261</td>\n",
              "    </tr>\n",
              "    <tr>\n",
              "      <th>6</th>\n",
              "      <td>6</td>\n",
              "      <td>55132</td>\n",
              "    </tr>\n",
              "    <tr>\n",
              "      <th>7</th>\n",
              "      <td>7</td>\n",
              "      <td>154171</td>\n",
              "    </tr>\n",
              "    <tr>\n",
              "      <th>8</th>\n",
              "      <td>8</td>\n",
              "      <td>261001</td>\n",
              "    </tr>\n",
              "    <tr>\n",
              "      <th>9</th>\n",
              "      <td>9</td>\n",
              "      <td>159438</td>\n",
              "    </tr>\n",
              "    <tr>\n",
              "      <th>10</th>\n",
              "      <td>10</td>\n",
              "      <td>126257</td>\n",
              "    </tr>\n",
              "    <tr>\n",
              "      <th>11</th>\n",
              "      <td>11</td>\n",
              "      <td>151320</td>\n",
              "    </tr>\n",
              "    <tr>\n",
              "      <th>12</th>\n",
              "      <td>12</td>\n",
              "      <td>184414</td>\n",
              "    </tr>\n",
              "    <tr>\n",
              "      <th>13</th>\n",
              "      <td>13</td>\n",
              "      <td>184919</td>\n",
              "    </tr>\n",
              "    <tr>\n",
              "      <th>14</th>\n",
              "      <td>14</td>\n",
              "      <td>175652</td>\n",
              "    </tr>\n",
              "    <tr>\n",
              "      <th>15</th>\n",
              "      <td>15</td>\n",
              "      <td>183149</td>\n",
              "    </tr>\n",
              "    <tr>\n",
              "      <th>16</th>\n",
              "      <td>16</td>\n",
              "      <td>227748</td>\n",
              "    </tr>\n",
              "    <tr>\n",
              "      <th>17</th>\n",
              "      <td>17</td>\n",
              "      <td>336860</td>\n",
              "    </tr>\n",
              "    <tr>\n",
              "      <th>18</th>\n",
              "      <td>18</td>\n",
              "      <td>309772</td>\n",
              "    </tr>\n",
              "    <tr>\n",
              "      <th>19</th>\n",
              "      <td>19</td>\n",
              "      <td>226789</td>\n",
              "    </tr>\n",
              "    <tr>\n",
              "      <th>20</th>\n",
              "      <td>20</td>\n",
              "      <td>164550</td>\n",
              "    </tr>\n",
              "    <tr>\n",
              "      <th>21</th>\n",
              "      <td>21</td>\n",
              "      <td>125445</td>\n",
              "    </tr>\n",
              "    <tr>\n",
              "      <th>22</th>\n",
              "      <td>22</td>\n",
              "      <td>95612</td>\n",
              "    </tr>\n",
              "    <tr>\n",
              "      <th>23</th>\n",
              "      <td>23</td>\n",
              "      <td>63941</td>\n",
              "    </tr>\n",
              "  </tbody>\n",
              "</table>\n",
              "</div>"
            ],
            "text/plain": [
              "    hr   count\n",
              "           sum\n",
              "0    0   39130\n",
              "1    1   24164\n",
              "2    2   16352\n",
              "3    3    8174\n",
              "4    4    4428\n",
              "5    5   14261\n",
              "6    6   55132\n",
              "7    7  154171\n",
              "8    8  261001\n",
              "9    9  159438\n",
              "10  10  126257\n",
              "11  11  151320\n",
              "12  12  184414\n",
              "13  13  184919\n",
              "14  14  175652\n",
              "15  15  183149\n",
              "16  16  227748\n",
              "17  17  336860\n",
              "18  18  309772\n",
              "19  19  226789\n",
              "20  20  164550\n",
              "21  21  125445\n",
              "22  22   95612\n",
              "23  23   63941"
            ]
          },
          "execution_count": 61,
          "metadata": {},
          "output_type": "execute_result"
        }
      ],
      "source": [
        "# Melihat jumlah penyewa sepeda di tiap jamnya\n",
        "hour_df.groupby(by=\"hr\").agg({\n",
        "    \"count\": [\"sum\"]\n",
        "}).reset_index()"
      ]
    },
    {
      "cell_type": "markdown",
      "metadata": {},
      "source": [
        "jumlah tersewanya sepeda paling bayak terjadi pada pukul 17.00, yaitu sebesar 336860. Sedangkan, jumlah tersewanya sepeda paling sedikit terjadi pada pukul 04.00, yaitu sebesar 4428."
      ]
    },
    {
      "cell_type": "code",
      "execution_count": 62,
      "metadata": {},
      "outputs": [
        {
          "data": {
            "image/png": "[encoded data removed]",
            "text/plain": [
              "<Figure size 1000x600 with 2 Axes>"
            ]
          },
          "metadata": {},
          "output_type": "display_data"
        }
      ],
      "source": [
        "#Membuat heatmap korelasi untuk memvisualisasikan hubungan antara penyewa kasual, terdaftar, dan jumlah penyewa\n",
        "fig, ax = plt.subplots(figsize=(10, 6))\n",
        "correlation_matrix = day_df.corr(numeric_only=True)\n",
        "mask = np.triu(np.ones_like(correlation_matrix, dtype=bool))\n",
        "\n",
        "sns.heatmap(\n",
        "    correlation_matrix,\n",
        "    annot=True,\n",
        "    mask=mask,\n",
        "    cmap=\"coolwarm\",\n",
        "    center=0,\n",
        "    fmt=\".2f\"\n",
        ")\n",
        "plt.title(\"Correlation Heatmap\")\n",
        "plt.show()"
      ]
    },
    {
      "cell_type": "markdown",
      "metadata": {
        "id": "zsyZjqak8DC2"
      },
      "source": [
        "## Visualization & Explanatory Analysis"
      ]
    },
    {
      "cell_type": "markdown",
      "metadata": {
        "id": "HZxOiQ6n8DC2"
      },
      "source": [
        "### Pertanyaan 1: Bagaimana tren jumlah penyewaan sepeda dalam beberapa tahun terakhir?"
      ]
    },
    {
      "cell_type": "code",
      "execution_count": 71,
      "metadata": {
        "colab": {
          "base_uri": "https://localhost:8080/",
          "height": 542
        },
        "id": "1swJUdAD8DC2",
        "outputId": "7357996f-9dcb-41b4-e962-df0d577d320b"
      },
      "outputs": [
        {
          "name": "stderr",
          "output_type": "stream",
          "text": [
            "C:\\Users\\user\\AppData\\Local\\Temp\\ipykernel_5708\\3981368960.py:1: FutureWarning: 'M' is deprecated and will be removed in a future version, please use 'ME' instead.\n",
            "  monthly_rent_df = day_df.resample(rule='M', on='dateday').agg({\n"
          ]
        },
        {
          "data": {
            "text/html": [
              "<div>\n",
              "<style scoped>\n",
              "    .dataframe tbody tr th:only-of-type {\n",
              "        vertical-align: middle;\n",
              "    }\n",
              "\n",
              "    .dataframe tbody tr th {\n",
              "        vertical-align: top;\n",
              "    }\n",
              "\n",
              "    .dataframe thead th {\n",
              "        text-align: right;\n",
              "    }\n",
              "</style>\n",
              "<table border=\"1\" class=\"dataframe\">\n",
              "  <thead>\n",
              "    <tr style=\"text-align: right;\">\n",
              "      <th></th>\n",
              "      <th>dateday</th>\n",
              "      <th>casual</th>\n",
              "      <th>registered</th>\n",
              "      <th>count</th>\n",
              "    </tr>\n",
              "  </thead>\n",
              "  <tbody>\n",
              "    <tr>\n",
              "      <th>0</th>\n",
              "      <td>Jan-11</td>\n",
              "      <td>3073</td>\n",
              "      <td>35116</td>\n",
              "      <td>38189</td>\n",
              "    </tr>\n",
              "    <tr>\n",
              "      <th>1</th>\n",
              "      <td>Feb-11</td>\n",
              "      <td>6242</td>\n",
              "      <td>41973</td>\n",
              "      <td>48215</td>\n",
              "    </tr>\n",
              "    <tr>\n",
              "      <th>2</th>\n",
              "      <td>Mar-11</td>\n",
              "      <td>12826</td>\n",
              "      <td>51219</td>\n",
              "      <td>64045</td>\n",
              "    </tr>\n",
              "    <tr>\n",
              "      <th>3</th>\n",
              "      <td>Apr-11</td>\n",
              "      <td>22346</td>\n",
              "      <td>72524</td>\n",
              "      <td>94870</td>\n",
              "    </tr>\n",
              "    <tr>\n",
              "      <th>4</th>\n",
              "      <td>May-11</td>\n",
              "      <td>31050</td>\n",
              "      <td>104771</td>\n",
              "      <td>135821</td>\n",
              "    </tr>\n",
              "    <tr>\n",
              "      <th>5</th>\n",
              "      <td>Jun-11</td>\n",
              "      <td>30612</td>\n",
              "      <td>112900</td>\n",
              "      <td>143512</td>\n",
              "    </tr>\n",
              "    <tr>\n",
              "      <th>6</th>\n",
              "      <td>Jul-11</td>\n",
              "      <td>36452</td>\n",
              "      <td>104889</td>\n",
              "      <td>141341</td>\n",
              "    </tr>\n",
              "    <tr>\n",
              "      <th>7</th>\n",
              "      <td>Aug-11</td>\n",
              "      <td>28842</td>\n",
              "      <td>107849</td>\n",
              "      <td>136691</td>\n",
              "    </tr>\n",
              "    <tr>\n",
              "      <th>8</th>\n",
              "      <td>Sep-11</td>\n",
              "      <td>26545</td>\n",
              "      <td>100873</td>\n",
              "      <td>127418</td>\n",
              "    </tr>\n",
              "    <tr>\n",
              "      <th>9</th>\n",
              "      <td>Oct-11</td>\n",
              "      <td>25222</td>\n",
              "      <td>98289</td>\n",
              "      <td>123511</td>\n",
              "    </tr>\n",
              "    <tr>\n",
              "      <th>10</th>\n",
              "      <td>Nov-11</td>\n",
              "      <td>15594</td>\n",
              "      <td>86573</td>\n",
              "      <td>102167</td>\n",
              "    </tr>\n",
              "    <tr>\n",
              "      <th>11</th>\n",
              "      <td>Dec-11</td>\n",
              "      <td>8448</td>\n",
              "      <td>78875</td>\n",
              "      <td>87323</td>\n",
              "    </tr>\n",
              "    <tr>\n",
              "      <th>12</th>\n",
              "      <td>Jan-12</td>\n",
              "      <td>8969</td>\n",
              "      <td>87775</td>\n",
              "      <td>96744</td>\n",
              "    </tr>\n",
              "    <tr>\n",
              "      <th>13</th>\n",
              "      <td>Feb-12</td>\n",
              "      <td>8721</td>\n",
              "      <td>94416</td>\n",
              "      <td>103137</td>\n",
              "    </tr>\n",
              "    <tr>\n",
              "      <th>14</th>\n",
              "      <td>Mar-12</td>\n",
              "      <td>31618</td>\n",
              "      <td>133257</td>\n",
              "      <td>164875</td>\n",
              "    </tr>\n",
              "    <tr>\n",
              "      <th>15</th>\n",
              "      <td>Apr-12</td>\n",
              "      <td>38456</td>\n",
              "      <td>135768</td>\n",
              "      <td>174224</td>\n",
              "    </tr>\n",
              "    <tr>\n",
              "      <th>16</th>\n",
              "      <td>May-12</td>\n",
              "      <td>44235</td>\n",
              "      <td>151630</td>\n",
              "      <td>195865</td>\n",
              "    </tr>\n",
              "    <tr>\n",
              "      <th>17</th>\n",
              "      <td>Jun-12</td>\n",
              "      <td>43294</td>\n",
              "      <td>159536</td>\n",
              "      <td>202830</td>\n",
              "    </tr>\n",
              "    <tr>\n",
              "      <th>18</th>\n",
              "      <td>Jul-12</td>\n",
              "      <td>41705</td>\n",
              "      <td>161902</td>\n",
              "      <td>203607</td>\n",
              "    </tr>\n",
              "    <tr>\n",
              "      <th>19</th>\n",
              "      <td>Aug-12</td>\n",
              "      <td>43197</td>\n",
              "      <td>171306</td>\n",
              "      <td>214503</td>\n",
              "    </tr>\n",
              "    <tr>\n",
              "      <th>20</th>\n",
              "      <td>Sep-12</td>\n",
              "      <td>43778</td>\n",
              "      <td>174795</td>\n",
              "      <td>218573</td>\n",
              "    </tr>\n",
              "    <tr>\n",
              "      <th>21</th>\n",
              "      <td>Oct-12</td>\n",
              "      <td>34538</td>\n",
              "      <td>164303</td>\n",
              "      <td>198841</td>\n",
              "    </tr>\n",
              "    <tr>\n",
              "      <th>22</th>\n",
              "      <td>Nov-12</td>\n",
              "      <td>21009</td>\n",
              "      <td>131655</td>\n",
              "      <td>152664</td>\n",
              "    </tr>\n",
              "    <tr>\n",
              "      <th>23</th>\n",
              "      <td>Dec-12</td>\n",
              "      <td>13245</td>\n",
              "      <td>110468</td>\n",
              "      <td>123713</td>\n",
              "    </tr>\n",
              "  </tbody>\n",
              "</table>\n",
              "</div>"
            ],
            "text/plain": [
              "   dateday  casual  registered   count\n",
              "0   Jan-11    3073       35116   38189\n",
              "1   Feb-11    6242       41973   48215\n",
              "2   Mar-11   12826       51219   64045\n",
              "3   Apr-11   22346       72524   94870\n",
              "4   May-11   31050      104771  135821\n",
              "5   Jun-11   30612      112900  143512\n",
              "6   Jul-11   36452      104889  141341\n",
              "7   Aug-11   28842      107849  136691\n",
              "8   Sep-11   26545      100873  127418\n",
              "9   Oct-11   25222       98289  123511\n",
              "10  Nov-11   15594       86573  102167\n",
              "11  Dec-11    8448       78875   87323\n",
              "12  Jan-12    8969       87775   96744\n",
              "13  Feb-12    8721       94416  103137\n",
              "14  Mar-12   31618      133257  164875\n",
              "15  Apr-12   38456      135768  174224\n",
              "16  May-12   44235      151630  195865\n",
              "17  Jun-12   43294      159536  202830\n",
              "18  Jul-12   41705      161902  203607\n",
              "19  Aug-12   43197      171306  214503\n",
              "20  Sep-12   43778      174795  218573\n",
              "21  Oct-12   34538      164303  198841\n",
              "22  Nov-12   21009      131655  152664\n",
              "23  Dec-12   13245      110468  123713"
            ]
          },
          "execution_count": 71,
          "metadata": {},
          "output_type": "execute_result"
        }
      ],
      "source": [
        "monthly_rent_df = day_df.resample(rule='M', on='dateday').agg({\n",
        "    \"casual\": \"sum\",\n",
        "    \"registered\": \"sum\",\n",
        "    \"count\": \"sum\"\n",
        "})\n",
        "# Change index format to month-year (Jan-20, Feb-20, etc.)\n",
        "monthly_rent_df.index = monthly_rent_df.index.strftime('%b-%y')\n",
        "monthly_rent_df = monthly_rent_df.reset_index()\n",
        "monthly_rent_df"
      ]
    },
    {
      "cell_type": "code",
      "execution_count": 73,
      "metadata": {},
      "outputs": [
        {
          "data": {
            "application/vnd.plotly.v1+json": {
              "config": {
                "plotlyServerURL": "https://plot.ly"
              },
              "data": [
                {
                  "alignmentgroup": "True",
                  "hovertemplate": "variable=casual<br>dateday=%{x}<br>value=%{y}<extra></extra>",
                  "legendgroup": "casual",
                  "marker": {
                    "color": "#FF69B4",
                    "pattern": {
                      "shape": ""
                    }
                  },
                  "name": "casual",
                  "offsetgroup": "casual",
                  "orientation": "v",
                  "showlegend": true,
                  "textposition": "auto",
                  "type": "bar",
                  "x": [
                    "Jan-11",
                    "Feb-11",
                    "Mar-11",
                    "Apr-11",
                    "May-11",
                    "Jun-11",
                    "Jul-11",
                    "Aug-11",
                    "Sep-11",
                    "Oct-11",
                    "Nov-11",
                    "Dec-11",
                    "Jan-12",
                    "Feb-12",
                    "Mar-12",
                    "Apr-12",
                    "May-12",
                    "Jun-12",
                    "Jul-12",
                    "Aug-12",
                    "Sep-12",
                    "Oct-12",
                    "Nov-12",
                    "Dec-12"
                  ],
                  "xaxis": "x",
                  "y": [
                    3073,
                    6242,
                    12826,
                    22346,
                    31050,
                    30612,
                    36452,
                    28842,
                    26545,
                    25222,
                    15594,
                    8448,
                    8969,
                    8721,
                    31618,
                    38456,
                    44235,
                    43294,
                    41705,
                    43197,
                    43778,
                    34538,
                    21009,
                    13245
                  ],
                  "yaxis": "y"
                },
                {
                  "alignmentgroup": "True",
                  "hovertemplate": "variable=registered<br>dateday=%{x}<br>value=%{y}<extra></extra>",
                  "legendgroup": "registered",
                  "marker": {
                    "color": "#00FF00",
                    "pattern": {
                      "shape": ""
                    }
                  },
                  "name": "registered",
                  "offsetgroup": "registered",
                  "orientation": "v",
                  "showlegend": true,
                  "textposition": "auto",
                  "type": "bar",
                  "x": [
                    "Jan-11",
                    "Feb-11",
                    "Mar-11",
                    "Apr-11",
                    "May-11",
                    "Jun-11",
                    "Jul-11",
                    "Aug-11",
                    "Sep-11",
                    "Oct-11",
                    "Nov-11",
                    "Dec-11",
                    "Jan-12",
                    "Feb-12",
                    "Mar-12",
                    "Apr-12",
                    "May-12",
                    "Jun-12",
                    "Jul-12",
                    "Aug-12",
                    "Sep-12",
                    "Oct-12",
                    "Nov-12",
                    "Dec-12"
                  ],
                  "xaxis": "x",
                  "y": [
                    35116,
                    41973,
                    51219,
                    72524,
                    104771,
                    112900,
                    104889,
                    107849,
                    100873,
                    98289,
                    86573,
                    78875,
                    87775,
                    94416,
                    133257,
                    135768,
                    151630,
                    159536,
                    161902,
                    171306,
                    174795,
                    164303,
                    131655,
                    110468
                  ],
                  "yaxis": "y"
                },
                {
                  "alignmentgroup": "True",
                  "hovertemplate": "variable=count<br>dateday=%{x}<br>value=%{y}<extra></extra>",
                  "legendgroup": "count",
                  "marker": {
                    "color": "#0000FF",
                    "pattern": {
                      "shape": ""
                    }
                  },
                  "name": "count",
                  "offsetgroup": "count",
                  "orientation": "v",
                  "showlegend": true,
                  "textposition": "auto",
                  "type": "bar",
                  "x": [
                    "Jan-11",
                    "Feb-11",
                    "Mar-11",
                    "Apr-11",
                    "May-11",
                    "Jun-11",
                    "Jul-11",
                    "Aug-11",
                    "Sep-11",
                    "Oct-11",
                    "Nov-11",
                    "Dec-11",
                    "Jan-12",
                    "Feb-12",
                    "Mar-12",
                    "Apr-12",
                    "May-12",
                    "Jun-12",
                    "Jul-12",
                    "Aug-12",
                    "Sep-12",
                    "Oct-12",
                    "Nov-12",
                    "Dec-12"
                  ],
                  "xaxis": "x",
                  "y": [
                    38189,
                    48215,
                    64045,
                    94870,
                    135821,
                    143512,
                    141341,
                    136691,
                    127418,
                    123511,
                    102167,
                    87323,
                    96744,
                    103137,
                    164875,
                    174224,
                    195865,
                    202830,
                    203607,
                    214503,
                    218573,
                    198841,
                    152664,
                    123713
                  ],
                  "yaxis": "y"
                }
              ],
              "layout": {
                "barmode": "group",
                "legend": {
                  "orientation": "h",
                  "title": {
                    "text": "variable"
                  },
                  "tracegroupgap": 0,
                  "x": 1,
                  "xanchor": "right",
                  "y": 1.02,
                  "yanchor": "bottom"
                },
                "plot_bgcolor": "rgba(255, 255, 255, 0)",
                "showlegend": true,
                "template": {
                  "data": {
                    "bar": [
                      {
                        "error_x": {
                          "color": "#2a3f5f"
                        },
                        "error_y": {
                          "color": "#2a3f5f"
                        },
                        "marker": {
                          "line": {
                            "color": "#E5ECF6",
                            "width": 0.5
                          },
                          "pattern": {
                            "fillmode": "overlay",
                            "size": 10,
                            "solidity": 0.2
                          }
                        },
                        "type": "bar"
                      }
                    ],
                    "barpolar": [
                      {
                        "marker": {
                          "line": {
                            "color": "#E5ECF6",
                            "width": 0.5
                          },
                          "pattern": {
                            "fillmode": "overlay",
                            "size": 10,
                            "solidity": 0.2
                          }
                        },
                        "type": "barpolar"
                      }
                    ],
                    "carpet": [
                      {
                        "aaxis": {
                          "endlinecolor": "#2a3f5f",
                          "gridcolor": "white",
                          "linecolor": "white",
                          "minorgridcolor": "white",
                          "startlinecolor": "#2a3f5f"
                        },
                        "baxis": {
                          "endlinecolor": "#2a3f5f",
                          "gridcolor": "white",
                          "linecolor": "white",
                          "minorgridcolor": "white",
                          "startlinecolor": "#2a3f5f"
                        },
                        "type": "carpet"
                      }
                    ],
                    "choropleth": [
                      {
                        "colorbar": {
                          "outlinewidth": 0,
                          "ticks": ""
                        },
                        "type": "choropleth"
                      }
                    ],
                    "contour": [
                      {
                        "colorbar": {
                          "outlinewidth": 0,
                          "ticks": ""
                        },
                        "colorscale": [
                          [
                            0,
                            "#0d0887"
                          ],
                          [
                            0.1111111111111111,
                            "#46039f"
                          ],
                          [
                            0.2222222222222222,
                            "#7201a8"
                          ],
                          [
                            0.3333333333333333,
                            "#9c179e"
                          ],
                          [
                            0.4444444444444444,
                            "#bd3786"
                          ],
                          [
                            0.5555555555555556,
                            "#d8576b"
                          ],
                          [
                            0.6666666666666666,
                            "#ed7953"
                          ],
                          [
                            0.7777777777777778,
                            "#fb9f3a"
                          ],
                          [
                            0.8888888888888888,
                            "#fdca26"
                          ],
                          [
                            1,
                            "#f0f921"
                          ]
                        ],
                        "type": "contour"
                      }
                    ],
                    "contourcarpet": [
                      {
                        "colorbar": {
                          "outlinewidth": 0,
                          "ticks": ""
                        },
                        "type": "contourcarpet"
                      }
                    ],
                    "heatmap": [
                      {
                        "colorbar": {
                          "outlinewidth": 0,
                          "ticks": ""
                        },
                        "colorscale": [
                          [
                            0,
                            "#0d0887"
                          ],
                          [
                            0.1111111111111111,
                            "#46039f"
                          ],
                          [
                            0.2222222222222222,
                            "#7201a8"
                          ],
                          [
                            0.3333333333333333,
                            "#9c179e"
                          ],
                          [
                            0.4444444444444444,
                            "#bd3786"
                          ],
                          [
                            0.5555555555555556,
                            "#d8576b"
                          ],
                          [
                            0.6666666666666666,
                            "#ed7953"
                          ],
                          [
                            0.7777777777777778,
                            "#fb9f3a"
                          ],
                          [
                            0.8888888888888888,
                            "#fdca26"
                          ],
                          [
                            1,
                            "#f0f921"
                          ]
                        ],
                        "type": "heatmap"
                      }
                    ],
                    "heatmapgl": [
                      {
                        "colorbar": {
                          "outlinewidth": 0,
                          "ticks": ""
                        },
                        "colorscale": [
                          [
                            0,
                            "#0d0887"
                          ],
                          [
                            0.1111111111111111,
                            "#46039f"
                          ],
                          [
                            0.2222222222222222,
                            "#7201a8"
                          ],
                          [
                            0.3333333333333333,
                            "#9c179e"
                          ],
                          [
                            0.4444444444444444,
                            "#bd3786"
                          ],
                          [
                            0.5555555555555556,
                            "#d8576b"
                          ],
                          [
                            0.6666666666666666,
                            "#ed7953"
                          ],
                          [
                            0.7777777777777778,
                            "#fb9f3a"
                          ],
                          [
                            0.8888888888888888,
                            "#fdca26"
                          ],
                          [
                            1,
                            "#f0f921"
                          ]
                        ],
                        "type": "heatmapgl"
                      }
                    ],
                    "histogram": [
                      {
                        "marker": {
                          "pattern": {
                            "fillmode": "overlay",
                            "size": 10,
                            "solidity": 0.2
                          }
                        },
                        "type": "histogram"
                      }
                    ],
                    "histogram2d": [
                      {
                        "colorbar": {
                          "outlinewidth": 0,
                          "ticks": ""
                        },
                        "colorscale": [
                          [
                            0,
                            "#0d0887"
                          ],
                          [
                            0.1111111111111111,
                            "#46039f"
                          ],
                          [
                            0.2222222222222222,
                            "#7201a8"
                          ],
                          [
                            0.3333333333333333,
                            "#9c179e"
                          ],
                          [
                            0.4444444444444444,
                            "#bd3786"
                          ],
                          [
                            0.5555555555555556,
                            "#d8576b"
                          ],
                          [
                            0.6666666666666666,
                            "#ed7953"
                          ],
                          [
                            0.7777777777777778,
                            "#fb9f3a"
                          ],
                          [
                            0.8888888888888888,
                            "#fdca26"
                          ],
                          [
                            1,
                            "#f0f921"
                          ]
                        ],
                        "type": "histogram2d"
                      }
                    ],
                    "histogram2dcontour": [
                      {
                        "colorbar": {
                          "outlinewidth": 0,
                          "ticks": ""
                        },
                        "colorscale": [
                          [
                            0,
                            "#0d0887"
                          ],
                          [
                            0.1111111111111111,
                            "#46039f"
                          ],
                          [
                            0.2222222222222222,
                            "#7201a8"
                          ],
                          [
                            0.3333333333333333,
                            "#9c179e"
                          ],
                          [
                            0.4444444444444444,
                            "#bd3786"
                          ],
                          [
                            0.5555555555555556,
                            "#d8576b"
                          ],
                          [
                            0.6666666666666666,
                            "#ed7953"
                          ],
                          [
                            0.7777777777777778,
                            "#fb9f3a"
                          ],
                          [
                            0.8888888888888888,
                            "#fdca26"
                          ],
                          [
                            1,
                            "#f0f921"
                          ]
                        ],
                        "type": "histogram2dcontour"
                      }
                    ],
                    "mesh3d": [
                      {
                        "colorbar": {
                          "outlinewidth": 0,
                          "ticks": ""
                        },
                        "type": "mesh3d"
                      }
                    ],
                    "parcoords": [
                      {
                        "line": {
                          "colorbar": {
                            "outlinewidth": 0,
                            "ticks": ""
                          }
                        },
                        "type": "parcoords"
                      }
                    ],
                    "pie": [
                      {
                        "automargin": true,
                        "type": "pie"
                      }
                    ],
                    "scatter": [
                      {
                        "fillpattern": {
                          "fillmode": "overlay",
                          "size": 10,
                          "solidity": 0.2
                        },
                        "type": "scatter"
                      }
                    ],
                    "scatter3d": [
                      {
                        "line": {
                          "colorbar": {
                            "outlinewidth": 0,
                            "ticks": ""
                          }
                        },
                        "marker": {
                          "colorbar": {
                            "outlinewidth": 0,
                            "ticks": ""
                          }
                        },
                        "type": "scatter3d"
                      }
                    ],
                    "scattercarpet": [
                      {
                        "marker": {
                          "colorbar": {
                            "outlinewidth": 0,
                            "ticks": ""
                          }
                        },
                        "type": "scattercarpet"
                      }
                    ],
                    "scattergeo": [
                      {
                        "marker": {
                          "colorbar": {
                            "outlinewidth": 0,
                            "ticks": ""
                          }
                        },
                        "type": "scattergeo"
                      }
                    ],
                    "scattergl": [
                      {
                        "marker": {
                          "colorbar": {
                            "outlinewidth": 0,
                            "ticks": ""
                          }
                        },
                        "type": "scattergl"
                      }
                    ],
                    "scattermapbox": [
                      {
                        "marker": {
                          "colorbar": {
                            "outlinewidth": 0,
                            "ticks": ""
                          }
                        },
                        "type": "scattermapbox"
                      }
                    ],
                    "scatterpolar": [
                      {
                        "marker": {
                          "colorbar": {
                            "outlinewidth": 0,
                            "ticks": ""
                          }
                        },
                        "type": "scatterpolar"
                      }
                    ],
                    "scatterpolargl": [
                      {
                        "marker": {
                          "colorbar": {
                            "outlinewidth": 0,
                            "ticks": ""
                          }
                        },
                        "type": "scatterpolargl"
                      }
                    ],
                    "scatterternary": [
                      {
                        "marker": {
                          "colorbar": {
                            "outlinewidth": 0,
                            "ticks": ""
                          }
                        },
                        "type": "scatterternary"
                      }
                    ],
                    "surface": [
                      {
                        "colorbar": {
                          "outlinewidth": 0,
                          "ticks": ""
                        },
                        "colorscale": [
                          [
                            0,
                            "#0d0887"
                          ],
                          [
                            0.1111111111111111,
                            "#46039f"
                          ],
                          [
                            0.2222222222222222,
                            "#7201a8"
                          ],
                          [
                            0.3333333333333333,
                            "#9c179e"
                          ],
                          [
                            0.4444444444444444,
                            "#bd3786"
                          ],
                          [
                            0.5555555555555556,
                            "#d8576b"
                          ],
                          [
                            0.6666666666666666,
                            "#ed7953"
                          ],
                          [
                            0.7777777777777778,
                            "#fb9f3a"
                          ],
                          [
                            0.8888888888888888,
                            "#fdca26"
                          ],
                          [
                            1,
                            "#f0f921"
                          ]
                        ],
                        "type": "surface"
                      }
                    ],
                    "table": [
                      {
                        "cells": {
                          "fill": {
                            "color": "#EBF0F8"
                          },
                          "line": {
                            "color": "white"
                          }
                        },
                        "header": {
                          "fill": {
                            "color": "#C8D4E3"
                          },
                          "line": {
                            "color": "white"
                          }
                        },
                        "type": "table"
                      }
                    ]
                  },
                  "layout": {
                    "annotationdefaults": {
                      "arrowcolor": "#2a3f5f",
                      "arrowhead": 0,
                      "arrowwidth": 1
                    },
                    "autotypenumbers": "strict",
                    "coloraxis": {
                      "colorbar": {
                        "outlinewidth": 0,
                        "ticks": ""
                      }
                    },
                    "colorscale": {
                      "diverging": [
                        [
                          0,
                          "#8e0152"
                        ],
                        [
                          0.1,
                          "#c51b7d"
                        ],
                        [
                          0.2,
                          "#de77ae"
                        ],
                        [
                          0.3,
                          "#f1b6da"
                        ],
                        [
                          0.4,
                          "#fde0ef"
                        ],
                        [
                          0.5,
                          "#f7f7f7"
                        ],
                        [
                          0.6,
                          "#e6f5d0"
                        ],
                        [
                          0.7,
                          "#b8e186"
                        ],
                        [
                          0.8,
                          "#7fbc41"
                        ],
                        [
                          0.9,
                          "#4d9221"
                        ],
                        [
                          1,
                          "#276419"
                        ]
                      ],
                      "sequential": [
                        [
                          0,
                          "#0d0887"
                        ],
                        [
                          0.1111111111111111,
                          "#46039f"
                        ],
                        [
                          0.2222222222222222,
                          "#7201a8"
                        ],
                        [
                          0.3333333333333333,
                          "#9c179e"
                        ],
                        [
                          0.4444444444444444,
                          "#bd3786"
                        ],
                        [
                          0.5555555555555556,
                          "#d8576b"
                        ],
                        [
                          0.6666666666666666,
                          "#ed7953"
                        ],
                        [
                          0.7777777777777778,
                          "#fb9f3a"
                        ],
                        [
                          0.8888888888888888,
                          "#fdca26"
                        ],
                        [
                          1,
                          "#f0f921"
                        ]
                      ],
                      "sequentialminus": [
                        [
                          0,
                          "#0d0887"
                        ],
                        [
                          0.1111111111111111,
                          "#46039f"
                        ],
                        [
                          0.2222222222222222,
                          "#7201a8"
                        ],
                        [
                          0.3333333333333333,
                          "#9c179e"
                        ],
                        [
                          0.4444444444444444,
                          "#bd3786"
                        ],
                        [
                          0.5555555555555556,
                          "#d8576b"
                        ],
                        [
                          0.6666666666666666,
                          "#ed7953"
                        ],
                        [
                          0.7777777777777778,
                          "#fb9f3a"
                        ],
                        [
                          0.8888888888888888,
                          "#fdca26"
                        ],
                        [
                          1,
                          "#f0f921"
                        ]
                      ]
                    },
                    "colorway": [
                      "#636efa",
                      "#EF553B",
                      "#00cc96",
                      "#ab63fa",
                      "#FFA15A",
                      "#19d3f3",
                      "#FF6692",
                      "#B6E880",
                      "#FF97FF",
                      "#FECB52"
                    ],
                    "font": {
                      "color": "#2a3f5f"
                    },
                    "geo": {
                      "bgcolor": "white",
                      "lakecolor": "white",
                      "landcolor": "#E5ECF6",
                      "showlakes": true,
                      "showland": true,
                      "subunitcolor": "white"
                    },
                    "hoverlabel": {
                      "align": "left"
                    },
                    "hovermode": "closest",
                    "mapbox": {
                      "style": "light"
                    },
                    "paper_bgcolor": "white",
                    "plot_bgcolor": "#E5ECF6",
                    "polar": {
                      "angularaxis": {
                        "gridcolor": "white",
                        "linecolor": "white",
                        "ticks": ""
                      },
                      "bgcolor": "#E5ECF6",
                      "radialaxis": {
                        "gridcolor": "white",
                        "linecolor": "white",
                        "ticks": ""
                      }
                    },
                    "scene": {
                      "xaxis": {
                        "backgroundcolor": "#E5ECF6",
                        "gridcolor": "white",
                        "gridwidth": 2,
                        "linecolor": "white",
                        "showbackground": true,
                        "ticks": "",
                        "zerolinecolor": "white"
                      },
                      "yaxis": {
                        "backgroundcolor": "#E5ECF6",
                        "gridcolor": "white",
                        "gridwidth": 2,
                        "linecolor": "white",
                        "showbackground": true,
                        "ticks": "",
                        "zerolinecolor": "white"
                      },
                      "zaxis": {
                        "backgroundcolor": "#E5ECF6",
                        "gridcolor": "white",
                        "gridwidth": 2,
                        "linecolor": "white",
                        "showbackground": true,
                        "ticks": "",
                        "zerolinecolor": "white"
                      }
                    },
                    "shapedefaults": {
                      "line": {
                        "color": "#2a3f5f"
                      }
                    },
                    "ternary": {
                      "aaxis": {
                        "gridcolor": "white",
                        "linecolor": "white",
                        "ticks": ""
                      },
                      "baxis": {
                        "gridcolor": "white",
                        "linecolor": "white",
                        "ticks": ""
                      },
                      "bgcolor": "#E5ECF6",
                      "caxis": {
                        "gridcolor": "white",
                        "linecolor": "white",
                        "ticks": ""
                      }
                    },
                    "title": {
                      "x": 0.05
                    },
                    "xaxis": {
                      "automargin": true,
                      "gridcolor": "white",
                      "linecolor": "white",
                      "ticks": "",
                      "title": {
                        "standoff": 15
                      },
                      "zerolinecolor": "white",
                      "zerolinewidth": 2
                    },
                    "yaxis": {
                      "automargin": true,
                      "gridcolor": "white",
                      "linecolor": "white",
                      "ticks": "",
                      "title": {
                        "standoff": 15
                      },
                      "zerolinecolor": "white",
                      "zerolinewidth": 2
                    }
                  }
                },
                "title": {
                  "text": "Bike Rental Trends in Recent Years"
                },
                "xaxis": {
                  "anchor": "y",
                  "domain": [
                    0,
                    1
                  ],
                  "linecolor": "rgb(204, 204, 204)",
                  "linewidth": 2,
                  "mirror": true,
                  "showgrid": false,
                  "showline": true,
                  "title": {
                    "text": ""
                  }
                },
                "yaxis": {
                  "anchor": "x",
                  "domain": [
                    0,
                    1
                  ],
                  "linecolor": "rgb(204, 204, 204)",
                  "linewidth": 2,
                  "mirror": true,
                  "showgrid": false,
                  "showline": true,
                  "title": {
                    "text": "Total Rentals"
                  },
                  "zeroline": false
                }
              }
            }
          },
          "metadata": {},
          "output_type": "display_data"
        }
      ],
      "source": [
        "monthly_rent_df['count'] = monthly_rent_df['casual'] + monthly_rent_df['registered']\n",
        "fig = px.bar(monthly_rent_df,\n",
        "             x='dateday',\n",
        "             y=['casual', 'registered', 'count'],\n",
        "             barmode='group',\n",
        "             color_discrete_sequence=[\"#FF69B4\", \"#00FF00\", \"#0000FF\"],\n",
        "             title=\"Bike Rental Trends in Recent Years\",\n",
        "             labels={'casual': 'Casual Rentals', 'registered': 'Registered Rentals', 'count': 'Total Rides'})\n",
        "\n",
        "# Displaying the figure\n",
        "fig.update_layout(xaxis_title='', yaxis_title='Total Rentals',\n",
        "                  xaxis=dict(showgrid=False, showline=True, linecolor='rgb(204, 204, 204)', linewidth=2, mirror=True),\n",
        "                  yaxis=dict(showgrid=False, zeroline=False, showline=True, linecolor='rgb(204, 204, 204)', linewidth=2, mirror=True),\n",
        "                  plot_bgcolor='rgba(255, 255, 255, 0)',\n",
        "                  showlegend=True,\n",
        "                  legend=dict(orientation=\"h\", yanchor=\"bottom\", y=1.02, xanchor=\"right\", x=1))\n",
        "\n",
        "fig.show()"
      ]
    },
    {
      "cell_type": "markdown",
      "metadata": {
        "id": "KG8vFZUv2Wk1"
      },
      "source": [
        "* Terdapat peningkatan jumlah penyewaan sepeda dari tahun 2011 ke tahun 2012.\n",
        "* Puncak penyewaan terjadi pada September 2012, yang menandakan adanya kemungkinan faktor musiman atau promosi yang menarik perhatian pengguna pada bulan tersebut.\n",
        "* Bulan Januari 2012 mencatat jumlah penyewaan terendah, yang mungkin disebabkan oleh faktor cuaca atau aktivitas pengguna yang cenderung menurun di awal tahun.\n",
        "* Pada tahun 2011, puncak penyewaan terjadi pada Juni, sementara Januari juga tercatat sebagai bulan dengan penyewaan terendah. Ini menunjukkan bahwa terdapat pola musiman dalam penggunaan sepeda, di mana pengguna lebih aktif di bulan-bulan tertentu (seperti Juni dan September).\n",
        "\n",
        "\n"
      ]
    },
    {
      "cell_type": "markdown",
      "metadata": {
        "id": "DgHI7CiU8DC2"
      },
      "source": [
        "### Pertanyaan 2: Apakah kondisi cuaca mempengaruhi jumlah pengguna sepeda?"
      ]
    },
    {
      "cell_type": "code",
      "execution_count": 74,
      "metadata": {
        "colab": {
          "base_uri": "https://localhost:8080/",
          "height": 542
        },
        "id": "Go0lCsvO8DC2",
        "outputId": "827dc219-0cd1-4923-fb4c-cd806b3442b3"
      },
      "outputs": [
        {
          "data": {
            "application/vnd.plotly.v1+json": {
              "config": {
                "plotlyServerURL": "https://plot.ly"
              },
              "data": [
                {
                  "alignmentgroup": "True",
                  "hovertemplate": "Weather Condition=%{x}<br>Total Rentals=%{y}<extra></extra>",
                  "legendgroup": "Misty/Cloudy",
                  "marker": {
                    "color": "#636efa"
                  },
                  "name": "Misty/Cloudy",
                  "notched": false,
                  "offsetgroup": "Misty/Cloudy",
                  "orientation": "v",
                  "showlegend": true,
                  "type": "box",
                  "x": [
                    "Misty/Cloudy",
                    "Misty/Cloudy",
                    "Misty/Cloudy",
                    "Misty/Cloudy",
                    "Misty/Cloudy",
                    "Misty/Cloudy",
                    "Misty/Cloudy",
                    "Misty/Cloudy",
                    "Misty/Cloudy",
                    "Misty/Cloudy",
                    "Misty/Cloudy",
                    "Misty/Cloudy",
                    "Misty/Cloudy",
                    "Misty/Cloudy",
                    "Misty/Cloudy",
                    "Misty/Cloudy",
                    "Misty/Cloudy",
                    "Misty/Cloudy",
                    "Misty/Cloudy",
                    "Misty/Cloudy",
                    "Misty/Cloudy",
                    "Misty/Cloudy",
                    "Misty/Cloudy",
                    "Misty/Cloudy",
                    "Misty/Cloudy",
                    "Misty/Cloudy",
                    "Misty/Cloudy",
                    "Misty/Cloudy",
                    "Misty/Cloudy",
                    "Misty/Cloudy",
                    "Misty/Cloudy",
                    "Misty/Cloudy",
                    "Misty/Cloudy",
                    "Misty/Cloudy",
                    "Misty/Cloudy",
                    "Misty/Cloudy",
                    "Misty/Cloudy",
                    "Misty/Cloudy",
                    "Misty/Cloudy",
                    "Misty/Cloudy",
                    "Misty/Cloudy",
                    "Misty/Cloudy",
                    "Misty/Cloudy",
                    "Misty/Cloudy",
                    "Misty/Cloudy",
                    "Misty/Cloudy",
                    "Misty/Cloudy",
                    "Misty/Cloudy",
                    "Misty/Cloudy",
                    "Misty/Cloudy",
                    "Misty/Cloudy",
                    "Misty/Cloudy",
                    "Misty/Cloudy",
                    "Misty/Cloudy",
                    "Misty/Cloudy",
                    "Misty/Cloudy",
                    "Misty/Cloudy",
                    "Misty/Cloudy",
                    "Misty/Cloudy",
                    "Misty/Cloudy",
                    "Misty/Cloudy",
                    "Misty/Cloudy",
                    "Misty/Cloudy",
                    "Misty/Cloudy",
                    "Misty/Cloudy",
                    "Misty/Cloudy",
                    "Misty/Cloudy",
                    "Misty/Cloudy",
                    "Misty/Cloudy",
                    "Misty/Cloudy",
                    "Misty/Cloudy",
                    "Misty/Cloudy",
                    "Misty/Cloudy",
                    "Misty/Cloudy",
                    "Misty/Cloudy",
                    "Misty/Cloudy",
                    "Misty/Cloudy",
                    "Misty/Cloudy",
                    "Misty/Cloudy",
                    "Misty/Cloudy",
                    "Misty/Cloudy",
                    "Misty/Cloudy",
                    "Misty/Cloudy",
                    "Misty/Cloudy",
                    "Misty/Cloudy",
                    "Misty/Cloudy",
                    "Misty/Cloudy",
                    "Misty/Cloudy",
                    "Misty/Cloudy",
                    "Misty/Cloudy",
                    "Misty/Cloudy",
                    "Misty/Cloudy",
                    "Misty/Cloudy",
                    "Misty/Cloudy",
                    "Misty/Cloudy",
                    "Misty/Cloudy",
                    "Misty/Cloudy",
                    "Misty/Cloudy",
                    "Misty/Cloudy",
                    "Misty/Cloudy",
                    "Misty/Cloudy",
                    "Misty/Cloudy",
                    "Misty/Cloudy",
                    "Misty/Cloudy",
                    "Misty/Cloudy",
                    "Misty/Cloudy",
                    "Misty/Cloudy",
                    "Misty/Cloudy",
                    "Misty/Cloudy",
                    "Misty/Cloudy",
                    "Misty/Cloudy",
                    "Misty/Cloudy",
                    "Misty/Cloudy",
                    "Misty/Cloudy",
                    "Misty/Cloudy",
                    "Misty/Cloudy",
                    "Misty/Cloudy",
                    "Misty/Cloudy",
                    "Misty/Cloudy",
                    "Misty/Cloudy",
                    "Misty/Cloudy",
                    "Misty/Cloudy",
                    "Misty/Cloudy",
                    "Misty/Cloudy",
                    "Misty/Cloudy",
                    "Misty/Cloudy",
                    "Misty/Cloudy",
                    "Misty/Cloudy",
                    "Misty/Cloudy",
                    "Misty/Cloudy",
                    "Misty/Cloudy",
                    "Misty/Cloudy",
                    "Misty/Cloudy",
                    "Misty/Cloudy",
                    "Misty/Cloudy",
                    "Misty/Cloudy",
                    "Misty/Cloudy",
                    "Misty/Cloudy",
                    "Misty/Cloudy",
                    "Misty/Cloudy",
                    "Misty/Cloudy",
                    "Misty/Cloudy",
                    "Misty/Cloudy",
                    "Misty/Cloudy",
                    "Misty/Cloudy",
                    "Misty/Cloudy",
                    "Misty/Cloudy",
                    "Misty/Cloudy",
                    "Misty/Cloudy",
                    "Misty/Cloudy",
                    "Misty/Cloudy",
                    "Misty/Cloudy",
                    "Misty/Cloudy",
                    "Misty/Cloudy",
                    "Misty/Cloudy",
                    "Misty/Cloudy",
                    "Misty/Cloudy",
                    "Misty/Cloudy",
                    "Misty/Cloudy",
                    "Misty/Cloudy",
                    "Misty/Cloudy",
                    "Misty/Cloudy",
                    "Misty/Cloudy",
                    "Misty/Cloudy",
                    "Misty/Cloudy",
                    "Misty/Cloudy",
                    "Misty/Cloudy",
                    "Misty/Cloudy",
                    "Misty/Cloudy",
                    "Misty/Cloudy",
                    "Misty/Cloudy",
                    "Misty/Cloudy",
                    "Misty/Cloudy",
                    "Misty/Cloudy",
                    "Misty/Cloudy",
                    "Misty/Cloudy",
                    "Misty/Cloudy",
                    "Misty/Cloudy",
                    "Misty/Cloudy",
                    "Misty/Cloudy",
                    "Misty/Cloudy",
                    "Misty/Cloudy",
                    "Misty/Cloudy",
                    "Misty/Cloudy",
                    "Misty/Cloudy",
                    "Misty/Cloudy",
                    "Misty/Cloudy",
                    "Misty/Cloudy",
                    "Misty/Cloudy",
                    "Misty/Cloudy",
                    "Misty/Cloudy",
                    "Misty/Cloudy",
                    "Misty/Cloudy",
                    "Misty/Cloudy",
                    "Misty/Cloudy",
                    "Misty/Cloudy",
                    "Misty/Cloudy",
                    "Misty/Cloudy",
                    "Misty/Cloudy",
                    "Misty/Cloudy",
                    "Misty/Cloudy",
                    "Misty/Cloudy",
                    "Misty/Cloudy",
                    "Misty/Cloudy",
                    "Misty/Cloudy",
                    "Misty/Cloudy",
                    "Misty/Cloudy",
                    "Misty/Cloudy",
                    "Misty/Cloudy",
                    "Misty/Cloudy",
                    "Misty/Cloudy",
                    "Misty/Cloudy",
                    "Misty/Cloudy",
                    "Misty/Cloudy",
                    "Misty/Cloudy",
                    "Misty/Cloudy",
                    "Misty/Cloudy",
                    "Misty/Cloudy",
                    "Misty/Cloudy",
                    "Misty/Cloudy",
                    "Misty/Cloudy",
                    "Misty/Cloudy",
                    "Misty/Cloudy",
                    "Misty/Cloudy",
                    "Misty/Cloudy",
                    "Misty/Cloudy",
                    "Misty/Cloudy",
                    "Misty/Cloudy",
                    "Misty/Cloudy",
                    "Misty/Cloudy",
                    "Misty/Cloudy",
                    "Misty/Cloudy",
                    "Misty/Cloudy",
                    "Misty/Cloudy",
                    "Misty/Cloudy",
                    "Misty/Cloudy",
                    "Misty/Cloudy",
                    "Misty/Cloudy",
                    "Misty/Cloudy",
                    "Misty/Cloudy",
                    "Misty/Cloudy",
                    "Misty/Cloudy",
                    "Misty/Cloudy",
                    "Misty/Cloudy",
                    "Misty/Cloudy",
                    "Misty/Cloudy",
                    "Misty/Cloudy"
                  ],
                  "x0": " ",
                  "xaxis": "x",
                  "y": [
                    985,
                    801,
                    1510,
                    959,
                    1263,
                    1248,
                    1000,
                    683,
                    1650,
                    1927,
                    1985,
                    1167,
                    1501,
                    1360,
                    1526,
                    1708,
                    1005,
                    1605,
                    1107,
                    1807,
                    1461,
                    1446,
                    1944,
                    2077,
                    605,
                    1891,
                    1977,
                    2056,
                    2192,
                    2077,
                    2121,
                    1865,
                    1693,
                    1536,
                    2227,
                    2252,
                    1795,
                    1471,
                    2455,
                    2895,
                    3348,
                    2034,
                    2162,
                    3204,
                    1683,
                    4036,
                    4191,
                    3872,
                    4058,
                    3351,
                    4401,
                    4451,
                    2633,
                    4105,
                    3409,
                    4553,
                    4123,
                    3855,
                    4575,
                    4274,
                    4492,
                    3974,
                    4906,
                    3915,
                    3767,
                    4744,
                    4010,
                    4835,
                    4790,
                    4708,
                    4649,
                    6043,
                    4040,
                    3784,
                    3574,
                    4576,
                    4294,
                    4150,
                    3820,
                    4153,
                    3542,
                    1115,
                    4727,
                    3351,
                    3544,
                    3659,
                    4760,
                    4511,
                    4539,
                    3641,
                    4352,
                    4795,
                    2395,
                    5423,
                    5010,
                    4630,
                    4120,
                    3907,
                    2429,
                    2918,
                    3570,
                    4563,
                    2913,
                    3644,
                    4748,
                    3894,
                    2659,
                    3747,
                    4046,
                    2933,
                    4195,
                    3053,
                    3520,
                    2566,
                    2914,
                    3811,
                    3740,
                    3709,
                    3577,
                    2739,
                    3750,
                    2660,
                    3068,
                    1162,
                    2368,
                    2376,
                    2177,
                    4097,
                    2935,
                    3163,
                    1301,
                    1977,
                    2432,
                    4075,
                    3456,
                    3761,
                    2832,
                    2947,
                    2802,
                    3831,
                    3922,
                    3005,
                    2689,
                    3487,
                    1834,
                    3194,
                    4066,
                    4569,
                    4378,
                    7836,
                    5892,
                    6230,
                    8362,
                    3372,
                    4996,
                    5459,
                    6235,
                    6041,
                    4367,
                    3214,
                    5026,
                    4220,
                    5572,
                    5740,
                    6421,
                    6883,
                    6359,
                    6273,
                    5728,
                    4717,
                    2843,
                    5115,
                    4359,
                    6073,
                    5260,
                    6855,
                    4127,
                    7001,
                    6664,
                    4972,
                    5099,
                    6569,
                    6290,
                    7499,
                    6969,
                    5870,
                    7410,
                    7175,
                    7013,
                    7273,
                    7534,
                    5786,
                    6299,
                    4549,
                    6530,
                    7582,
                    6053,
                    5255,
                    6140,
                    5810,
                    6203,
                    5976,
                    6869,
                    4073,
                    7393,
                    7415,
                    6778,
                    7572,
                    7328,
                    3510,
                    5478,
                    6392,
                    5875,
                    7509,
                    5424,
                    7359,
                    7444,
                    7852,
                    4459,
                    1096,
                    5566,
                    5986,
                    5138,
                    5035,
                    4094,
                    5445,
                    5499,
                    5634,
                    3959,
                    5191,
                    4649,
                    5008,
                    5582,
                    3228,
                    5170,
                    5501,
                    5319,
                    3786,
                    4585,
                    4128,
                    3623,
                    920,
                    1013,
                    2114,
                    3095,
                    1341,
                    2729
                  ],
                  "y0": " ",
                  "yaxis": "y"
                },
                {
                  "alignmentgroup": "True",
                  "hovertemplate": "Weather Condition=%{x}<br>Total Rentals=%{y}<extra></extra>",
                  "legendgroup": "Clear/Partly Cloudy",
                  "marker": {
                    "color": "#EF553B"
                  },
                  "name": "Clear/Partly Cloudy",
                  "notched": false,
                  "offsetgroup": "Clear/Partly Cloudy",
                  "orientation": "v",
                  "showlegend": true,
                  "type": "box",
                  "x": [
                    "Clear/Partly Cloudy",
                    "Clear/Partly Cloudy",
                    "Clear/Partly Cloudy",
                    "Clear/Partly Cloudy",
                    "Clear/Partly Cloudy",
                    "Clear/Partly Cloudy",
                    "Clear/Partly Cloudy",
                    "Clear/Partly Cloudy",
                    "Clear/Partly Cloudy",
                    "Clear/Partly Cloudy",
                    "Clear/Partly Cloudy",
                    "Clear/Partly Cloudy",
                    "Clear/Partly Cloudy",
                    "Clear/Partly Cloudy",
                    "Clear/Partly Cloudy",
                    "Clear/Partly Cloudy",
                    "Clear/Partly Cloudy",
                    "Clear/Partly Cloudy",
                    "Clear/Partly Cloudy",
                    "Clear/Partly Cloudy",
                    "Clear/Partly Cloudy",
                    "Clear/Partly Cloudy",
                    "Clear/Partly Cloudy",
                    "Clear/Partly Cloudy",
                    "Clear/Partly Cloudy",
                    "Clear/Partly Cloudy",
                    "Clear/Partly Cloudy",
                    "Clear/Partly Cloudy",
                    "Clear/Partly Cloudy",
                    "Clear/Partly Cloudy",
                    "Clear/Partly Cloudy",
                    "Clear/Partly Cloudy",
                    "Clear/Partly Cloudy",
                    "Clear/Partly Cloudy",
                    "Clear/Partly Cloudy",
                    "Clear/Partly Cloudy",
                    "Clear/Partly Cloudy",
                    "Clear/Partly Cloudy",
                    "Clear/Partly Cloudy",
                    "Clear/Partly Cloudy",
                    "Clear/Partly Cloudy",
                    "Clear/Partly Cloudy",
                    "Clear/Partly Cloudy",
                    "Clear/Partly Cloudy",
                    "Clear/Partly Cloudy",
                    "Clear/Partly Cloudy",
                    "Clear/Partly Cloudy",
                    "Clear/Partly Cloudy",
                    "Clear/Partly Cloudy",
                    "Clear/Partly Cloudy",
                    "Clear/Partly Cloudy",
                    "Clear/Partly Cloudy",
                    "Clear/Partly Cloudy",
                    "Clear/Partly Cloudy",
                    "Clear/Partly Cloudy",
                    "Clear/Partly Cloudy",
                    "Clear/Partly Cloudy",
                    "Clear/Partly Cloudy",
                    "Clear/Partly Cloudy",
                    "Clear/Partly Cloudy",
                    "Clear/Partly Cloudy",
                    "Clear/Partly Cloudy",
                    "Clear/Partly Cloudy",
                    "Clear/Partly Cloudy",
                    "Clear/Partly Cloudy",
                    "Clear/Partly Cloudy",
                    "Clear/Partly Cloudy",
                    "Clear/Partly Cloudy",
                    "Clear/Partly Cloudy",
                    "Clear/Partly Cloudy",
                    "Clear/Partly Cloudy",
                    "Clear/Partly Cloudy",
                    "Clear/Partly Cloudy",
                    "Clear/Partly Cloudy",
                    "Clear/Partly Cloudy",
                    "Clear/Partly Cloudy",
                    "Clear/Partly Cloudy",
                    "Clear/Partly Cloudy",
                    "Clear/Partly Cloudy",
                    "Clear/Partly Cloudy",
                    "Clear/Partly Cloudy",
                    "Clear/Partly Cloudy",
                    "Clear/Partly Cloudy",
                    "Clear/Partly Cloudy",
                    "Clear/Partly Cloudy",
                    "Clear/Partly Cloudy",
                    "Clear/Partly Cloudy",
                    "Clear/Partly Cloudy",
                    "Clear/Partly Cloudy",
                    "Clear/Partly Cloudy",
                    "Clear/Partly Cloudy",
                    "Clear/Partly Cloudy",
                    "Clear/Partly Cloudy",
                    "Clear/Partly Cloudy",
                    "Clear/Partly Cloudy",
                    "Clear/Partly Cloudy",
                    "Clear/Partly Cloudy",
                    "Clear/Partly Cloudy",
                    "Clear/Partly Cloudy",
                    "Clear/Partly Cloudy",
                    "Clear/Partly Cloudy",
                    "Clear/Partly Cloudy",
                    "Clear/Partly Cloudy",
                    "Clear/Partly Cloudy",
                    "Clear/Partly Cloudy",
                    "Clear/Partly Cloudy",
                    "Clear/Partly Cloudy",
                    "Clear/Partly Cloudy",
                    "Clear/Partly Cloudy",
                    "Clear/Partly Cloudy",
                    "Clear/Partly Cloudy",
                    "Clear/Partly Cloudy",
                    "Clear/Partly Cloudy",
                    "Clear/Partly Cloudy",
                    "Clear/Partly Cloudy",
                    "Clear/Partly Cloudy",
                    "Clear/Partly Cloudy",
                    "Clear/Partly Cloudy",
                    "Clear/Partly Cloudy",
                    "Clear/Partly Cloudy",
                    "Clear/Partly Cloudy",
                    "Clear/Partly Cloudy",
                    "Clear/Partly Cloudy",
                    "Clear/Partly Cloudy",
                    "Clear/Partly Cloudy",
                    "Clear/Partly Cloudy",
                    "Clear/Partly Cloudy",
                    "Clear/Partly Cloudy",
                    "Clear/Partly Cloudy",
                    "Clear/Partly Cloudy",
                    "Clear/Partly Cloudy",
                    "Clear/Partly Cloudy",
                    "Clear/Partly Cloudy",
                    "Clear/Partly Cloudy",
                    "Clear/Partly Cloudy",
                    "Clear/Partly Cloudy",
                    "Clear/Partly Cloudy",
                    "Clear/Partly Cloudy",
                    "Clear/Partly Cloudy",
                    "Clear/Partly Cloudy",
                    "Clear/Partly Cloudy",
                    "Clear/Partly Cloudy",
                    "Clear/Partly Cloudy",
                    "Clear/Partly Cloudy",
                    "Clear/Partly Cloudy",
                    "Clear/Partly Cloudy",
                    "Clear/Partly Cloudy",
                    "Clear/Partly Cloudy",
                    "Clear/Partly Cloudy",
                    "Clear/Partly Cloudy",
                    "Clear/Partly Cloudy",
                    "Clear/Partly Cloudy",
                    "Clear/Partly Cloudy",
                    "Clear/Partly Cloudy",
                    "Clear/Partly Cloudy",
                    "Clear/Partly Cloudy",
                    "Clear/Partly Cloudy",
                    "Clear/Partly Cloudy",
                    "Clear/Partly Cloudy",
                    "Clear/Partly Cloudy",
                    "Clear/Partly Cloudy",
                    "Clear/Partly Cloudy",
                    "Clear/Partly Cloudy",
                    "Clear/Partly Cloudy",
                    "Clear/Partly Cloudy",
                    "Clear/Partly Cloudy",
                    "Clear/Partly Cloudy",
                    "Clear/Partly Cloudy",
                    "Clear/Partly Cloudy",
                    "Clear/Partly Cloudy",
                    "Clear/Partly Cloudy",
                    "Clear/Partly Cloudy",
                    "Clear/Partly Cloudy",
                    "Clear/Partly Cloudy",
                    "Clear/Partly Cloudy",
                    "Clear/Partly Cloudy",
                    "Clear/Partly Cloudy",
                    "Clear/Partly Cloudy",
                    "Clear/Partly Cloudy",
                    "Clear/Partly Cloudy",
                    "Clear/Partly Cloudy",
                    "Clear/Partly Cloudy",
                    "Clear/Partly Cloudy",
                    "Clear/Partly Cloudy",
                    "Clear/Partly Cloudy",
                    "Clear/Partly Cloudy",
                    "Clear/Partly Cloudy",
                    "Clear/Partly Cloudy",
                    "Clear/Partly Cloudy",
                    "Clear/Partly Cloudy",
                    "Clear/Partly Cloudy",
                    "Clear/Partly Cloudy",
                    "Clear/Partly Cloudy",
                    "Clear/Partly Cloudy",
                    "Clear/Partly Cloudy",
                    "Clear/Partly Cloudy",
                    "Clear/Partly Cloudy",
                    "Clear/Partly Cloudy",
                    "Clear/Partly Cloudy",
                    "Clear/Partly Cloudy",
                    "Clear/Partly Cloudy",
                    "Clear/Partly Cloudy",
                    "Clear/Partly Cloudy",
                    "Clear/Partly Cloudy",
                    "Clear/Partly Cloudy",
                    "Clear/Partly Cloudy",
                    "Clear/Partly Cloudy",
                    "Clear/Partly Cloudy",
                    "Clear/Partly Cloudy",
                    "Clear/Partly Cloudy",
                    "Clear/Partly Cloudy",
                    "Clear/Partly Cloudy",
                    "Clear/Partly Cloudy",
                    "Clear/Partly Cloudy",
                    "Clear/Partly Cloudy",
                    "Clear/Partly Cloudy",
                    "Clear/Partly Cloudy",
                    "Clear/Partly Cloudy",
                    "Clear/Partly Cloudy",
                    "Clear/Partly Cloudy",
                    "Clear/Partly Cloudy",
                    "Clear/Partly Cloudy",
                    "Clear/Partly Cloudy",
                    "Clear/Partly Cloudy",
                    "Clear/Partly Cloudy",
                    "Clear/Partly Cloudy",
                    "Clear/Partly Cloudy",
                    "Clear/Partly Cloudy",
                    "Clear/Partly Cloudy",
                    "Clear/Partly Cloudy",
                    "Clear/Partly Cloudy",
                    "Clear/Partly Cloudy",
                    "Clear/Partly Cloudy",
                    "Clear/Partly Cloudy",
                    "Clear/Partly Cloudy",
                    "Clear/Partly Cloudy",
                    "Clear/Partly Cloudy",
                    "Clear/Partly Cloudy",
                    "Clear/Partly Cloudy",
                    "Clear/Partly Cloudy",
                    "Clear/Partly Cloudy",
                    "Clear/Partly Cloudy",
                    "Clear/Partly Cloudy",
                    "Clear/Partly Cloudy",
                    "Clear/Partly Cloudy",
                    "Clear/Partly Cloudy",
                    "Clear/Partly Cloudy",
                    "Clear/Partly Cloudy",
                    "Clear/Partly Cloudy",
                    "Clear/Partly Cloudy",
                    "Clear/Partly Cloudy",
                    "Clear/Partly Cloudy",
                    "Clear/Partly Cloudy",
                    "Clear/Partly Cloudy",
                    "Clear/Partly Cloudy",
                    "Clear/Partly Cloudy",
                    "Clear/Partly Cloudy",
                    "Clear/Partly Cloudy",
                    "Clear/Partly Cloudy",
                    "Clear/Partly Cloudy",
                    "Clear/Partly Cloudy",
                    "Clear/Partly Cloudy",
                    "Clear/Partly Cloudy",
                    "Clear/Partly Cloudy",
                    "Clear/Partly Cloudy",
                    "Clear/Partly Cloudy",
                    "Clear/Partly Cloudy",
                    "Clear/Partly Cloudy",
                    "Clear/Partly Cloudy",
                    "Clear/Partly Cloudy",
                    "Clear/Partly Cloudy",
                    "Clear/Partly Cloudy",
                    "Clear/Partly Cloudy",
                    "Clear/Partly Cloudy",
                    "Clear/Partly Cloudy",
                    "Clear/Partly Cloudy",
                    "Clear/Partly Cloudy",
                    "Clear/Partly Cloudy",
                    "Clear/Partly Cloudy",
                    "Clear/Partly Cloudy",
                    "Clear/Partly Cloudy",
                    "Clear/Partly Cloudy",
                    "Clear/Partly Cloudy",
                    "Clear/Partly Cloudy",
                    "Clear/Partly Cloudy",
                    "Clear/Partly Cloudy",
                    "Clear/Partly Cloudy",
                    "Clear/Partly Cloudy",
                    "Clear/Partly Cloudy",
                    "Clear/Partly Cloudy",
                    "Clear/Partly Cloudy",
                    "Clear/Partly Cloudy",
                    "Clear/Partly Cloudy",
                    "Clear/Partly Cloudy",
                    "Clear/Partly Cloudy",
                    "Clear/Partly Cloudy",
                    "Clear/Partly Cloudy",
                    "Clear/Partly Cloudy",
                    "Clear/Partly Cloudy",
                    "Clear/Partly Cloudy",
                    "Clear/Partly Cloudy",
                    "Clear/Partly Cloudy",
                    "Clear/Partly Cloudy",
                    "Clear/Partly Cloudy",
                    "Clear/Partly Cloudy",
                    "Clear/Partly Cloudy",
                    "Clear/Partly Cloudy",
                    "Clear/Partly Cloudy",
                    "Clear/Partly Cloudy",
                    "Clear/Partly Cloudy",
                    "Clear/Partly Cloudy",
                    "Clear/Partly Cloudy",
                    "Clear/Partly Cloudy",
                    "Clear/Partly Cloudy",
                    "Clear/Partly Cloudy",
                    "Clear/Partly Cloudy",
                    "Clear/Partly Cloudy",
                    "Clear/Partly Cloudy",
                    "Clear/Partly Cloudy",
                    "Clear/Partly Cloudy",
                    "Clear/Partly Cloudy",
                    "Clear/Partly Cloudy",
                    "Clear/Partly Cloudy",
                    "Clear/Partly Cloudy",
                    "Clear/Partly Cloudy",
                    "Clear/Partly Cloudy",
                    "Clear/Partly Cloudy",
                    "Clear/Partly Cloudy",
                    "Clear/Partly Cloudy",
                    "Clear/Partly Cloudy",
                    "Clear/Partly Cloudy",
                    "Clear/Partly Cloudy",
                    "Clear/Partly Cloudy",
                    "Clear/Partly Cloudy",
                    "Clear/Partly Cloudy",
                    "Clear/Partly Cloudy",
                    "Clear/Partly Cloudy",
                    "Clear/Partly Cloudy",
                    "Clear/Partly Cloudy",
                    "Clear/Partly Cloudy",
                    "Clear/Partly Cloudy",
                    "Clear/Partly Cloudy",
                    "Clear/Partly Cloudy",
                    "Clear/Partly Cloudy",
                    "Clear/Partly Cloudy",
                    "Clear/Partly Cloudy",
                    "Clear/Partly Cloudy",
                    "Clear/Partly Cloudy",
                    "Clear/Partly Cloudy",
                    "Clear/Partly Cloudy",
                    "Clear/Partly Cloudy",
                    "Clear/Partly Cloudy",
                    "Clear/Partly Cloudy",
                    "Clear/Partly Cloudy",
                    "Clear/Partly Cloudy",
                    "Clear/Partly Cloudy",
                    "Clear/Partly Cloudy",
                    "Clear/Partly Cloudy",
                    "Clear/Partly Cloudy",
                    "Clear/Partly Cloudy",
                    "Clear/Partly Cloudy",
                    "Clear/Partly Cloudy",
                    "Clear/Partly Cloudy",
                    "Clear/Partly Cloudy",
                    "Clear/Partly Cloudy",
                    "Clear/Partly Cloudy",
                    "Clear/Partly Cloudy",
                    "Clear/Partly Cloudy",
                    "Clear/Partly Cloudy",
                    "Clear/Partly Cloudy",
                    "Clear/Partly Cloudy",
                    "Clear/Partly Cloudy",
                    "Clear/Partly Cloudy",
                    "Clear/Partly Cloudy",
                    "Clear/Partly Cloudy",
                    "Clear/Partly Cloudy",
                    "Clear/Partly Cloudy",
                    "Clear/Partly Cloudy",
                    "Clear/Partly Cloudy",
                    "Clear/Partly Cloudy",
                    "Clear/Partly Cloudy",
                    "Clear/Partly Cloudy",
                    "Clear/Partly Cloudy",
                    "Clear/Partly Cloudy",
                    "Clear/Partly Cloudy",
                    "Clear/Partly Cloudy",
                    "Clear/Partly Cloudy",
                    "Clear/Partly Cloudy",
                    "Clear/Partly Cloudy",
                    "Clear/Partly Cloudy",
                    "Clear/Partly Cloudy",
                    "Clear/Partly Cloudy",
                    "Clear/Partly Cloudy",
                    "Clear/Partly Cloudy",
                    "Clear/Partly Cloudy",
                    "Clear/Partly Cloudy",
                    "Clear/Partly Cloudy",
                    "Clear/Partly Cloudy",
                    "Clear/Partly Cloudy",
                    "Clear/Partly Cloudy",
                    "Clear/Partly Cloudy",
                    "Clear/Partly Cloudy",
                    "Clear/Partly Cloudy",
                    "Clear/Partly Cloudy",
                    "Clear/Partly Cloudy",
                    "Clear/Partly Cloudy",
                    "Clear/Partly Cloudy",
                    "Clear/Partly Cloudy",
                    "Clear/Partly Cloudy",
                    "Clear/Partly Cloudy",
                    "Clear/Partly Cloudy",
                    "Clear/Partly Cloudy",
                    "Clear/Partly Cloudy",
                    "Clear/Partly Cloudy",
                    "Clear/Partly Cloudy",
                    "Clear/Partly Cloudy",
                    "Clear/Partly Cloudy",
                    "Clear/Partly Cloudy",
                    "Clear/Partly Cloudy",
                    "Clear/Partly Cloudy",
                    "Clear/Partly Cloudy",
                    "Clear/Partly Cloudy",
                    "Clear/Partly Cloudy",
                    "Clear/Partly Cloudy",
                    "Clear/Partly Cloudy",
                    "Clear/Partly Cloudy",
                    "Clear/Partly Cloudy",
                    "Clear/Partly Cloudy",
                    "Clear/Partly Cloudy",
                    "Clear/Partly Cloudy",
                    "Clear/Partly Cloudy",
                    "Clear/Partly Cloudy",
                    "Clear/Partly Cloudy",
                    "Clear/Partly Cloudy",
                    "Clear/Partly Cloudy",
                    "Clear/Partly Cloudy",
                    "Clear/Partly Cloudy",
                    "Clear/Partly Cloudy",
                    "Clear/Partly Cloudy",
                    "Clear/Partly Cloudy",
                    "Clear/Partly Cloudy",
                    "Clear/Partly Cloudy",
                    "Clear/Partly Cloudy",
                    "Clear/Partly Cloudy",
                    "Clear/Partly Cloudy",
                    "Clear/Partly Cloudy",
                    "Clear/Partly Cloudy",
                    "Clear/Partly Cloudy",
                    "Clear/Partly Cloudy",
                    "Clear/Partly Cloudy",
                    "Clear/Partly Cloudy",
                    "Clear/Partly Cloudy",
                    "Clear/Partly Cloudy",
                    "Clear/Partly Cloudy",
                    "Clear/Partly Cloudy",
                    "Clear/Partly Cloudy",
                    "Clear/Partly Cloudy",
                    "Clear/Partly Cloudy",
                    "Clear/Partly Cloudy",
                    "Clear/Partly Cloudy",
                    "Clear/Partly Cloudy",
                    "Clear/Partly Cloudy",
                    "Clear/Partly Cloudy"
                  ],
                  "x0": " ",
                  "xaxis": "x",
                  "y": [
                    1349,
                    1562,
                    1600,
                    1606,
                    822,
                    1321,
                    1162,
                    1406,
                    1421,
                    1204,
                    1543,
                    981,
                    986,
                    1416,
                    431,
                    1098,
                    1096,
                    1550,
                    1623,
                    1712,
                    1530,
                    1538,
                    1746,
                    1472,
                    1589,
                    1913,
                    1815,
                    2115,
                    2475,
                    2927,
                    1635,
                    1812,
                    1450,
                    1917,
                    1969,
                    2402,
                    1851,
                    2134,
                    1685,
                    1872,
                    2133,
                    2132,
                    2417,
                    2046,
                    2744,
                    3239,
                    3117,
                    2471,
                    2703,
                    2210,
                    2496,
                    2028,
                    2425,
                    3249,
                    3115,
                    2808,
                    3141,
                    3267,
                    3126,
                    3744,
                    3429,
                    3944,
                    4189,
                    4073,
                    4400,
                    4595,
                    5312,
                    4433,
                    4608,
                    4714,
                    4333,
                    4362,
                    4803,
                    4182,
                    4864,
                    3958,
                    4917,
                    5805,
                    4660,
                    4978,
                    4677,
                    4679,
                    4758,
                    4788,
                    4098,
                    3982,
                    4968,
                    5312,
                    5342,
                    4548,
                    4833,
                    4401,
                    4586,
                    4966,
                    4460,
                    5020,
                    4891,
                    5180,
                    4844,
                    5119,
                    4507,
                    4991,
                    5202,
                    5305,
                    4648,
                    5225,
                    5515,
                    5362,
                    5119,
                    4665,
                    4629,
                    4592,
                    5336,
                    4881,
                    4086,
                    4258,
                    4342,
                    5084,
                    5538,
                    5923,
                    5302,
                    4458,
                    4541,
                    4332,
                    3387,
                    3285,
                    3606,
                    3840,
                    4590,
                    4656,
                    4390,
                    3846,
                    4475,
                    4302,
                    4266,
                    4845,
                    4866,
                    3785,
                    4326,
                    4602,
                    4780,
                    4792,
                    4905,
                    4338,
                    4725,
                    4694,
                    3805,
                    5191,
                    3873,
                    4758,
                    5895,
                    5130,
                    4661,
                    4334,
                    4634,
                    5204,
                    5058,
                    5115,
                    4484,
                    4940,
                    5345,
                    5046,
                    4713,
                    4763,
                    4785,
                    4274,
                    4839,
                    5202,
                    4456,
                    4826,
                    4765,
                    4985,
                    5409,
                    5511,
                    5117,
                    5217,
                    5041,
                    4570,
                    4195,
                    4304,
                    4308,
                    4381,
                    4187,
                    4687,
                    3331,
                    3669,
                    4068,
                    4186,
                    3974,
                    3926,
                    3649,
                    4035,
                    4205,
                    4109,
                    3368,
                    4067,
                    3717,
                    4486,
                    3392,
                    3663,
                    1495,
                    2792,
                    3068,
                    3071,
                    3867,
                    3613,
                    3727,
                    3940,
                    3614,
                    3485,
                    3322,
                    3620,
                    3190,
                    2743,
                    3310,
                    3523,
                    2431,
                    3403,
                    2209,
                    1011,
                    754,
                    1317,
                    2302,
                    2423,
                    2999,
                    2485,
                    2294,
                    1951,
                    2236,
                    3272,
                    4098,
                    4521,
                    3425,
                    3598,
                    3214,
                    2493,
                    2311,
                    2298,
                    3376,
                    3292,
                    4339,
                    4270,
                    4023,
                    3243,
                    3624,
                    4509,
                    4579,
                    4151,
                    3784,
                    4375,
                    3830,
                    1529,
                    3422,
                    4169,
                    4154,
                    4318,
                    3129,
                    3777,
                    4773,
                    5062,
                    2732,
                    3389,
                    4322,
                    4363,
                    4990,
                    3423,
                    3333,
                    3956,
                    4916,
                    5382,
                    4118,
                    4911,
                    5298,
                    5847,
                    6312,
                    6192,
                    6153,
                    6093,
                    6871,
                    5558,
                    5102,
                    5698,
                    6133,
                    5936,
                    6772,
                    6436,
                    6457,
                    6460,
                    6857,
                    5169,
                    5585,
                    5918,
                    4862,
                    5409,
                    6398,
                    7460,
                    7132,
                    6370,
                    6691,
                    6565,
                    7290,
                    6624,
                    5633,
                    6196,
                    6233,
                    6304,
                    6169,
                    6296,
                    6572,
                    7030,
                    7429,
                    6118,
                    7424,
                    7384,
                    7639,
                    8294,
                    7129,
                    6770,
                    6734,
                    6536,
                    6591,
                    6043,
                    5743,
                    7338,
                    8120,
                    7641,
                    6998,
                    7055,
                    7494,
                    7736,
                    7498,
                    6598,
                    7421,
                    7363,
                    7665,
                    7702,
                    6978,
                    6825,
                    6211,
                    5905,
                    5823,
                    7458,
                    6891,
                    6779,
                    7442,
                    7335,
                    6879,
                    5463,
                    5687,
                    5531,
                    6227,
                    6660,
                    7403,
                    6241,
                    6207,
                    4840,
                    4672,
                    7264,
                    7446,
                    6031,
                    6830,
                    6786,
                    5713,
                    6591,
                    6966,
                    7592,
                    8173,
                    6861,
                    6904,
                    6685,
                    6597,
                    7105,
                    7216,
                    7580,
                    7261,
                    6824,
                    5464,
                    7286,
                    6544,
                    6883,
                    6784,
                    7347,
                    7605,
                    7148,
                    7865,
                    7006,
                    7375,
                    7765,
                    6917,
                    7040,
                    7697,
                    7713,
                    7350,
                    6034,
                    6864,
                    7112,
                    7504,
                    8227,
                    7525,
                    7767,
                    7870,
                    7804,
                    8009,
                    8714,
                    7333,
                    7591,
                    7720,
                    8167,
                    8395,
                    7907,
                    7436,
                    7538,
                    7733,
                    8555,
                    6889,
                    8156,
                    7965,
                    7691,
                    7570,
                    7282,
                    7109,
                    6639,
                    7534,
                    7461,
                    8090,
                    6824,
                    7058,
                    7466,
                    7693,
                    5847,
                    5107,
                    5259,
                    5686,
                    5315,
                    5992,
                    6536,
                    6852,
                    6269,
                    5495,
                    5698,
                    5629,
                    4669,
                    5146,
                    2425,
                    3910,
                    2277,
                    2424,
                    5087,
                    5260,
                    5323,
                    5668,
                    6234,
                    6606,
                    5729,
                    5375,
                    5532,
                    5611,
                    5047,
                    5557,
                    5267,
                    1749,
                    1787,
                    1796
                  ],
                  "y0": " ",
                  "yaxis": "y"
                },
                {
                  "alignmentgroup": "True",
                  "hovertemplate": "Weather Condition=%{x}<br>Total Rentals=%{y}<extra></extra>",
                  "legendgroup": "Light Snow/Rain",
                  "marker": {
                    "color": "#00cc96"
                  },
                  "name": "Light Snow/Rain",
                  "notched": false,
                  "offsetgroup": "Light Snow/Rain",
                  "orientation": "v",
                  "showlegend": true,
                  "type": "box",
                  "x": [
                    "Light Snow/Rain",
                    "Light Snow/Rain",
                    "Light Snow/Rain",
                    "Light Snow/Rain",
                    "Light Snow/Rain",
                    "Light Snow/Rain",
                    "Light Snow/Rain",
                    "Light Snow/Rain",
                    "Light Snow/Rain",
                    "Light Snow/Rain",
                    "Light Snow/Rain",
                    "Light Snow/Rain",
                    "Light Snow/Rain",
                    "Light Snow/Rain",
                    "Light Snow/Rain",
                    "Light Snow/Rain",
                    "Light Snow/Rain",
                    "Light Snow/Rain",
                    "Light Snow/Rain",
                    "Light Snow/Rain",
                    "Light Snow/Rain"
                  ],
                  "x0": " ",
                  "xaxis": "x",
                  "y": [
                    506,
                    623,
                    1685,
                    795,
                    2710,
                    1996,
                    1842,
                    2416,
                    2424,
                    627,
                    1817,
                    2765,
                    1607,
                    2594,
                    705,
                    2169,
                    1027,
                    4459,
                    4639,
                    22,
                    441
                  ],
                  "y0": " ",
                  "yaxis": "y"
                }
              ],
              "layout": {
                "boxmode": "overlay",
                "legend": {
                  "title": {
                    "text": "Weather Condition"
                  },
                  "tracegroupgap": 0
                },
                "template": {
                  "data": {
                    "bar": [
                      {
                        "error_x": {
                          "color": "#2a3f5f"
                        },
                        "error_y": {
                          "color": "#2a3f5f"
                        },
                        "marker": {
                          "line": {
                            "color": "#E5ECF6",
                            "width": 0.5
                          },
                          "pattern": {
                            "fillmode": "overlay",
                            "size": 10,
                            "solidity": 0.2
                          }
                        },
                        "type": "bar"
                      }
                    ],
                    "barpolar": [
                      {
                        "marker": {
                          "line": {
                            "color": "#E5ECF6",
                            "width": 0.5
                          },
                          "pattern": {
                            "fillmode": "overlay",
                            "size": 10,
                            "solidity": 0.2
                          }
                        },
                        "type": "barpolar"
                      }
                    ],
                    "carpet": [
                      {
                        "aaxis": {
                          "endlinecolor": "#2a3f5f",
                          "gridcolor": "white",
                          "linecolor": "white",
                          "minorgridcolor": "white",
                          "startlinecolor": "#2a3f5f"
                        },
                        "baxis": {
                          "endlinecolor": "#2a3f5f",
                          "gridcolor": "white",
                          "linecolor": "white",
                          "minorgridcolor": "white",
                          "startlinecolor": "#2a3f5f"
                        },
                        "type": "carpet"
                      }
                    ],
                    "choropleth": [
                      {
                        "colorbar": {
                          "outlinewidth": 0,
                          "ticks": ""
                        },
                        "type": "choropleth"
                      }
                    ],
                    "contour": [
                      {
                        "colorbar": {
                          "outlinewidth": 0,
                          "ticks": ""
                        },
                        "colorscale": [
                          [
                            0,
                            "#0d0887"
                          ],
                          [
                            0.1111111111111111,
                            "#46039f"
                          ],
                          [
                            0.2222222222222222,
                            "#7201a8"
                          ],
                          [
                            0.3333333333333333,
                            "#9c179e"
                          ],
                          [
                            0.4444444444444444,
                            "#bd3786"
                          ],
                          [
                            0.5555555555555556,
                            "#d8576b"
                          ],
                          [
                            0.6666666666666666,
                            "#ed7953"
                          ],
                          [
                            0.7777777777777778,
                            "#fb9f3a"
                          ],
                          [
                            0.8888888888888888,
                            "#fdca26"
                          ],
                          [
                            1,
                            "#f0f921"
                          ]
                        ],
                        "type": "contour"
                      }
                    ],
                    "contourcarpet": [
                      {
                        "colorbar": {
                          "outlinewidth": 0,
                          "ticks": ""
                        },
                        "type": "contourcarpet"
                      }
                    ],
                    "heatmap": [
                      {
                        "colorbar": {
                          "outlinewidth": 0,
                          "ticks": ""
                        },
                        "colorscale": [
                          [
                            0,
                            "#0d0887"
                          ],
                          [
                            0.1111111111111111,
                            "#46039f"
                          ],
                          [
                            0.2222222222222222,
                            "#7201a8"
                          ],
                          [
                            0.3333333333333333,
                            "#9c179e"
                          ],
                          [
                            0.4444444444444444,
                            "#bd3786"
                          ],
                          [
                            0.5555555555555556,
                            "#d8576b"
                          ],
                          [
                            0.6666666666666666,
                            "#ed7953"
                          ],
                          [
                            0.7777777777777778,
                            "#fb9f3a"
                          ],
                          [
                            0.8888888888888888,
                            "#fdca26"
                          ],
                          [
                            1,
                            "#f0f921"
                          ]
                        ],
                        "type": "heatmap"
                      }
                    ],
                    "heatmapgl": [
                      {
                        "colorbar": {
                          "outlinewidth": 0,
                          "ticks": ""
                        },
                        "colorscale": [
                          [
                            0,
                            "#0d0887"
                          ],
                          [
                            0.1111111111111111,
                            "#46039f"
                          ],
                          [
                            0.2222222222222222,
                            "#7201a8"
                          ],
                          [
                            0.3333333333333333,
                            "#9c179e"
                          ],
                          [
                            0.4444444444444444,
                            "#bd3786"
                          ],
                          [
                            0.5555555555555556,
                            "#d8576b"
                          ],
                          [
                            0.6666666666666666,
                            "#ed7953"
                          ],
                          [
                            0.7777777777777778,
                            "#fb9f3a"
                          ],
                          [
                            0.8888888888888888,
                            "#fdca26"
                          ],
                          [
                            1,
                            "#f0f921"
                          ]
                        ],
                        "type": "heatmapgl"
                      }
                    ],
                    "histogram": [
                      {
                        "marker": {
                          "pattern": {
                            "fillmode": "overlay",
                            "size": 10,
                            "solidity": 0.2
                          }
                        },
                        "type": "histogram"
                      }
                    ],
                    "histogram2d": [
                      {
                        "colorbar": {
                          "outlinewidth": 0,
                          "ticks": ""
                        },
                        "colorscale": [
                          [
                            0,
                            "#0d0887"
                          ],
                          [
                            0.1111111111111111,
                            "#46039f"
                          ],
                          [
                            0.2222222222222222,
                            "#7201a8"
                          ],
                          [
                            0.3333333333333333,
                            "#9c179e"
                          ],
                          [
                            0.4444444444444444,
                            "#bd3786"
                          ],
                          [
                            0.5555555555555556,
                            "#d8576b"
                          ],
                          [
                            0.6666666666666666,
                            "#ed7953"
                          ],
                          [
                            0.7777777777777778,
                            "#fb9f3a"
                          ],
                          [
                            0.8888888888888888,
                            "#fdca26"
                          ],
                          [
                            1,
                            "#f0f921"
                          ]
                        ],
                        "type": "histogram2d"
                      }
                    ],
                    "histogram2dcontour": [
                      {
                        "colorbar": {
                          "outlinewidth": 0,
                          "ticks": ""
                        },
                        "colorscale": [
                          [
                            0,
                            "#0d0887"
                          ],
                          [
                            0.1111111111111111,
                            "#46039f"
                          ],
                          [
                            0.2222222222222222,
                            "#7201a8"
                          ],
                          [
                            0.3333333333333333,
                            "#9c179e"
                          ],
                          [
                            0.4444444444444444,
                            "#bd3786"
                          ],
                          [
                            0.5555555555555556,
                            "#d8576b"
                          ],
                          [
                            0.6666666666666666,
                            "#ed7953"
                          ],
                          [
                            0.7777777777777778,
                            "#fb9f3a"
                          ],
                          [
                            0.8888888888888888,
                            "#fdca26"
                          ],
                          [
                            1,
                            "#f0f921"
                          ]
                        ],
                        "type": "histogram2dcontour"
                      }
                    ],
                    "mesh3d": [
                      {
                        "colorbar": {
                          "outlinewidth": 0,
                          "ticks": ""
                        },
                        "type": "mesh3d"
                      }
                    ],
                    "parcoords": [
                      {
                        "line": {
                          "colorbar": {
                            "outlinewidth": 0,
                            "ticks": ""
                          }
                        },
                        "type": "parcoords"
                      }
                    ],
                    "pie": [
                      {
                        "automargin": true,
                        "type": "pie"
                      }
                    ],
                    "scatter": [
                      {
                        "fillpattern": {
                          "fillmode": "overlay",
                          "size": 10,
                          "solidity": 0.2
                        },
                        "type": "scatter"
                      }
                    ],
                    "scatter3d": [
                      {
                        "line": {
                          "colorbar": {
                            "outlinewidth": 0,
                            "ticks": ""
                          }
                        },
                        "marker": {
                          "colorbar": {
                            "outlinewidth": 0,
                            "ticks": ""
                          }
                        },
                        "type": "scatter3d"
                      }
                    ],
                    "scattercarpet": [
                      {
                        "marker": {
                          "colorbar": {
                            "outlinewidth": 0,
                            "ticks": ""
                          }
                        },
                        "type": "scattercarpet"
                      }
                    ],
                    "scattergeo": [
                      {
                        "marker": {
                          "colorbar": {
                            "outlinewidth": 0,
                            "ticks": ""
                          }
                        },
                        "type": "scattergeo"
                      }
                    ],
                    "scattergl": [
                      {
                        "marker": {
                          "colorbar": {
                            "outlinewidth": 0,
                            "ticks": ""
                          }
                        },
                        "type": "scattergl"
                      }
                    ],
                    "scattermapbox": [
                      {
                        "marker": {
                          "colorbar": {
                            "outlinewidth": 0,
                            "ticks": ""
                          }
                        },
                        "type": "scattermapbox"
                      }
                    ],
                    "scatterpolar": [
                      {
                        "marker": {
                          "colorbar": {
                            "outlinewidth": 0,
                            "ticks": ""
                          }
                        },
                        "type": "scatterpolar"
                      }
                    ],
                    "scatterpolargl": [
                      {
                        "marker": {
                          "colorbar": {
                            "outlinewidth": 0,
                            "ticks": ""
                          }
                        },
                        "type": "scatterpolargl"
                      }
                    ],
                    "scatterternary": [
                      {
                        "marker": {
                          "colorbar": {
                            "outlinewidth": 0,
                            "ticks": ""
                          }
                        },
                        "type": "scatterternary"
                      }
                    ],
                    "surface": [
                      {
                        "colorbar": {
                          "outlinewidth": 0,
                          "ticks": ""
                        },
                        "colorscale": [
                          [
                            0,
                            "#0d0887"
                          ],
                          [
                            0.1111111111111111,
                            "#46039f"
                          ],
                          [
                            0.2222222222222222,
                            "#7201a8"
                          ],
                          [
                            0.3333333333333333,
                            "#9c179e"
                          ],
                          [
                            0.4444444444444444,
                            "#bd3786"
                          ],
                          [
                            0.5555555555555556,
                            "#d8576b"
                          ],
                          [
                            0.6666666666666666,
                            "#ed7953"
                          ],
                          [
                            0.7777777777777778,
                            "#fb9f3a"
                          ],
                          [
                            0.8888888888888888,
                            "#fdca26"
                          ],
                          [
                            1,
                            "#f0f921"
                          ]
                        ],
                        "type": "surface"
                      }
                    ],
                    "table": [
                      {
                        "cells": {
                          "fill": {
                            "color": "#EBF0F8"
                          },
                          "line": {
                            "color": "white"
                          }
                        },
                        "header": {
                          "fill": {
                            "color": "#C8D4E3"
                          },
                          "line": {
                            "color": "white"
                          }
                        },
                        "type": "table"
                      }
                    ]
                  },
                  "layout": {
                    "annotationdefaults": {
                      "arrowcolor": "#2a3f5f",
                      "arrowhead": 0,
                      "arrowwidth": 1
                    },
                    "autotypenumbers": "strict",
                    "coloraxis": {
                      "colorbar": {
                        "outlinewidth": 0,
                        "ticks": ""
                      }
                    },
                    "colorscale": {
                      "diverging": [
                        [
                          0,
                          "#8e0152"
                        ],
                        [
                          0.1,
                          "#c51b7d"
                        ],
                        [
                          0.2,
                          "#de77ae"
                        ],
                        [
                          0.3,
                          "#f1b6da"
                        ],
                        [
                          0.4,
                          "#fde0ef"
                        ],
                        [
                          0.5,
                          "#f7f7f7"
                        ],
                        [
                          0.6,
                          "#e6f5d0"
                        ],
                        [
                          0.7,
                          "#b8e186"
                        ],
                        [
                          0.8,
                          "#7fbc41"
                        ],
                        [
                          0.9,
                          "#4d9221"
                        ],
                        [
                          1,
                          "#276419"
                        ]
                      ],
                      "sequential": [
                        [
                          0,
                          "#0d0887"
                        ],
                        [
                          0.1111111111111111,
                          "#46039f"
                        ],
                        [
                          0.2222222222222222,
                          "#7201a8"
                        ],
                        [
                          0.3333333333333333,
                          "#9c179e"
                        ],
                        [
                          0.4444444444444444,
                          "#bd3786"
                        ],
                        [
                          0.5555555555555556,
                          "#d8576b"
                        ],
                        [
                          0.6666666666666666,
                          "#ed7953"
                        ],
                        [
                          0.7777777777777778,
                          "#fb9f3a"
                        ],
                        [
                          0.8888888888888888,
                          "#fdca26"
                        ],
                        [
                          1,
                          "#f0f921"
                        ]
                      ],
                      "sequentialminus": [
                        [
                          0,
                          "#0d0887"
                        ],
                        [
                          0.1111111111111111,
                          "#46039f"
                        ],
                        [
                          0.2222222222222222,
                          "#7201a8"
                        ],
                        [
                          0.3333333333333333,
                          "#9c179e"
                        ],
                        [
                          0.4444444444444444,
                          "#bd3786"
                        ],
                        [
                          0.5555555555555556,
                          "#d8576b"
                        ],
                        [
                          0.6666666666666666,
                          "#ed7953"
                        ],
                        [
                          0.7777777777777778,
                          "#fb9f3a"
                        ],
                        [
                          0.8888888888888888,
                          "#fdca26"
                        ],
                        [
                          1,
                          "#f0f921"
                        ]
                      ]
                    },
                    "colorway": [
                      "#636efa",
                      "#EF553B",
                      "#00cc96",
                      "#ab63fa",
                      "#FFA15A",
                      "#19d3f3",
                      "#FF6692",
                      "#B6E880",
                      "#FF97FF",
                      "#FECB52"
                    ],
                    "font": {
                      "color": "#2a3f5f"
                    },
                    "geo": {
                      "bgcolor": "white",
                      "lakecolor": "white",
                      "landcolor": "#E5ECF6",
                      "showlakes": true,
                      "showland": true,
                      "subunitcolor": "white"
                    },
                    "hoverlabel": {
                      "align": "left"
                    },
                    "hovermode": "closest",
                    "mapbox": {
                      "style": "light"
                    },
                    "paper_bgcolor": "white",
                    "plot_bgcolor": "#E5ECF6",
                    "polar": {
                      "angularaxis": {
                        "gridcolor": "white",
                        "linecolor": "white",
                        "ticks": ""
                      },
                      "bgcolor": "#E5ECF6",
                      "radialaxis": {
                        "gridcolor": "white",
                        "linecolor": "white",
                        "ticks": ""
                      }
                    },
                    "scene": {
                      "xaxis": {
                        "backgroundcolor": "#E5ECF6",
                        "gridcolor": "white",
                        "gridwidth": 2,
                        "linecolor": "white",
                        "showbackground": true,
                        "ticks": "",
                        "zerolinecolor": "white"
                      },
                      "yaxis": {
                        "backgroundcolor": "#E5ECF6",
                        "gridcolor": "white",
                        "gridwidth": 2,
                        "linecolor": "white",
                        "showbackground": true,
                        "ticks": "",
                        "zerolinecolor": "white"
                      },
                      "zaxis": {
                        "backgroundcolor": "#E5ECF6",
                        "gridcolor": "white",
                        "gridwidth": 2,
                        "linecolor": "white",
                        "showbackground": true,
                        "ticks": "",
                        "zerolinecolor": "white"
                      }
                    },
                    "shapedefaults": {
                      "line": {
                        "color": "#2a3f5f"
                      }
                    },
                    "ternary": {
                      "aaxis": {
                        "gridcolor": "white",
                        "linecolor": "white",
                        "ticks": ""
                      },
                      "baxis": {
                        "gridcolor": "white",
                        "linecolor": "white",
                        "ticks": ""
                      },
                      "bgcolor": "#E5ECF6",
                      "caxis": {
                        "gridcolor": "white",
                        "linecolor": "white",
                        "ticks": ""
                      }
                    },
                    "title": {
                      "x": 0.05
                    },
                    "xaxis": {
                      "automargin": true,
                      "gridcolor": "white",
                      "linecolor": "white",
                      "ticks": "",
                      "title": {
                        "standoff": 15
                      },
                      "zerolinecolor": "white",
                      "zerolinewidth": 2
                    },
                    "yaxis": {
                      "automargin": true,
                      "gridcolor": "white",
                      "linecolor": "white",
                      "ticks": "",
                      "title": {
                        "standoff": 15
                      },
                      "zerolinecolor": "white",
                      "zerolinewidth": 2
                    }
                  }
                },
                "title": {
                  "text": "Bike Users Distribution Based on Weather Condition"
                },
                "xaxis": {
                  "anchor": "y",
                  "categoryarray": [
                    "Misty/Cloudy",
                    "Clear/Partly Cloudy",
                    "Light Snow/Rain"
                  ],
                  "categoryorder": "array",
                  "domain": [
                    0,
                    1
                  ],
                  "title": {
                    "text": "Weather Condition"
                  }
                },
                "yaxis": {
                  "anchor": "x",
                  "domain": [
                    0,
                    1
                  ],
                  "title": {
                    "text": "Total Rentals"
                  }
                }
              }
            }
          },
          "metadata": {},
          "output_type": "display_data"
        }
      ],
      "source": [
        "fig = px.box(day_df, x='weathersit', y='count', color='weathersit',\n",
        "             title='Bike Users Distribution Based on Weather Condition',\n",
        "             labels={'weathersit': 'Weather Condition', 'count': 'Total Rentals'})\n",
        "\n",
        "# Display the plot\n",
        "fig.show()"
      ]
    },
    {
      "cell_type": "markdown",
      "metadata": {
        "id": "_0-36BDLklRg"
      },
      "source": [
        "**Insight:**\n",
        "- Berdasarkan hasil box plot, dapat disimpulkan bahwa cuaca yang cerah atau sebagian cerah (\"Clear/Partly Cloudy\") cenderung menarik lebih banyak penyewa sepeda\n",
        "- diikuti oleh kondisi cuaca \"Misty/Cloudy\".\n",
        "- Sementara itu, kondisi cuaca \"Light Snow/Rain\" menunjukkan jumlah penyewa sepeda yang paling sedikit. Temuan ini menunjukkan bahwa cuaca memiliki pengaruh yang signifikan terhadap penggunaan sepeda."
      ]
    },
    {
      "cell_type": "markdown",
      "metadata": {},
      "source": [
        "### Pertanyaan 3: Pukul Berapa jumlah pengguna sepeda tertinggi dan terendah"
      ]
    },
    {
      "cell_type": "code",
      "execution_count": 79,
      "metadata": {},
      "outputs": [
        {
          "data": {
            "text/html": [
              "<div>\n",
              "<style scoped>\n",
              "    .dataframe tbody tr th:only-of-type {\n",
              "        vertical-align: middle;\n",
              "    }\n",
              "\n",
              "    .dataframe tbody tr th {\n",
              "        vertical-align: top;\n",
              "    }\n",
              "\n",
              "    .dataframe thead th {\n",
              "        text-align: right;\n",
              "    }\n",
              "</style>\n",
              "<table border=\"1\" class=\"dataframe\">\n",
              "  <thead>\n",
              "    <tr style=\"text-align: right;\">\n",
              "      <th></th>\n",
              "      <th>hr</th>\n",
              "      <th>count</th>\n",
              "    </tr>\n",
              "  </thead>\n",
              "  <tbody>\n",
              "    <tr>\n",
              "      <th>0</th>\n",
              "      <td>17</td>\n",
              "      <td>336860</td>\n",
              "    </tr>\n",
              "    <tr>\n",
              "      <th>1</th>\n",
              "      <td>18</td>\n",
              "      <td>309772</td>\n",
              "    </tr>\n",
              "    <tr>\n",
              "      <th>2</th>\n",
              "      <td>8</td>\n",
              "      <td>261001</td>\n",
              "    </tr>\n",
              "    <tr>\n",
              "      <th>3</th>\n",
              "      <td>16</td>\n",
              "      <td>227748</td>\n",
              "    </tr>\n",
              "    <tr>\n",
              "      <th>4</th>\n",
              "      <td>19</td>\n",
              "      <td>226789</td>\n",
              "    </tr>\n",
              "    <tr>\n",
              "      <th>5</th>\n",
              "      <td>13</td>\n",
              "      <td>184919</td>\n",
              "    </tr>\n",
              "    <tr>\n",
              "      <th>6</th>\n",
              "      <td>12</td>\n",
              "      <td>184414</td>\n",
              "    </tr>\n",
              "    <tr>\n",
              "      <th>7</th>\n",
              "      <td>15</td>\n",
              "      <td>183149</td>\n",
              "    </tr>\n",
              "    <tr>\n",
              "      <th>8</th>\n",
              "      <td>14</td>\n",
              "      <td>175652</td>\n",
              "    </tr>\n",
              "    <tr>\n",
              "      <th>9</th>\n",
              "      <td>20</td>\n",
              "      <td>164550</td>\n",
              "    </tr>\n",
              "    <tr>\n",
              "      <th>10</th>\n",
              "      <td>9</td>\n",
              "      <td>159438</td>\n",
              "    </tr>\n",
              "    <tr>\n",
              "      <th>11</th>\n",
              "      <td>7</td>\n",
              "      <td>154171</td>\n",
              "    </tr>\n",
              "    <tr>\n",
              "      <th>12</th>\n",
              "      <td>11</td>\n",
              "      <td>151320</td>\n",
              "    </tr>\n",
              "    <tr>\n",
              "      <th>13</th>\n",
              "      <td>10</td>\n",
              "      <td>126257</td>\n",
              "    </tr>\n",
              "    <tr>\n",
              "      <th>14</th>\n",
              "      <td>21</td>\n",
              "      <td>125445</td>\n",
              "    </tr>\n",
              "    <tr>\n",
              "      <th>15</th>\n",
              "      <td>22</td>\n",
              "      <td>95612</td>\n",
              "    </tr>\n",
              "    <tr>\n",
              "      <th>16</th>\n",
              "      <td>23</td>\n",
              "      <td>63941</td>\n",
              "    </tr>\n",
              "    <tr>\n",
              "      <th>17</th>\n",
              "      <td>6</td>\n",
              "      <td>55132</td>\n",
              "    </tr>\n",
              "    <tr>\n",
              "      <th>18</th>\n",
              "      <td>0</td>\n",
              "      <td>39130</td>\n",
              "    </tr>\n",
              "    <tr>\n",
              "      <th>19</th>\n",
              "      <td>1</td>\n",
              "      <td>24164</td>\n",
              "    </tr>\n",
              "    <tr>\n",
              "      <th>20</th>\n",
              "      <td>2</td>\n",
              "      <td>16352</td>\n",
              "    </tr>\n",
              "    <tr>\n",
              "      <th>21</th>\n",
              "      <td>5</td>\n",
              "      <td>14261</td>\n",
              "    </tr>\n",
              "    <tr>\n",
              "      <th>22</th>\n",
              "      <td>3</td>\n",
              "      <td>8174</td>\n",
              "    </tr>\n",
              "    <tr>\n",
              "      <th>23</th>\n",
              "      <td>4</td>\n",
              "      <td>4428</td>\n",
              "    </tr>\n",
              "  </tbody>\n",
              "</table>\n",
              "</div>"
            ],
            "text/plain": [
              "    hr   count\n",
              "0   17  336860\n",
              "1   18  309772\n",
              "2    8  261001\n",
              "3   16  227748\n",
              "4   19  226789\n",
              "5   13  184919\n",
              "6   12  184414\n",
              "7   15  183149\n",
              "8   14  175652\n",
              "9   20  164550\n",
              "10   9  159438\n",
              "11   7  154171\n",
              "12  11  151320\n",
              "13  10  126257\n",
              "14  21  125445\n",
              "15  22   95612\n",
              "16  23   63941\n",
              "17   6   55132\n",
              "18   0   39130\n",
              "19   1   24164\n",
              "20   2   16352\n",
              "21   5   14261\n",
              "22   3    8174\n",
              "23   4    4428"
            ]
          },
          "execution_count": 79,
          "metadata": {},
          "output_type": "execute_result"
        }
      ],
      "source": [
        "sum_byhour_df = hour_df.groupby(\"hr\")[\"count\"].sum().sort_values(ascending=False).reset_index()\n",
        "sum_byhour_df"
      ]
    },
    {
      "cell_type": "code",
      "execution_count": 82,
      "metadata": {},
      "outputs": [
        {
          "data": {
            "image/png": "[encoded data removed]",
            "text/plain": [
              "<Figure size 2400x600 with 2 Axes>"
            ]
          },
          "metadata": {},
          "output_type": "display_data"
        }
      ],
      "source": [
        "fig, ax = plt.subplots(nrows=1, ncols=2, figsize=(24, 6))\n",
        "\n",
        "# First plot: Pelanggan Paling Sedikit\n",
        "sns.barplot(\n",
        "    x=\"hr\", y=\"count\", hue=\"hr\",\n",
        "    data=sum_byhour_df.sort_values(by=\"hr\", ascending=True).head(5), \n",
        "    palette=[\"#D3D3D3\", \"#D3D3D3\", \"#D3D3D3\", \"#D3D3D3\", \"#72BCD4\"], \n",
        "    ax=ax[0], legend=False\n",
        ")\n",
        "ax[0].set_ylabel(None)\n",
        "ax[0].set_xlabel(\"Jam\", fontsize=20)\n",
        "ax[0].yaxis.set_label_position(\"right\")\n",
        "ax[0].set_title(\"Pelanggan Paling Sedikit\", loc=\"center\", fontsize=18)\n",
        "ax[0].tick_params(axis='x', labelsize=20)\n",
        "ax[0].tick_params(axis='y', labelsize=15)\n",
        "\n",
        "# Second plot: Pelanggan Paling Banyak\n",
        "sns.barplot(\n",
        "    x=\"hr\", y=\"count\", hue=\"hr\",\n",
        "    data=sum_byhour_df.head(5), \n",
        "    palette=[\"#D3D3D3\", \"#D3D3D3\", \"#72BCD4\", \"#D3D3D3\", \"#D3D3D3\"], \n",
        "    ax=ax[1], legend=False\n",
        ")\n",
        "ax[1].set_ylabel(None)\n",
        "ax[1].set_xlabel(\"Jam\", fontsize=20)\n",
        "ax[1].set_title(\"Pelanggan Paling Banyak\", loc=\"center\", fontsize=18)\n",
        "ax[1].tick_params(axis='x', labelsize=20)\n",
        "ax[1].tick_params(axis='y', labelsize=15)\n",
        "ax[1].yaxis.tick_right()\n",
        "\n",
        "plt.suptitle(\"Jumlah Pelanggan Berdasarkan Jam\", fontsize=20)\n",
        "plt.show()"
      ]
    },
    {
      "cell_type": "markdown",
      "metadata": {},
      "source": [
        "Visualisasi pertama menampilkan jam-jam dengan jumlah pelanggan paling sedikit, yaitu dari jam 0 hingga jam 4. Dalam plot ini, jam 4 diwarnai biru untuk menandai jam dengan pelanggan paling sedikit, sementara jam lainnya diberi warna abu-abu. Pola ini mencerminkan bahwa aktivitas pelanggan terendah terjadi pada dini hari, dengan jam 4 sebagai titik terendah dalam jumlah pelanggan. Sebaliknya, visualisasi kedua menunjukkan jam-jam dengan jumlah pelanggan terbanyak, yaitu antara jam 8 hingga jam 19, dengan jam 17 ditandai biru sebagai puncak jumlah pelanggan. Plot ini mengindikasikan bahwa aktivitas tertinggi terjadi pada jam-jam sibuk, khususnya jam 17, yang kemungkinan besar terkait dengan jam pulang kerja atau waktu ramai lainnya."
      ]
    },
    {
      "cell_type": "markdown",
      "metadata": {
        "id": "9y4VUsmcYNZ5"
      },
      "source": [
        "## Analisis Lanjutan (Opsional)"
      ]
    },
    {
      "cell_type": "markdown",
      "metadata": {
        "id": "_WeHlCeX8DC2"
      },
      "source": [
        "## Conclusion"
      ]
    },
    {
      "cell_type": "markdown",
      "metadata": {
        "id": "ZTcyR48Y8DC2"
      },
      "source": [
        "-  Conclusion pertanyaan 1: Terdapat peningkatan jumlah penyewaan sepeda dari tahun 2011 ke tahun 2012. Puncak penyewaan terjadi pada September 2012, yang menunjukkan adanya kemungkinan faktor musiman atau promosi yang menarik perhatian pengguna pada bulan tersebut. Bulan Januari 2012 mencatat jumlah penyewaan terendah, yang mungkin dipengaruhi oleh faktor cuaca atau aktivitas pengguna yang cenderung menurun di awal tahun. Pada tahun 2011, puncak penyewaan terjadi pada Juni, sementara Januari juga tercatat sebagai bulan dengan penyewaan terendah.\n",
        "- Conclusion pertanyaan 2: Kondisi cuaca memang mempengaruhi jumlah pengguna sepeda\n",
        "- Conclusion pertanyaan 3 : Visualisasi pertama menampilkan jam-jam dengan jumlah pelanggan paling sedikit, yaitu dari jam 0 hingga jam 4. Pola ini mencerminkan bahwa aktivitas pelanggan terendah terjadi pada dini hari, dengan jam 4 sebagai titik terendah dalam jumlah pelanggan. Sebaliknya, visualisasi kedua menunjukkan jam-jam dengan jumlah pelanggan terbanyak, yaitu antara jam 08:00 hingga jam 19:00, dengan jam 17 ditandai biru sebagai puncak jumlah pelanggan. Plot ini mengindikasikan bahwa aktivitas tertinggi terjadi pada jam-jam sibuk, khususnya jam 17:00, yang kemungkinan besar terkait dengan jam pulang kerja atau waktu ramai lainnya."
      ]
    }
  ],
  "metadata": {
    "colab": {
      "provenance": []
    },
    "kernelspec": {
      "display_name": "Python 3",
      "language": "python",
      "name": "python3"
    },
    "language_info": {
      "codemirror_mode": {
        "name": "ipython",
        "version": 3
      },
      "file_extension": ".py",
      "mimetype": "text/x-python",
      "name": "python",
      "nbconvert_exporter": "python",
      "pygments_lexer": "ipython3",
      "version": "3.11.9"
    },
    "orig_nbformat": 4,
    "vscode": {
      "interpreter": {
        "hash": "972b3bf27e332e87b5379f2791f6ef9dfc79c71018c370b0d7423235e20fe4d7"
      }
    }
  },
  "nbformat": 4,
  "nbformat_minor": 0
}
